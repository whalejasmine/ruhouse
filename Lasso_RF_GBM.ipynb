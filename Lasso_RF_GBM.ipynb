{
 "cells": [
  {
   "cell_type": "code",
   "execution_count": 244,
   "metadata": {
    "collapsed": true
   },
   "outputs": [],
   "source": [
    "import pandas as pd\n",
    "import numpy as np\n",
    "import pylab as plt\n",
    "import matplotlib.pyplot as plt\n",
    "##import xgboost as xgb\n",
    "from sklearn.preprocessing import LabelEncoder\n",
    "from scipy.stats import skew\n",
    "import numpy as np\n",
    "import seaborn as sns\n",
    "from scipy import stats\n",
    "color = sns.color_palette()\n",
    "from sklearn import model_selection, preprocessing\n",
    "import datetime\n",
    "import scipy as sp\n",
    "# Get ready for lots of annoying deprecation warnings\n",
    "import statsmodels.api as sm\n",
    "from sklearn.preprocessing import StandardScaler\n",
    "from sklearn.feature_selection import VarianceThreshold\n",
    "#from sklearn_pandas import DataFrameMapper\n",
    "%matplotlib inline"
   ]
  },
  {
   "cell_type": "code",
   "execution_count": 245,
   "metadata": {
    "collapsed": true
   },
   "outputs": [],
   "source": [
    "def clean_data_macro(df):\n",
    "    # convert object column to numeric\n",
    "    char_columns = (df.dtypes[df.dtypes.map(lambda x : x =='object')]).index\n",
    "    float_columns = (df.dtypes[df.dtypes.map(lambda x : x =='float64')]).index\n",
    "    le=LabelEncoder()\n",
    "    for feature in char_columns:\n",
    "        df[feature]=le.fit_transform(df[feature])\n",
    "    # cvert float64 to float32\n",
    "    df[float_columns]=df[float_columns].astype(np.float32)\n",
    "    df.fillna(df.median(),inplace = True)\n",
    "    return df"
   ]
  },
  {
   "cell_type": "markdown",
   "metadata": {},
   "source": [
    "### Summary Clean for train set"
   ]
  },
  {
   "cell_type": "code",
   "execution_count": 246,
   "metadata": {
    "collapsed": true
   },
   "outputs": [],
   "source": [
    "# drop missing value >0.35 of total observations\n",
    "# keep state and build_year for training data\n",
    "def drop_high_volumn_missing(df):\n",
    "    not_move = [\"build_year\",\"state\"]\n",
    "    high_missing_train_feature= df.columns[df.isnull().sum()>0.35*len(df)].tolist()\n",
    "    \n",
    "    for g in not_move:\n",
    "        if g in high_missing_train_feature:\n",
    "            high_missing_train_feature.remove(g)\n",
    "    df.drop(high_missing_train_feature,axis = 1, inplace=True)    \n",
    "    return df\n",
    "\n",
    "## drop build_ columns: drop na obs or drop columns\n",
    "def drop_build_function(df):\n",
    "    not_move = [\"build_year\"]\n",
    "    build_feature = df.filter(regex=r'^build_count_', axis=1).columns.tolist()\n",
    "    build_feature2 = df.filter(regex=r'^raion_build_count_', axis=1).columns.tolist()\n",
    "    for e in build_feature:\n",
    "        for g in not_move:\n",
    "            if e==g:\n",
    "                high_missing_train_feature.remove(e)\n",
    "    build_feature.extend(build_feature2)\n",
    "    df.drop(build_feature,axis = 1)\n",
    "    return df\n",
    "\n",
    "# remove outliers\n",
    "'''def reject_outliers(df, m = 1):\n",
    "    d = np.abs(df - np.median(df))\n",
    "    mdev = np.median(d)\n",
    "    s = d/mdev if mdev else 0.\n",
    "    return df[s<m]\n",
    "'''\n",
    "def reject_outliers(df, iq_range=0.5):\n",
    "    #df[np.abs(df.Data-df.Data.mean())<=(3*df.Data.std())]\n",
    "    pcnt = (1 - iq_range) / 2\n",
    "    qlow, median, qhigh = df.dropna().quantile([pcnt, 0.50, 1-pcnt])\n",
    "    iqr = qhigh - qlow\n",
    "    return df[ (df - median).abs() <= iqr]\n",
    "\n",
    "def clean_data(df):\n",
    "    #add str feature \n",
    "    #df_all.apartment_name=df_all.sub_area + df_all['metro_km_avto'].astype(str)\n",
    "\n",
    "    # convert object column to numeric\n",
    "    char_columns = (df.dtypes[df.dtypes.map(lambda x : x =='object')]).index\n",
    "    float_columns = (df.dtypes[df.dtypes.map(lambda x : x =='float64')]).index\n",
    "    le=LabelEncoder()\n",
    "    for feature in char_columns:\n",
    "        df[feature]=le.fit_transform(df[feature])\n",
    "    # cvert float64 to float32\n",
    "    df[float_columns]=df[float_columns].astype(np.float32)\n",
    "    return df\n",
    "def handle_missing(df):\n",
    "    # fill build_ and cafe_, state, NA to 0\n",
    "\n",
    "    df.filter(regex=r'^cafe_', axis=1).fillna(0, inplace=True)\n",
    "    #build_feature\n",
    "    not_move = [\"build_year\"]\n",
    "    build_feature = df.filter(regex=r'^build_count_', axis=1).columns.tolist()\n",
    "    build_feature2 = df.filter(regex=r'^raion_build_count_', axis=1).columns.tolist()\n",
    "    for e in build_feature:\n",
    "        for g in not_move:\n",
    "            if e==g:\n",
    "                high_missing_train_feature.remove(e)\n",
    "    build_feature.extend(build_feature2)\n",
    "    #build fill median or 0?\n",
    "    df[build_feature].fillna(df[build_feature].median(),inplace=True)\n",
    "    #fill state\n",
    "    df['state'].fillna(0,inplace=True) \n",
    "    \n",
    "\n",
    "    return df"
   ]
  },
  {
   "cell_type": "code",
   "execution_count": 247,
   "metadata": {
    "collapsed": true
   },
   "outputs": [],
   "source": [
    "# add month year week and other feature\n",
    "def add_feature(df_all):\n",
    "    month_year = (df_all.timestamp.dt.month + df_all.timestamp.dt.year * 100)\n",
    "    month_year_cnt_map = month_year.value_counts().to_dict()\n",
    "    df_all['month_year_cnt'] = month_year.map(month_year_cnt_map)\n",
    "\n",
    "    week_year = (df_all.timestamp.dt.weekofyear + df_all.timestamp.dt.year * 100)\n",
    "    week_year_cnt_map = week_year.value_counts().to_dict()\n",
    "    df_all['week_year_cnt'] = week_year.map(week_year_cnt_map)\n",
    "\n",
    "    df_all['month'] = df_all.timestamp.dt.month\n",
    "    df_all['dow'] = df_all.timestamp.dt.dayofweek\n",
    "\n",
    "    # Other feature engineering\n",
    "    df_all['rel_floor'] = df_all['floor'] / df_all['max_floor'].astype(float)\n",
    "    df_all['rel_kitch_sq'] = df_all['kitch_sq'] / df_all['full_sq'].astype(float)\n",
    "    \n",
    "    df_all['rel_kitch_sq'].fillna(0,inplace=True)\n",
    "    df_all['rel_floor'].fillna(0,inplace=True)\n",
    "    \n",
    "    df_all['room_size'] = df_all['life_sq'] / df_all['num_room'].astype(float)\n",
    "    # df_all.replace(np.inf, np.nan)\n",
    "    ##trainBuild = df_train.dropna()\n",
    "     #3* Polynomials on the top 1 existing features\n",
    "    df_all[\"full_sq-s2\"] = df_all[\"full_sq\"] ** 2\n",
    "    df_all[\"full_sq-s3\"] = df_all[\"full_sq\"] ** 3\n",
    "    df_all[\"full_sq-Sq\"] = np.sqrt(df_all[\"full_sq\"])\n",
    "    df_all[\"yearbuilt\"] = pd.to_numeric(df_all[\"build_year\"].map(lambda x:str(x).split(\".\")[0]),errors='coerce')\n",
    "    # Remove timestamp buildyear column (may overfit the model in train)\n",
    "    #df_all.drop(['timestamp',\"id\"], axis=1, inplace=True)\n",
    "    df_all.apartment_name=df_all.sub_area + df_all['metro_km_avto'].astype(str)\n",
    "    return df_all"
   ]
  },
  {
   "cell_type": "code",
   "execution_count": 248,
   "metadata": {
    "collapsed": true
   },
   "outputs": [],
   "source": [
    "#load files\n",
    "train = pd.read_csv('./data/output/train_clean.csv', parse_dates=['timestamp'])\n",
    "test = pd.read_csv('./data/output/test_clean.csv', parse_dates=['timestamp'])\n",
    "macro_cols = [\"balance_trade\", \"balance_trade_growth\", \"eurrub\", \"average_provision_of_build_contract\",\n",
    "\"micex_rgbi_tr\", \"micex_cbi_tr\", \"deposits_rate\", \"mortgage_value\", \"mortgage_rate\",\n",
    "\"income_per_cap\", \"rent_price_4+room_bus\", \"museum_visitis_per_100_cap\", \"apartment_build\"]\n",
    "macro = pd.read_csv('./data/input/macro.csv',parse_dates=['timestamp']\n",
    "                    ,usecols=['timestamp']+macro_cols)\n",
    "#macros = clean_data_macro(macro) #clean macros\n",
    "num_train = len(train)\n",
    "#id_test = test.id"
   ]
  },
  {
   "cell_type": "code",
   "execution_count": 249,
   "metadata": {},
   "outputs": [
    {
     "data": {
      "text/plain": [
       "0    31\n",
       "1    31\n",
       "2    31\n",
       "3    31\n",
       "4    31\n",
       "Name: month_year_cnt, dtype: int64"
      ]
     },
     "execution_count": 249,
     "metadata": {},
     "output_type": "execute_result"
    }
   ],
   "source": [
    "#impute macro variable\n",
    "month_year = (macro.timestamp.dt.month + macro.timestamp.dt.year * 100)\n",
    "month_year_cnt_map = month_year.value_counts().to_dict()\n",
    "macro['month_year_cnt'] = month_year.map(month_year_cnt_map)\n",
    "macro['month_year_cnt'].head()"
   ]
  },
  {
   "cell_type": "code",
   "execution_count": 250,
   "metadata": {
    "collapsed": true
   },
   "outputs": [],
   "source": [
    "# by monthyear count to compute median \n",
    "macro.fillna(macro.groupby(\"month_year_cnt\").median(),inplace =True )"
   ]
  },
  {
   "cell_type": "code",
   "execution_count": 251,
   "metadata": {
    "collapsed": true
   },
   "outputs": [],
   "source": [
    "# drop month_year_cnt\n",
    "macro.drop([\"month_year_cnt\"], axis=1, inplace=True)"
   ]
  },
  {
   "cell_type": "code",
   "execution_count": 252,
   "metadata": {},
   "outputs": [
    {
     "data": {
      "text/plain": [
       "(2484, 14)"
      ]
     },
     "execution_count": 252,
     "metadata": {},
     "output_type": "execute_result"
    }
   ],
   "source": [
    "macro.shape"
   ]
  },
  {
   "cell_type": "code",
   "execution_count": 253,
   "metadata": {},
   "outputs": [
    {
     "data": {
      "text/plain": [
       "(38058, 292)"
      ]
     },
     "execution_count": 253,
     "metadata": {},
     "output_type": "execute_result"
    }
   ],
   "source": [
    "all = pd.concat(objs=[train,test],axis = 0)\n",
    "all.shape"
   ]
  },
  {
   "cell_type": "code",
   "execution_count": 254,
   "metadata": {},
   "outputs": [
    {
     "data": {
      "text/plain": [
       "(30396, 305)"
      ]
     },
     "execution_count": 254,
     "metadata": {},
     "output_type": "execute_result"
    }
   ],
   "source": [
    "df_train = pd.merge_ordered(train, macro, on='timestamp', how='left')\n",
    "df_train.shape"
   ]
  },
  {
   "cell_type": "code",
   "execution_count": 255,
   "metadata": {},
   "outputs": [
    {
     "data": {
      "text/plain": [
       "(38058, 305)"
      ]
     },
     "execution_count": 255,
     "metadata": {},
     "output_type": "execute_result"
    }
   ],
   "source": [
    "df_all = pd.merge_ordered(all, macro, on='timestamp', how='left')\n",
    "df_all.shape"
   ]
  },
  {
   "cell_type": "code",
   "execution_count": 103,
   "metadata": {},
   "outputs": [
    {
     "name": "stdout",
     "output_type": "stream",
     "text": [
      "Find most important features relative to target\n",
      "price_doc                     1.000000\n",
      "full_sq                       0.616516\n",
      "num_room                      0.490692\n",
      "life_sq                       0.484116\n",
      "kitch_sq                      0.354887\n",
      "sport_count_5000              0.297394\n",
      "sport_count_3000              0.292979\n",
      "trc_count_5000                0.291207\n",
      "sport_count_2000              0.280532\n",
      "office_sqm_5000               0.272362\n",
      "trc_sqm_5000                  0.269786\n",
      "sport_count_1500              0.260777\n",
      "sport_objects_raion           0.255460\n",
      "trc_count_3000                0.244037\n",
      "cafe_count_5000_price_1000    0.242608\n",
      "cafe_count_5000_price_1500    0.234759\n",
      "cafe_count_5000               0.233667\n",
      "cafe_count_5000_na_price      0.232171\n",
      "office_sqm_3000               0.229115\n",
      "cafe_count_5000_price_500     0.229006\n",
      "cafe_count_5000_price_2500    0.227656\n",
      "trc_sqm_3000                  0.227451\n",
      "office_count_5000             0.221321\n",
      "office_sqm_2000               0.218604\n",
      "cafe_count_5000_price_high    0.216587\n",
      "church_count_5000             0.215166\n",
      "cafe_count_5000_price_4000    0.212475\n",
      "leisure_count_5000            0.202340\n",
      "big_church_count_5000         0.200722\n",
      "sport_count_1000              0.200168\n",
      "                                ...   \n",
      "area_m                       -0.168745\n",
      "public_healthcare_km         -0.175718\n",
      "market_shop_km               -0.176520\n",
      "shopping_centers_km          -0.179703\n",
      "metro_km_avto                -0.180590\n",
      "metro_km_walk                -0.184011\n",
      "metro_min_walk               -0.184011\n",
      "park_km                      -0.187633\n",
      "fitness_km                   -0.192657\n",
      "metro_min_avto               -0.193446\n",
      "radiation_km                 -0.193791\n",
      "big_church_km                -0.195145\n",
      "museum_km                    -0.198468\n",
      "exhibition_km                -0.209233\n",
      "workplaces_km                -0.211104\n",
      "thermal_power_plant_km       -0.211585\n",
      "catering_km                  -0.212431\n",
      "swim_pool_km                 -0.213320\n",
      "theater_km                   -0.217582\n",
      "university_km                -0.220146\n",
      "basketball_km                -0.224845\n",
      "office_km                    -0.225174\n",
      "detention_facility_km        -0.225872\n",
      "stadium_km                   -0.238086\n",
      "nuclear_reactor_km           -0.259726\n",
      "ttk_km                       -0.274754\n",
      "bulvar_ring_km               -0.281345\n",
      "kremlin_km                   -0.281400\n",
      "sadovoe_km                   -0.285816\n",
      "zd_vokzaly_avto_km           -0.286216\n",
      "Name: price_doc, Length: 289, dtype: float64\n"
     ]
    }
   ],
   "source": [
    "# Find most important features relative to target\n",
    "print(\"Find most important features relative to target\")\n",
    "corr = df_train.corr()\n",
    "corr.sort_values([\"price_doc\"], ascending = False, inplace = True)\n",
    "print(corr.price_doc)"
   ]
  },
  {
   "cell_type": "code",
   "execution_count": 256,
   "metadata": {},
   "outputs": [
    {
     "name": "stdout",
     "output_type": "stream",
     "text": [
      "(38058, 316)\n"
     ]
    }
   ],
   "source": [
    "dall=add_feature(df_all)\n",
    "print dall.shape"
   ]
  },
  {
   "cell_type": "code",
   "execution_count": 257,
   "metadata": {},
   "outputs": [
    {
     "name": "stdout",
     "output_type": "stream",
     "text": [
      "(38058, 316)\n"
     ]
    }
   ],
   "source": [
    "dall_missing = handle_missing(dall)\n",
    "print dall_missing.shape"
   ]
  },
  {
   "cell_type": "markdown",
   "metadata": {},
   "source": [
    "### Select feature"
   ]
  },
  {
   "cell_type": "code",
   "execution_count": 258,
   "metadata": {},
   "outputs": [
    {
     "data": {
      "text/plain": [
       "(30471, 142)"
      ]
     },
     "execution_count": 258,
     "metadata": {},
     "output_type": "execute_result"
    }
   ],
   "source": [
    "#train low correlated feature or VIF \n",
    "#train_feature = pd.read_csv(\"./data/output/train_feature_multicoliear.csv\")\n",
    "train_feature = pd.read_csv(\"./data/output/train_corr_drop.csv\")# to drop\n",
    "train_feature.shape"
   ]
  },
  {
   "cell_type": "code",
   "execution_count": 259,
   "metadata": {},
   "outputs": [
    {
     "name": "stdout",
     "output_type": "stream",
     "text": [
      "(38058, 174)\n"
     ]
    },
    {
     "data": {
      "text/html": [
       "<div>\n",
       "<style>\n",
       "    .dataframe thead tr:only-child th {\n",
       "        text-align: right;\n",
       "    }\n",
       "\n",
       "    .dataframe thead th {\n",
       "        text-align: left;\n",
       "    }\n",
       "\n",
       "    .dataframe tbody tr th {\n",
       "        vertical-align: top;\n",
       "    }\n",
       "</style>\n",
       "<table border=\"1\" class=\"dataframe\">\n",
       "  <thead>\n",
       "    <tr style=\"text-align: right;\">\n",
       "      <th></th>\n",
       "      <th>0_13_all</th>\n",
       "      <th>0_13_male</th>\n",
       "      <th>ID_big_road1</th>\n",
       "      <th>ID_railroad_station_avto</th>\n",
       "      <th>ID_railroad_station_walk</th>\n",
       "      <th>ID_railroad_terminal</th>\n",
       "      <th>additional_education_km</th>\n",
       "      <th>additional_education_raion</th>\n",
       "      <th>area_m</th>\n",
       "      <th>big_church_count_1000</th>\n",
       "      <th>...</th>\n",
       "      <th>week_year_cnt</th>\n",
       "      <th>month</th>\n",
       "      <th>dow</th>\n",
       "      <th>rel_floor</th>\n",
       "      <th>rel_kitch_sq</th>\n",
       "      <th>room_size</th>\n",
       "      <th>full_sq-s2</th>\n",
       "      <th>full_sq-s3</th>\n",
       "      <th>full_sq-Sq</th>\n",
       "      <th>yearbuilt</th>\n",
       "    </tr>\n",
       "  </thead>\n",
       "  <tbody>\n",
       "    <tr>\n",
       "      <th>0</th>\n",
       "      <td>18654</td>\n",
       "      <td>9709</td>\n",
       "      <td>1</td>\n",
       "      <td>1</td>\n",
       "      <td>1.0</td>\n",
       "      <td>101</td>\n",
       "      <td>0.947962</td>\n",
       "      <td>3</td>\n",
       "      <td>6.407578e+06</td>\n",
       "      <td>1</td>\n",
       "      <td>...</td>\n",
       "      <td>1</td>\n",
       "      <td>8</td>\n",
       "      <td>5</td>\n",
       "      <td>0.0</td>\n",
       "      <td>0.0</td>\n",
       "      <td>NaN</td>\n",
       "      <td>1849.0</td>\n",
       "      <td>79507.0</td>\n",
       "      <td>6.557439</td>\n",
       "      <td>NaN</td>\n",
       "    </tr>\n",
       "    <tr>\n",
       "      <th>1</th>\n",
       "      <td>13729</td>\n",
       "      <td>6929</td>\n",
       "      <td>2</td>\n",
       "      <td>2</td>\n",
       "      <td>2.0</td>\n",
       "      <td>32</td>\n",
       "      <td>1.072315</td>\n",
       "      <td>1</td>\n",
       "      <td>9.589337e+06</td>\n",
       "      <td>1</td>\n",
       "      <td>...</td>\n",
       "      <td>2</td>\n",
       "      <td>8</td>\n",
       "      <td>1</td>\n",
       "      <td>0.0</td>\n",
       "      <td>0.0</td>\n",
       "      <td>NaN</td>\n",
       "      <td>1156.0</td>\n",
       "      <td>39304.0</td>\n",
       "      <td>5.830952</td>\n",
       "      <td>NaN</td>\n",
       "    </tr>\n",
       "    <tr>\n",
       "      <th>2</th>\n",
       "      <td>11252</td>\n",
       "      <td>5916</td>\n",
       "      <td>3</td>\n",
       "      <td>3</td>\n",
       "      <td>3.0</td>\n",
       "      <td>5</td>\n",
       "      <td>0.391957</td>\n",
       "      <td>1</td>\n",
       "      <td>4.808270e+06</td>\n",
       "      <td>0</td>\n",
       "      <td>...</td>\n",
       "      <td>2</td>\n",
       "      <td>8</td>\n",
       "      <td>5</td>\n",
       "      <td>0.0</td>\n",
       "      <td>0.0</td>\n",
       "      <td>NaN</td>\n",
       "      <td>1849.0</td>\n",
       "      <td>79507.0</td>\n",
       "      <td>6.557439</td>\n",
       "      <td>NaN</td>\n",
       "    </tr>\n",
       "    <tr>\n",
       "      <th>3</th>\n",
       "      <td>24934</td>\n",
       "      <td>12782</td>\n",
       "      <td>1</td>\n",
       "      <td>4</td>\n",
       "      <td>4.0</td>\n",
       "      <td>83</td>\n",
       "      <td>0.892674</td>\n",
       "      <td>6</td>\n",
       "      <td>1.258354e+07</td>\n",
       "      <td>0</td>\n",
       "      <td>...</td>\n",
       "      <td>1</td>\n",
       "      <td>9</td>\n",
       "      <td>3</td>\n",
       "      <td>0.0</td>\n",
       "      <td>0.0</td>\n",
       "      <td>NaN</td>\n",
       "      <td>7921.0</td>\n",
       "      <td>704969.0</td>\n",
       "      <td>9.433981</td>\n",
       "      <td>NaN</td>\n",
       "    </tr>\n",
       "    <tr>\n",
       "      <th>4</th>\n",
       "      <td>11631</td>\n",
       "      <td>6223</td>\n",
       "      <td>4</td>\n",
       "      <td>113</td>\n",
       "      <td>5.0</td>\n",
       "      <td>113</td>\n",
       "      <td>0.810801</td>\n",
       "      <td>2</td>\n",
       "      <td>8.398461e+06</td>\n",
       "      <td>7</td>\n",
       "      <td>...</td>\n",
       "      <td>5</td>\n",
       "      <td>9</td>\n",
       "      <td>0</td>\n",
       "      <td>0.0</td>\n",
       "      <td>0.0</td>\n",
       "      <td>NaN</td>\n",
       "      <td>5929.0</td>\n",
       "      <td>456533.0</td>\n",
       "      <td>8.774964</td>\n",
       "      <td>NaN</td>\n",
       "    </tr>\n",
       "  </tbody>\n",
       "</table>\n",
       "<p>5 rows × 174 columns</p>\n",
       "</div>"
      ],
      "text/plain": [
       "   0_13_all  0_13_male  ID_big_road1  ID_railroad_station_avto  \\\n",
       "0     18654       9709             1                         1   \n",
       "1     13729       6929             2                         2   \n",
       "2     11252       5916             3                         3   \n",
       "3     24934      12782             1                         4   \n",
       "4     11631       6223             4                       113   \n",
       "\n",
       "   ID_railroad_station_walk  ID_railroad_terminal  additional_education_km  \\\n",
       "0                       1.0                   101                 0.947962   \n",
       "1                       2.0                    32                 1.072315   \n",
       "2                       3.0                     5                 0.391957   \n",
       "3                       4.0                    83                 0.892674   \n",
       "4                       5.0                   113                 0.810801   \n",
       "\n",
       "   additional_education_raion        area_m  big_church_count_1000    ...      \\\n",
       "0                           3  6.407578e+06                      1    ...       \n",
       "1                           1  9.589337e+06                      1    ...       \n",
       "2                           1  4.808270e+06                      0    ...       \n",
       "3                           6  1.258354e+07                      0    ...       \n",
       "4                           2  8.398461e+06                      7    ...       \n",
       "\n",
       "   week_year_cnt  month dow  rel_floor  rel_kitch_sq  room_size  full_sq-s2  \\\n",
       "0              1      8   5        0.0           0.0        NaN      1849.0   \n",
       "1              2      8   1        0.0           0.0        NaN      1156.0   \n",
       "2              2      8   5        0.0           0.0        NaN      1849.0   \n",
       "3              1      9   3        0.0           0.0        NaN      7921.0   \n",
       "4              5      9   0        0.0           0.0        NaN      5929.0   \n",
       "\n",
       "   full_sq-s3  full_sq-Sq  yearbuilt  \n",
       "0     79507.0    6.557439        NaN  \n",
       "1     39304.0    5.830952        NaN  \n",
       "2     79507.0    6.557439        NaN  \n",
       "3    704969.0    9.433981        NaN  \n",
       "4    456533.0    8.774964        NaN  \n",
       "\n",
       "[5 rows x 174 columns]"
      ]
     },
     "execution_count": 259,
     "metadata": {},
     "output_type": "execute_result"
    }
   ],
   "source": [
    "#readin train set\n",
    "#df_train = pd.read_csv(\"./data/input/train.csv\",parse_dates=['timestamp'],\n",
    "                      #usecols =['timestamp','price_doc','build_year']+train_feature.columns.tolist())\n",
    "#df_train = pd.read_csv(\"./data/input/train.csv\",parse_dates=['timestamp'])\n",
    "feature_drop = train_feature.columns.tolist()\n",
    "y_train =np.log1p(train[\"price_doc\"])\n",
    "xall=dall_missing.drop(feature_drop, axis = 1)\n",
    "print xall.shape\n",
    "xall.head()"
   ]
  },
  {
   "cell_type": "code",
   "execution_count": 260,
   "metadata": {},
   "outputs": [
    {
     "data": {
      "text/html": [
       "<div>\n",
       "<style>\n",
       "    .dataframe thead tr:only-child th {\n",
       "        text-align: right;\n",
       "    }\n",
       "\n",
       "    .dataframe thead th {\n",
       "        text-align: left;\n",
       "    }\n",
       "\n",
       "    .dataframe tbody tr th {\n",
       "        vertical-align: top;\n",
       "    }\n",
       "</style>\n",
       "<table border=\"1\" class=\"dataframe\">\n",
       "  <thead>\n",
       "    <tr style=\"text-align: right;\">\n",
       "      <th></th>\n",
       "      <th>Column Type</th>\n",
       "      <th>Count</th>\n",
       "    </tr>\n",
       "  </thead>\n",
       "  <tbody>\n",
       "    <tr>\n",
       "      <th>0</th>\n",
       "      <td>int64</td>\n",
       "      <td>66</td>\n",
       "    </tr>\n",
       "    <tr>\n",
       "      <th>1</th>\n",
       "      <td>float64</td>\n",
       "      <td>97</td>\n",
       "    </tr>\n",
       "    <tr>\n",
       "      <th>2</th>\n",
       "      <td>datetime64[ns]</td>\n",
       "      <td>1</td>\n",
       "    </tr>\n",
       "    <tr>\n",
       "      <th>3</th>\n",
       "      <td>object</td>\n",
       "      <td>10</td>\n",
       "    </tr>\n",
       "  </tbody>\n",
       "</table>\n",
       "</div>"
      ],
      "text/plain": [
       "      Column Type  Count\n",
       "0           int64     66\n",
       "1         float64     97\n",
       "2  datetime64[ns]      1\n",
       "3          object     10"
      ]
     },
     "execution_count": 260,
     "metadata": {},
     "output_type": "execute_result"
    }
   ],
   "source": [
    "dtype_df = xall.dtypes.reset_index()\n",
    "dtype_df.columns = [\"Count\", \"Column Type\"]\n",
    "dtype_df.groupby(\"Column Type\").aggregate('count').reset_index()"
   ]
  },
  {
   "cell_type": "code",
   "execution_count": 261,
   "metadata": {},
   "outputs": [
    {
     "name": "stdout",
     "output_type": "stream",
     "text": [
      "Numerical features : 161\n",
      "Categorical features : 10\n"
     ]
    }
   ],
   "source": [
    "categorical_features = xall.select_dtypes(include = [\"object\"]).columns\n",
    "numerical_features = xall.select_dtypes(exclude = [\"object\"]).columns\n",
    "numerical_features = numerical_features.drop([\"price_doc\", 'id',\"timestamp\"])\n",
    "print(\"Numerical features : \" + str(len(numerical_features)))\n",
    "print(\"Categorical features : \" + str(len(categorical_features)))\n",
    "all_num = xall[numerical_features]\n",
    "all_cat =xall[categorical_features]"
   ]
  },
  {
   "cell_type": "code",
   "execution_count": 262,
   "metadata": {},
   "outputs": [
    {
     "name": "stdout",
     "output_type": "stream",
     "text": [
      "NAs for numerical features in train and test : 286383\n",
      "Remaining NAs for numerical features in train and test : 0\n"
     ]
    }
   ],
   "source": [
    "# Handle remaining missing values for numerical features by using median as replacement\n",
    "print(\"NAs for numerical features in train and test : \" + str(all_num.isnull().values.sum()))\n",
    "all_num = all_num.fillna(all_num.median())\n",
    "print(\"Remaining NAs for numerical features in train and test : \" + str(all_num.isnull().values.sum()))"
   ]
  },
  {
   "cell_type": "code",
   "execution_count": 263,
   "metadata": {},
   "outputs": [
    {
     "name": "stdout",
     "output_type": "stream",
     "text": [
      "NAs for categorical features in train and test : 0\n",
      "Remaining NAs for categorical features in train and test : 0\n"
     ]
    }
   ],
   "source": [
    "# Create dummy features for categorical values via one-hot encoding\n",
    "print(\"NAs for categorical features in train and test : \" + str(all_cat.isnull().values.sum()))\n",
    "all_cat = pd.get_dummies(all_cat)\n",
    "print(\"Remaining NAs for categorical features in train and test : \" + str(all_cat.isnull().values.sum()))"
   ]
  },
  {
   "cell_type": "code",
   "execution_count": 264,
   "metadata": {},
   "outputs": [
    {
     "name": "stdout",
     "output_type": "stream",
     "text": [
      "(38058, 161)\n",
      "(38058, 167)\n"
     ]
    }
   ],
   "source": [
    "print all_num.shape\n",
    "print all_cat.shape"
   ]
  },
  {
   "cell_type": "code",
   "execution_count": 265,
   "metadata": {},
   "outputs": [
    {
     "name": "stdout",
     "output_type": "stream",
     "text": [
      "150 skewed numerical features to log transform\n"
     ]
    }
   ],
   "source": [
    "# Log transform of the skewed numerical features to lessen impact of outliers\n",
    "# Inspired by Alexandru Papiu's script : https://www.kaggle.com/apapiu/house-prices-advanced-regression-techniques/regularized-linear-models\n",
    "# As a general rule of thumb, a skewness with an absolute value > 0.5 is considered at least moderately skewed\n",
    "from scipy import stats\n",
    "skewness = all_num.apply(lambda x: skew(x))\n",
    "skewness = skewness[abs(skewness) > 0.5]\n",
    "print(str(skewness.shape[0]) + \" skewed numerical features to log transform\")\n",
    "skewed_features = skewness.index\n",
    "all_num[skewed_features] = np.log1p(all_num[skewed_features].apply(lambda x: x-min(x)))"
   ]
  },
  {
   "cell_type": "code",
   "execution_count": 266,
   "metadata": {},
   "outputs": [
    {
     "name": "stdout",
     "output_type": "stream",
     "text": [
      "New number of features : 328\n"
     ]
    }
   ],
   "source": [
    "## Join categorical and numerical features\n",
    "x_all = pd.concat([all_num, all_cat], axis = 1)\n",
    "print(\"New number of features : \" + str(x_all.shape[1]))"
   ]
  },
  {
   "cell_type": "code",
   "execution_count": 267,
   "metadata": {},
   "outputs": [
    {
     "data": {
      "text/html": [
       "<div>\n",
       "<style>\n",
       "    .dataframe thead tr:only-child th {\n",
       "        text-align: right;\n",
       "    }\n",
       "\n",
       "    .dataframe thead th {\n",
       "        text-align: left;\n",
       "    }\n",
       "\n",
       "    .dataframe tbody tr th {\n",
       "        vertical-align: top;\n",
       "    }\n",
       "</style>\n",
       "<table border=\"1\" class=\"dataframe\">\n",
       "  <thead>\n",
       "    <tr style=\"text-align: right;\">\n",
       "      <th></th>\n",
       "      <th>Column Type</th>\n",
       "      <th>Count</th>\n",
       "    </tr>\n",
       "  </thead>\n",
       "  <tbody>\n",
       "    <tr>\n",
       "      <th>0</th>\n",
       "      <td>uint8</td>\n",
       "      <td>167</td>\n",
       "    </tr>\n",
       "    <tr>\n",
       "      <th>1</th>\n",
       "      <td>int64</td>\n",
       "      <td>8</td>\n",
       "    </tr>\n",
       "    <tr>\n",
       "      <th>2</th>\n",
       "      <td>float64</td>\n",
       "      <td>153</td>\n",
       "    </tr>\n",
       "  </tbody>\n",
       "</table>\n",
       "</div>"
      ],
      "text/plain": [
       "  Column Type  Count\n",
       "0       uint8    167\n",
       "1       int64      8\n",
       "2     float64    153"
      ]
     },
     "execution_count": 267,
     "metadata": {},
     "output_type": "execute_result"
    }
   ],
   "source": [
    "dtype_df = x_all.dtypes.reset_index()\n",
    "dtype_df.columns = [\"Count\", \"Column Type\"]\n",
    "dtype_df.groupby(\"Column Type\").aggregate('count').reset_index()"
   ]
  },
  {
   "cell_type": "code",
   "execution_count": 268,
   "metadata": {
    "collapsed": true
   },
   "outputs": [],
   "source": [
    "#split to train and test\n",
    "x_train = x_all[:num_train]\n",
    "x_test = x_all[num_train:]"
   ]
  },
  {
   "cell_type": "code",
   "execution_count": 269,
   "metadata": {
    "collapsed": true
   },
   "outputs": [],
   "source": [
    "x_train.to_csv(\"./data/input/x_train_0.5.csv\")\n",
    "x_test.to_csv(\"./data/input/x_test_0.5.csv\")"
   ]
  },
  {
   "cell_type": "code",
   "execution_count": 22,
   "metadata": {
    "collapsed": true
   },
   "outputs": [],
   "source": [
    "# Remove near zero variance features\n",
    "\n",
    "def get_low_variance_columns(dframe=None, columns=None,\n",
    "                             skip_columns=None, thresh=0.0,\n",
    "                             autoremove=False):\n",
    "    \"\"\"\n",
    "    Wrapper for sklearn VarianceThreshold for use on pandas dataframes.\n",
    "    \"\"\"\n",
    "    print(\"Finding low-variance features.\")\n",
    "    try:\n",
    "        # get list of all the original df columns\n",
    "        all_columns = dframe.columns\n",
    "\n",
    "        # remove `skip_columns`\n",
    "        remaining_columns = all_columns.drop(skip_columns)\n",
    "\n",
    "        # get length of new index\n",
    "        max_index = len(remaining_columns) - 1\n",
    "\n",
    "        # get indices for `skip_columns`\n",
    "        skipped_idx = [all_columns.get_loc(column)\n",
    "                       for column\n",
    "                       in skip_columns]\n",
    "\n",
    "        # adjust insert location by the number of columns removed\n",
    "        # (for non-zero insertion locations) to keep relative\n",
    "        # locations intact\n",
    "        for idx, item in enumerate(skipped_idx):\n",
    "            if item > max_index:\n",
    "                diff = item - max_index\n",
    "                skipped_idx[idx] -= diff\n",
    "            if item == max_index:\n",
    "                diff = item - len(skip_columns)\n",
    "                skipped_idx[idx] -= diff\n",
    "            if idx == 0:\n",
    "                skipped_idx[idx] = item\n",
    "\n",
    "        # get values of `skip_columns`\n",
    "        skipped_values = dframe.iloc[:, skipped_idx].values\n",
    "\n",
    "        # get dataframe values\n",
    "        X = dframe.loc[:, remaining_columns].values\n",
    "\n",
    "        # instantiate VarianceThreshold object\n",
    "        vt = VarianceThreshold(threshold=thresh)\n",
    "\n",
    "        # fit vt to data\n",
    "        vt.fit(X)\n",
    "\n",
    "        # get the indices of the features that are being kept\n",
    "        feature_indices = vt.get_support(indices=True)\n",
    "\n",
    "        # remove low-variance columns from index\n",
    "        feature_names = [remaining_columns[idx]\n",
    "                         for idx, _\n",
    "                         in enumerate(remaining_columns)\n",
    "                         if idx\n",
    "                         in feature_indices]\n",
    "\n",
    "        # get the columns to be removed\n",
    "        \n",
    "        removed_features = list(np.setdiff1d(remaining_columns,\n",
    "                                             feature_names))\n",
    "        print(\"Found {0} low-variance columns.\"\n",
    "              .format(len(removed_features)))\n",
    "\n",
    "        # remove the columns\n",
    "        if autoremove:\n",
    "            print(\"Removing low-variance features.\")\n",
    "            # remove the low-variance columns\n",
    "            X_removed = vt.transform(X)\n",
    "\n",
    "            print(\"Reassembling the dataframe (with low-variance \"\n",
    "                  \"features removed).\")\n",
    "            # re-assemble the dataframe\n",
    "            dframe = pd.DataFrame(data=X_removed,\n",
    "                                  columns=feature_names)\n",
    "\n",
    "            # add back the `skip_columns`\n",
    "            for idx, index in enumerate(skipped_idx):\n",
    "                dframe.insert(loc=index,\n",
    "                              column=skip_columns[idx],\n",
    "                              value=skipped_values[:, idx])\n",
    "            print(\"Succesfully removed low-variance columns.\")\n",
    "\n",
    "        # do not remove columns\n",
    "        else:\n",
    "            print(\"No changes have been made to the dataframe.\")\n",
    "\n",
    "    except Exception as e:\n",
    "        print(e)\n",
    "        print(\"Could not remove low-variance features. Something \"\n",
    "              \"went wrong.\")\n",
    "        pass\n",
    "\n",
    "    return dframe"
   ]
  },
  {
   "cell_type": "code",
   "execution_count": 151,
   "metadata": {
    "collapsed": true
   },
   "outputs": [],
   "source": [
    "#get_low_variance_columns(dframe=x_train_scale, columns=None,\n",
    "  #                           skip_columns=None, thresh=0.1,\n",
    "  #                           autoremove=False)"
   ]
  },
  {
   "cell_type": "markdown",
   "metadata": {},
   "source": [
    "### Ridge & Lasso"
   ]
  },
  {
   "cell_type": "code",
   "execution_count": 29,
   "metadata": {},
   "outputs": [
    {
     "name": "stderr",
     "output_type": "stream",
     "text": [
      "/Users/whalejasmine/anaconda/envs/python2/lib/python2.7/site-packages/sklearn/cross_validation.py:44: DeprecationWarning: This module was deprecated in version 0.18 in favor of the model_selection module into which all the refactored classes and functions are moved. Also note that the interface of the new CV iterators are different from that of this module. This module will be removed in 0.20.\n",
      "  \"This module will be removed in 0.20.\", DeprecationWarning)\n"
     ]
    }
   ],
   "source": [
    "import pandas as pd\n",
    "import numpy as np\n",
    "import matplotlib.pyplot as plt\n",
    "from sklearn.preprocessing import scale\n",
    "from sklearn import cross_validation\n",
    "from sklearn.linear_model import Ridge, RidgeCV, Lasso, LassoCV\n",
    "from sklearn.metrics import mean_squared_error\n",
    "from sklearn.metrics import mean_squared_error, make_scorer\n",
    "from sklearn.model_selection import cross_val_score, train_test_split"
   ]
  },
  {
   "cell_type": "code",
   "execution_count": 30,
   "metadata": {
    "collapsed": true
   },
   "outputs": [],
   "source": [
    "# Define error measure for official scoring : RMSE\n",
    "scorer = make_scorer(mean_squared_error, greater_is_better = False)\n",
    "\n",
    "def rmse_cv_train(model):\n",
    "    rmse= np.sqrt(-cross_val_score(model, train_x, train_y, scoring = scorer, cv = 10))\n",
    "    return(rmse)\n",
    "\n",
    "def rmse_cv_test(model):\n",
    "    rmse= np.sqrt(-cross_val_score(model, test_x, test_y, scoring = scorer, cv = 10))\n",
    "    return(rmse)"
   ]
  },
  {
   "cell_type": "code",
   "execution_count": 153,
   "metadata": {
    "collapsed": true
   },
   "outputs": [],
   "source": [
    "alphas = 10**np.linspace(10,-2,100)*0.5"
   ]
  },
  {
   "cell_type": "code",
   "execution_count": 183,
   "metadata": {},
   "outputs": [
    {
     "data": {
      "text/plain": [
       "(100, 328)"
      ]
     },
     "execution_count": 183,
     "metadata": {},
     "output_type": "execute_result"
    }
   ],
   "source": [
    "ridge = Ridge(normalize=True)\n",
    "coefs = []\n",
    "for a in alphas:\n",
    "    ridge.set_params(alpha=a)\n",
    "    ridge.fit(x_train, y_train)\n",
    "    coefs.append(ridge.coef_)\n",
    "np.shape(coefs)"
   ]
  },
  {
   "cell_type": "code",
   "execution_count": 184,
   "metadata": {},
   "outputs": [
    {
     "data": {
      "text/plain": [
       "<matplotlib.text.Text at 0x10fc1e490>"
      ]
     },
     "execution_count": 184,
     "metadata": {},
     "output_type": "execute_result"
    },
    {
     "data": {
      "image/png": "[encoded data removed]",
      "text/plain": [
       "<matplotlib.figure.Figure at 0x1195b9a10>"
      ]
     },
     "metadata": {},
     "output_type": "display_data"
    }
   ],
   "source": [
    "ax = plt.gca()\n",
    "ax.plot(alphas, coefs)\n",
    "ax.set_xscale('log')\n",
    "plt.axis('tight')\n",
    "plt.xlabel('alpha')\n",
    "plt.ylabel('weights')"
   ]
  },
  {
   "cell_type": "code",
   "execution_count": 185,
   "metadata": {},
   "outputs": [
    {
     "name": "stdout",
     "output_type": "stream",
     "text": [
      "(24316, 328)\n",
      "(6080, 328)\n"
     ]
    }
   ],
   "source": [
    "#split data for training\n",
    "train_x, test_x, train_y, test_y = cross_validation.train_test_split(x_train, y_train, test_size=0.2, random_state=1)\n",
    "print train_x.shape\n",
    "print test_x.shape"
   ]
  },
  {
   "cell_type": "code",
   "execution_count": 118,
   "metadata": {},
   "outputs": [
    {
     "name": "stdout",
     "output_type": "stream",
     "text": [
      "full_sq                                  9.919165e-02\n",
      "life_sq                                  1.295120e-03\n",
      "floor                                    1.845073e-03\n",
      "max_floor                                1.869430e-03\n",
      "material                                 1.229941e-03\n",
      "build_year                               3.411431e-09\n",
      "num_room                                 2.945012e-02\n",
      "kitch_sq                                 5.650685e-03\n",
      "state                                    4.754969e-03\n",
      "sub_area                                -9.736844e-05\n",
      "area_m                                  -1.994952e-03\n",
      "indust_part                             -6.892880e-02\n",
      "preschool_quota                         -9.730115e-07\n",
      "children_school                          1.814653e-03\n",
      "school_quota                             1.494233e-07\n",
      "school_education_centers_raion           1.668060e-03\n",
      "school_education_centers_top_20_raion   -1.280945e-03\n",
      "hospital_beds_raion                      4.232493e-06\n",
      "healthcare_centers_raion                 5.958502e-03\n",
      "university_top_20_raion                  2.095570e-03\n",
      "sport_objects_raion                      3.964153e-03\n",
      "additional_education_raion              -9.833274e-04\n",
      "culture_objects_top_25_raion            -1.021529e-02\n",
      "shopping_centers_raion                   2.663831e-03\n",
      "office_raion                             2.351252e-03\n",
      "thermal_power_plant_raion               -3.162366e-03\n",
      "incineration_raion                       5.767642e-04\n",
      "oil_chemistry_raion                     -2.411072e-02\n",
      "radiation_raion                         -6.981467e-03\n",
      "railroad_terminal_raion                 -1.874321e-02\n",
      "                                             ...     \n",
      "trc_sqm_5000                             1.224312e-03\n",
      "cafe_count_5000_price_high               9.488867e-03\n",
      "mosque_count_5000                        1.269897e-02\n",
      "leisure_count_5000                       3.092048e-03\n",
      "sport_count_5000                         4.410662e-03\n",
      "market_count_5000                        2.974603e-04\n",
      "balance_trade                           -1.868760e-04\n",
      "balance_trade_growth                     1.910450e-04\n",
      "eurrub                                   7.352045e-04\n",
      "average_provision_of_build_contract      3.078468e-02\n",
      "micex_rgbi_tr                           -6.874024e-04\n",
      "micex_cbi_tr                             6.627408e-04\n",
      "deposits_rate                            2.359376e-03\n",
      "mortgage_value                           3.301565e-09\n",
      "mortgage_rate                            8.755194e-03\n",
      "income_per_cap                           1.771949e-07\n",
      "rent_price_4+room_bus                    2.155677e-04\n",
      "museum_visitis_per_100_cap              -4.279150e-06\n",
      "apartment_build                          1.746289e-06\n",
      "month_year_cnt                           1.530160e-05\n",
      "week_year_cnt                            4.254871e-05\n",
      "month                                   -3.702623e-04\n",
      "dow                                     -4.337068e-04\n",
      "rel_floor                                1.544428e-02\n",
      "rel_kitch_sq                             5.492345e-04\n",
      "room_size                                5.456375e-04\n",
      "full_sq-s2                               1.233758e-02\n",
      "full_sq-s3                               2.009615e-03\n",
      "full_sq-Sq                               3.951813e-01\n",
      "yearbuilt                                3.411431e-09\n",
      "Length: 171, dtype: float64\n",
      "0.236955524093\n"
     ]
    }
   ],
   "source": [
    "ridge2 = Ridge(alpha=4, normalize=True)\n",
    "ridge2.fit(train_x, train_y)\n",
    "# Fit a ridge regression on the training data\n",
    "pred2 = ridge2.predict(test_x)\n",
    "# Use this model to predict the test data\n",
    "print(pd.Series(ridge2.coef_, index=x_train.columns))\n",
    "# Print coefficients\n",
    "print(mean_squared_error(test_y, pred2))\n",
    "# Calculate the test MSE"
   ]
  },
  {
   "cell_type": "code",
   "execution_count": 104,
   "metadata": {},
   "outputs": [
    {
     "name": "stdout",
     "output_type": "stream",
     "text": [
      "full_sq                                  1.356908e-12\n",
      "life_sq                                  1.291450e-12\n",
      "floor                                    1.439579e-12\n",
      "max_floor                                1.258937e-12\n",
      "material                                 2.313466e-12\n",
      "build_year                               2.002752e-18\n",
      "num_room                                 3.083828e-11\n",
      "kitch_sq                                 5.030909e-12\n",
      "state                                    6.896931e-12\n",
      "sub_area                                -1.126994e-13\n",
      "area_m                                  -4.598328e-19\n",
      "indust_part                             -3.482245e-11\n",
      "preschool_quota                         -8.615858e-16\n",
      "children_school                          1.937438e-15\n",
      "school_quota                             2.677025e-16\n",
      "school_education_centers_raion           3.029825e-12\n",
      "school_education_centers_top_20_raion    1.369469e-11\n",
      "hospital_beds_raion                      6.915106e-15\n",
      "healthcare_centers_raion                 6.516458e-12\n",
      "university_top_20_raion                  1.544018e-11\n",
      "sport_objects_raion                      1.833415e-12\n",
      "additional_education_raion               1.131293e-12\n",
      "culture_objects_top_25_raion             9.457486e-13\n",
      "shopping_centers_raion                   1.747443e-12\n",
      "office_raion                             2.515951e-13\n",
      "thermal_power_plant_raion                4.283578e-12\n",
      "incineration_raion                      -1.110612e-11\n",
      "oil_chemistry_raion                     -1.530466e-11\n",
      "radiation_raion                          9.101226e-12\n",
      "railroad_terminal_raion                  1.736037e-11\n",
      "                                             ...     \n",
      "sport_count_3000                         7.270030e-13\n",
      "prom_part_5000                           9.731240e-13\n",
      "office_count_5000                        6.325824e-14\n",
      "trc_sqm_5000                             1.300464e-17\n",
      "cafe_count_5000_price_high               1.720105e-12\n",
      "mosque_count_5000                        1.388914e-11\n",
      "leisure_count_5000                       4.255516e-13\n",
      "sport_count_5000                         3.021803e-13\n",
      "market_count_5000                        2.112880e-12\n",
      "balance_trade                            6.069527e-15\n",
      "balance_trade_growth                     2.359627e-13\n",
      "eurrub                                   7.860904e-13\n",
      "average_provision_of_build_contract      3.039634e-11\n",
      "micex_rgbi_tr                           -8.103918e-13\n",
      "micex_cbi_tr                             5.364020e-13\n",
      "deposits_rate                            2.548300e-12\n",
      "mortgage_value                           4.466659e-18\n",
      "mortgage_rate                            6.903967e-12\n",
      "income_per_cap                           1.621888e-16\n",
      "rent_price_4+room_bus                    2.342154e-13\n",
      "museum_visitis_per_100_cap              -3.233147e-14\n",
      "apartment_build                          1.060071e-15\n",
      "month_year_cnt                           1.383597e-14\n",
      "week_year_cnt                            4.219011e-14\n",
      "month                                   -3.154962e-13\n",
      "dow                                     -1.296504e-13\n",
      "rel_floor                                1.444293e-11\n",
      "rel_kitch_sq                            -4.008310e-10\n",
      "room_size                                3.958623e-13\n",
      "yearbuilt                                2.002752e-18\n",
      "dtype: float64\n",
      "0.350679751042\n"
     ]
    }
   ],
   "source": [
    "ridge3 = Ridge(alpha=10**10, normalize=True)\n",
    "ridge3.fit(train_x, train_y)\n",
    "# Fit a ridge regression on the training data\n",
    "pred3 = ridge3.predict(test_x)\n",
    "# Use this model to predict the test data\n",
    "print(pd.Series(ridge3.coef_, index=x_train.columns))\n",
    "# Print coefficients\n",
    "print(mean_squared_error(test_y, pred3))\n",
    "# Calculate the test MSE"
   ]
  },
  {
   "cell_type": "code",
   "execution_count": 186,
   "metadata": {},
   "outputs": [
    {
     "name": "stdout",
     "output_type": "stream",
     "text": [
      "('Best alpha :', 0.0050000000000000001)\n"
     ]
    }
   ],
   "source": [
    "ridgecv = RidgeCV(alphas=alphas, scoring='neg_mean_squared_error', normalize=True)\n",
    "ridgecv.fit(train_x, train_y)\n",
    "alpha = ridgecv.alpha_\n",
    "print(\"Best alpha :\", alpha)"
   ]
  },
  {
   "cell_type": "code",
   "execution_count": 156,
   "metadata": {},
   "outputs": [
    {
     "name": "stdout",
     "output_type": "stream",
     "text": [
      "('Best alpha :', 0.0094500000000000001)\n"
     ]
    }
   ],
   "source": [
    "ridgecv = RidgeCV(alphas = [alpha * .6, alpha * .65, alpha * .7, alpha * .75, alpha * .8, alpha * .85, \n",
    "                          alpha * .9, alpha * .95, alpha, alpha * 1.05, alpha * 1.1, alpha * 1.15,\n",
    "                          alpha * 1.25, alpha * 1.3, alpha * 1.35, alpha * 1.4], \n",
    "                cv = 10)\n",
    "ridgecv.fit(train_x, train_y)\n",
    "alpha = ridgecv.alpha_\n",
    "print(\"Best alpha :\", alpha)"
   ]
  },
  {
   "cell_type": "code",
   "execution_count": 187,
   "metadata": {},
   "outputs": [
    {
     "data": {
      "text/plain": [
       "0.207416142986066"
      ]
     },
     "execution_count": 187,
     "metadata": {},
     "output_type": "execute_result"
    }
   ],
   "source": [
    "ridge4 = Ridge(alpha=ridgecv.alpha_, normalize=True)\n",
    "ridge4.fit(train_x, train_y)\n",
    "mean_squared_error(test_y, ridge4.predict(test_x))"
   ]
  },
  {
   "cell_type": "code",
   "execution_count": 188,
   "metadata": {},
   "outputs": [
    {
     "name": "stdout",
     "output_type": "stream",
     "text": [
      "('Ridge RMSE on Training set :', 0.46296076958827986)\n",
      "('Ridge RMSE on Test set :', 0.46404653575211902)\n"
     ]
    }
   ],
   "source": [
    "print(\"Ridge RMSE on Training set :\", rmse_cv_train(ridge4).mean())\n",
    "print(\"Ridge RMSE on Test set :\", rmse_cv_test(ridge4).mean())\n",
    "y_train_rdg = ridge4.predict(train_x)\n",
    "y_test_rdg = ridge4.predict(test_x)"
   ]
  },
  {
   "cell_type": "code",
   "execution_count": 159,
   "metadata": {},
   "outputs": [
    {
     "name": "stdout",
     "output_type": "stream",
     "text": [
      "[ 0.353053    0.39658272  0.37100857]\n"
     ]
    }
   ],
   "source": [
    "cv_score_vl = cross_validation.cross_val_score(ridge4, test_x, test_y)\n",
    "print cv_score_vl"
   ]
  },
  {
   "cell_type": "code",
   "execution_count": 160,
   "metadata": {},
   "outputs": [
    {
     "data": {
      "image/png": "[encoded data removed]",
      "text/plain": [
       "<matplotlib.figure.Figure at 0x12d89c090>"
      ]
     },
     "metadata": {},
     "output_type": "display_data"
    },
    {
     "data": {
      "image/png": "[encoded data removed]",
      "text/plain": [
       "<matplotlib.figure.Figure at 0x10fc99210>"
      ]
     },
     "metadata": {},
     "output_type": "display_data"
    },
    {
     "name": "stdout",
     "output_type": "stream",
     "text": [
      "Ridge picked 327 features and eliminated the other 1 features\n"
     ]
    },
    {
     "data": {
      "image/png": "[encoded data removed]",
      "text/plain": [
       "<matplotlib.figure.Figure at 0x1100baad0>"
      ]
     },
     "metadata": {},
     "output_type": "display_data"
    }
   ],
   "source": [
    "# Plot residuals\n",
    "plt.scatter(y_train_rdg, y_train_rdg - train_y, c = \"blue\", marker = \"s\", label = \"Training data\")\n",
    "plt.scatter(y_test_rdg, y_test_rdg - test_y, c = \"lightgreen\", marker = \"s\", label = \"Validation data\")\n",
    "plt.title(\"Linear regression with Ridge regularization\")\n",
    "plt.xlabel(\"Predicted values\")\n",
    "plt.ylabel(\"Residuals\")\n",
    "plt.legend(loc = \"upper left\")\n",
    "plt.hlines(y = 0, xmin = 12, xmax = 20, color = \"red\")\n",
    "plt.show()\n",
    "\n",
    "# Plot predictions\n",
    "plt.scatter(y_train_rdg, train_y, c = \"blue\", marker = \"s\", label = \"Training data\")\n",
    "plt.scatter(y_test_rdg, test_y, c = \"lightgreen\", marker = \"s\", label = \"Validation data\")\n",
    "plt.title(\"Linear regression with Ridge regularization\")\n",
    "plt.xlabel(\"Predicted values\")\n",
    "plt.ylabel(\"Real values\")\n",
    "plt.legend(loc = \"upper left\")\n",
    "plt.plot([12, 20], [12, 20], c = \"red\")\n",
    "plt.show()\n",
    "\n",
    "# Plot important coefficients\n",
    "coefs = pd.Series(ridge4.coef_, index = train_x.columns)\n",
    "print(\"Ridge picked \" + str(sum(coefs != 0)) + \" features and eliminated the other \" +  \\\n",
    "      str(sum(coefs == 0)) + \" features\")\n",
    "imp_coefs = pd.concat([coefs.sort_values().head(10),\n",
    "                     coefs.sort_values().tail(10)])\n",
    "imp_coefs.plot(kind = \"barh\")\n",
    "plt.title(\"Coefficients in the Ridge Model\")\n",
    "plt.show()"
   ]
  },
  {
   "cell_type": "markdown",
   "metadata": {},
   "source": [
    "### Lasso"
   ]
  },
  {
   "cell_type": "code",
   "execution_count": 124,
   "metadata": {},
   "outputs": [
    {
     "data": {
      "text/plain": [
       "<matplotlib.text.Text at 0x10e21c990>"
      ]
     },
     "execution_count": 124,
     "metadata": {},
     "output_type": "execute_result"
    },
    {
     "data": {
      "image/png": "[encoded data removed]",
      "text/plain": [
       "<matplotlib.figure.Figure at 0x126b64dd0>"
      ]
     },
     "metadata": {},
     "output_type": "display_data"
    }
   ],
   "source": [
    "lasso = Lasso(max_iter=10000, normalize=True)\n",
    "coefs = []\n",
    "for a in alphas:\n",
    "    lasso.set_params(alpha=a)\n",
    "    lasso.fit(scale(train_x), train_y)\n",
    "    coefs.append(lasso.coef_)\n",
    "ax = plt.gca()\n",
    "ax.plot(alphas*2, coefs)\n",
    "ax.set_xscale('log')\n",
    "plt.axis('tight')\n",
    "plt.xlabel('alpha')\n",
    "plt.ylabel('weights')"
   ]
  },
  {
   "cell_type": "code",
   "execution_count": 191,
   "metadata": {},
   "outputs": [
    {
     "data": {
      "text/plain": [
       "0.20692266599086062"
      ]
     },
     "execution_count": 191,
     "metadata": {},
     "output_type": "execute_result"
    }
   ],
   "source": [
    "lassocv = LassoCV(alphas=None, cv=10, max_iter=100000, normalize=True)\n",
    "lassocv.fit(train_x, train_y)\n",
    "lasso.set_params(alpha=lassocv.alpha_)\n",
    "lasso.fit(train_x, train_y)\n",
    "mean_squared_error(test_y, lasso.predict(test_x))"
   ]
  },
  {
   "cell_type": "code",
   "execution_count": 194,
   "metadata": {
    "scrolled": true
   },
   "outputs": [
    {
     "name": "stdout",
     "output_type": "stream",
     "text": [
      "('Lasso RMSE on Training set :', 0.46227881281924821)\n",
      "('Lasso RMSE on Test set :', 0.46339458785799648)\n"
     ]
    }
   ],
   "source": [
    "print(\"Lasso RMSE on Training set :\", rmse_cv_train(lasso).mean())\n",
    "print(\"Lasso RMSE on Test set :\", rmse_cv_test(lasso).mean())\n",
    "y_train_lasso = lasso.predict(train_x)\n",
    "y_test_lasso = lasso.predict(test_x)"
   ]
  },
  {
   "cell_type": "code",
   "execution_count": 195,
   "metadata": {},
   "outputs": [
    {
     "data": {
      "image/png": "[encoded data removed]",
      "text/plain": [
       "<matplotlib.figure.Figure at 0x115cef450>"
      ]
     },
     "metadata": {},
     "output_type": "display_data"
    },
    {
     "data": {
      "image/png": "[encoded data removed]",
      "text/plain": [
       "<matplotlib.figure.Figure at 0x10de88a50>"
      ]
     },
     "metadata": {},
     "output_type": "display_data"
    },
    {
     "name": "stdout",
     "output_type": "stream",
     "text": [
      "Lasso picked 249 features and eliminated the other 79 features\n"
     ]
    },
    {
     "data": {
      "image/png": "[encoded data removed]",
      "text/plain": [
       "<matplotlib.figure.Figure at 0x11aeedc90>"
      ]
     },
     "metadata": {},
     "output_type": "display_data"
    }
   ],
   "source": [
    "# Plot residuals\n",
    "plt.scatter(y_train_lasso, y_train_lasso - train_y, c = \"blue\", marker = \"s\", label = \"Training data\")\n",
    "plt.scatter(y_test_lasso, y_test_lasso - test_y, c = \"lightgreen\", marker = \"s\", label = \"Validation data\")\n",
    "plt.title(\"Linear regression with Lasso regularization\")\n",
    "plt.xlabel(\"Predicted values\")\n",
    "plt.ylabel(\"Residuals\")\n",
    "plt.legend(loc = \"upper left\")\n",
    "plt.hlines(y = 0, xmin = 12, xmax = 20, color = \"red\")\n",
    "plt.show()\n",
    "\n",
    "# Plot predictions\n",
    "plt.scatter(y_train_lasso, train_y, c = \"blue\", marker = \"s\", label = \"Training data\")\n",
    "plt.scatter(y_test_lasso, test_y, c = \"lightgreen\", marker = \"s\", label = \"Validation data\")\n",
    "plt.title(\"Linear regression with Lasso regularization\")\n",
    "plt.xlabel(\"Predicted values\")\n",
    "plt.ylabel(\"Real values\")\n",
    "plt.legend(loc = \"upper left\")\n",
    "plt.plot([12, 20], [12, 20], c = \"red\")\n",
    "plt.show()\n",
    "\n",
    "# Plot important coefficients\n",
    "coefs = pd.Series(lasso.coef_, index = train_x.columns)\n",
    "print(\"Lasso picked \" + str(sum(coefs != 0)) + \" features and eliminated the other \" +  \\\n",
    "      str(sum(coefs == 0)) + \" features\")\n",
    "imp_coefs = pd.concat([coefs.sort_values().head(10),\n",
    "                     coefs.sort_values().tail(10)])\n",
    "imp_coefs.plot(kind = \"barh\")\n",
    "plt.title(\"Coefficients in the Ridge Model\")\n",
    "plt.show()"
   ]
  },
  {
   "cell_type": "code",
   "execution_count": 128,
   "metadata": {},
   "outputs": [
    {
     "name": "stdout",
     "output_type": "stream",
     "text": [
      "[ 0.3502938   0.39885621  0.36832382]\n"
     ]
    }
   ],
   "source": [
    "cv_score_lasso = cross_validation.cross_val_score(lasso, test_x, test_y)\n",
    "print cv_score_lasso"
   ]
  },
  {
   "cell_type": "markdown",
   "metadata": {},
   "source": [
    "### submission for linear"
   ]
  },
  {
   "cell_type": "code",
   "execution_count": 196,
   "metadata": {},
   "outputs": [
    {
     "data": {
      "text/html": [
       "<div>\n",
       "<style>\n",
       "    .dataframe thead tr:only-child th {\n",
       "        text-align: right;\n",
       "    }\n",
       "\n",
       "    .dataframe thead th {\n",
       "        text-align: left;\n",
       "    }\n",
       "\n",
       "    .dataframe tbody tr th {\n",
       "        vertical-align: top;\n",
       "    }\n",
       "</style>\n",
       "<table border=\"1\" class=\"dataframe\">\n",
       "  <thead>\n",
       "    <tr style=\"text-align: right;\">\n",
       "      <th></th>\n",
       "      <th>id</th>\n",
       "      <th>price_doc</th>\n",
       "    </tr>\n",
       "  </thead>\n",
       "  <tbody>\n",
       "    <tr>\n",
       "      <th>0</th>\n",
       "      <td>30474</td>\n",
       "      <td>5.215930e+06</td>\n",
       "    </tr>\n",
       "    <tr>\n",
       "      <th>1</th>\n",
       "      <td>30475</td>\n",
       "      <td>8.781101e+06</td>\n",
       "    </tr>\n",
       "    <tr>\n",
       "      <th>2</th>\n",
       "      <td>30476</td>\n",
       "      <td>5.256157e+06</td>\n",
       "    </tr>\n",
       "    <tr>\n",
       "      <th>3</th>\n",
       "      <td>30477</td>\n",
       "      <td>7.246039e+06</td>\n",
       "    </tr>\n",
       "    <tr>\n",
       "      <th>4</th>\n",
       "      <td>30478</td>\n",
       "      <td>5.471909e+06</td>\n",
       "    </tr>\n",
       "  </tbody>\n",
       "</table>\n",
       "</div>"
      ],
      "text/plain": [
       "      id     price_doc\n",
       "0  30474  5.215930e+06\n",
       "1  30475  8.781101e+06\n",
       "2  30476  5.256157e+06\n",
       "3  30477  7.246039e+06\n",
       "4  30478  5.471909e+06"
      ]
     },
     "execution_count": 196,
     "metadata": {},
     "output_type": "execute_result"
    }
   ],
   "source": [
    "df_test = pd.read_csv(\"./data/input/test.csv\", usecols =['id'])\n",
    "y_predict = lasso.predict(x_test)\n",
    "p_y =np.exp(y_predict)-1\n",
    "id_test = df_test.id\n",
    "lasso_output = pd.DataFrame({'id': id_test, 'price_doc': p_y})\n",
    "lasso_output.head()"
   ]
  },
  {
   "cell_type": "code",
   "execution_count": 197,
   "metadata": {
    "collapsed": true
   },
   "outputs": [],
   "source": [
    "lasso_output.to_csv('./data/output/lasso_dummy.csv', index=False)"
   ]
  },
  {
   "cell_type": "code",
   "execution_count": 189,
   "metadata": {},
   "outputs": [
    {
     "data": {
      "text/html": [
       "<div>\n",
       "<style>\n",
       "    .dataframe thead tr:only-child th {\n",
       "        text-align: right;\n",
       "    }\n",
       "\n",
       "    .dataframe thead th {\n",
       "        text-align: left;\n",
       "    }\n",
       "\n",
       "    .dataframe tbody tr th {\n",
       "        vertical-align: top;\n",
       "    }\n",
       "</style>\n",
       "<table border=\"1\" class=\"dataframe\">\n",
       "  <thead>\n",
       "    <tr style=\"text-align: right;\">\n",
       "      <th></th>\n",
       "      <th>id</th>\n",
       "      <th>price_doc</th>\n",
       "    </tr>\n",
       "  </thead>\n",
       "  <tbody>\n",
       "    <tr>\n",
       "      <th>0</th>\n",
       "      <td>30474</td>\n",
       "      <td>5.223083e+06</td>\n",
       "    </tr>\n",
       "    <tr>\n",
       "      <th>1</th>\n",
       "      <td>30475</td>\n",
       "      <td>8.763339e+06</td>\n",
       "    </tr>\n",
       "    <tr>\n",
       "      <th>2</th>\n",
       "      <td>30476</td>\n",
       "      <td>5.286910e+06</td>\n",
       "    </tr>\n",
       "    <tr>\n",
       "      <th>3</th>\n",
       "      <td>30477</td>\n",
       "      <td>7.437631e+06</td>\n",
       "    </tr>\n",
       "    <tr>\n",
       "      <th>4</th>\n",
       "      <td>30478</td>\n",
       "      <td>5.484758e+06</td>\n",
       "    </tr>\n",
       "  </tbody>\n",
       "</table>\n",
       "</div>"
      ],
      "text/plain": [
       "      id     price_doc\n",
       "0  30474  5.223083e+06\n",
       "1  30475  8.763339e+06\n",
       "2  30476  5.286910e+06\n",
       "3  30477  7.437631e+06\n",
       "4  30478  5.484758e+06"
      ]
     },
     "execution_count": 189,
     "metadata": {},
     "output_type": "execute_result"
    }
   ],
   "source": [
    "df_test = pd.read_csv(\"./data/input/test.csv\", usecols =['id'])\n",
    "y_predict = ridge4.predict(x_test)\n",
    "p_y =np.exp(y_predict)-1\n",
    "id_test = df_test.id\n",
    "ridge_output = pd.DataFrame({'id': id_test, 'price_doc': p_y})\n",
    "ridge_output.head()"
   ]
  },
  {
   "cell_type": "code",
   "execution_count": 192,
   "metadata": {
    "collapsed": true
   },
   "outputs": [],
   "source": [
    "ridge_output.to_csv('./data/output/ridge_dummy.csv', index=False)"
   ]
  },
  {
   "cell_type": "markdown",
   "metadata": {},
   "source": [
    "### Random forest and GBM"
   ]
  },
  {
   "cell_type": "code",
   "execution_count": null,
   "metadata": {
    "collapsed": true
   },
   "outputs": [],
   "source": [
    "https://elitedatascience.com/python-machine-learning-tutorial-scikit-learn\n",
    "    \n",
    "    http://aplunket.com/random-forest-regressor/"
   ]
  },
  {
   "cell_type": "code",
   "execution_count": 47,
   "metadata": {},
   "outputs": [
    {
     "data": {
      "text/plain": [
       "(38058, 161)"
      ]
     },
     "execution_count": 47,
     "metadata": {},
     "output_type": "execute_result"
    }
   ],
   "source": [
    "# numeric data scaling \n",
    "from sklearn.preprocessing import StandardScaler\n",
    "sc = StandardScaler()\n",
    "# exclude CHAS as this is a categorical variable (by the river or not)\n",
    "all_num_scaled = pd.DataFrame(sc.fit_transform(all_num), columns=all_num.columns.values)\n",
    "all_num_scaled.shape"
   ]
  },
  {
   "cell_type": "code",
   "execution_count": 54,
   "metadata": {},
   "outputs": [
    {
     "name": "stdout",
     "output_type": "stream",
     "text": [
      "New number of features : 328\n"
     ]
    },
    {
     "data": {
      "text/html": [
       "<div>\n",
       "<style>\n",
       "    .dataframe thead tr:only-child th {\n",
       "        text-align: right;\n",
       "    }\n",
       "\n",
       "    .dataframe thead th {\n",
       "        text-align: left;\n",
       "    }\n",
       "\n",
       "    .dataframe tbody tr th {\n",
       "        vertical-align: top;\n",
       "    }\n",
       "</style>\n",
       "<table border=\"1\" class=\"dataframe\">\n",
       "  <thead>\n",
       "    <tr style=\"text-align: right;\">\n",
       "      <th></th>\n",
       "      <th>Column Type</th>\n",
       "      <th>Count</th>\n",
       "    </tr>\n",
       "  </thead>\n",
       "  <tbody>\n",
       "    <tr>\n",
       "      <th>0</th>\n",
       "      <td>uint8</td>\n",
       "      <td>167</td>\n",
       "    </tr>\n",
       "    <tr>\n",
       "      <th>1</th>\n",
       "      <td>float64</td>\n",
       "      <td>161</td>\n",
       "    </tr>\n",
       "  </tbody>\n",
       "</table>\n",
       "</div>"
      ],
      "text/plain": [
       "  Column Type  Count\n",
       "0       uint8    167\n",
       "1     float64    161"
      ]
     },
     "execution_count": 54,
     "metadata": {},
     "output_type": "execute_result"
    }
   ],
   "source": [
    "## Join categorical and numerical features\n",
    "x_all = pd.concat([all_num_scaled, all_cat], axis = 1)\n",
    "print(\"New number of features : \" + str(x_all.shape[1]))\n",
    "\n",
    "dtype_df = x_all.dtypes.reset_index()\n",
    "dtype_df.columns = [\"Count\", \"Column Type\"]\n",
    "dtype_df.groupby(\"Column Type\").aggregate('count').reset_index()"
   ]
  },
  {
   "cell_type": "code",
   "execution_count": 55,
   "metadata": {
    "collapsed": true
   },
   "outputs": [],
   "source": [
    "#split to train and test\n",
    "x_train = x_all[:num_train]\n",
    "x_test = x_all[num_train:]"
   ]
  },
  {
   "cell_type": "code",
   "execution_count": 56,
   "metadata": {},
   "outputs": [
    {
     "name": "stdout",
     "output_type": "stream",
     "text": [
      "(24316, 328)\n",
      "(6080, 328)\n"
     ]
    }
   ],
   "source": [
    "#split data for training\n",
    "train_x, test_x, train_y, test_y = cross_validation.train_test_split(x_train, y_train, test_size=0.2, random_state=1)\n",
    "print train_x.shape\n",
    "print test_x.shape"
   ]
  },
  {
   "cell_type": "code",
   "execution_count": 84,
   "metadata": {},
   "outputs": [
    {
     "name": "stdout",
     "output_type": "stream",
     "text": [
      "0.420101724265\n",
      "{'bootstrap': False, 'min_samples_leaf': 3, 'n_estimators': 500, 'min_samples_split': 10, 'max_features': 10, 'max_depth': None}\n"
     ]
    }
   ],
   "source": [
    "#Hyperparameter selection\n",
    "from sklearn.ensemble import RandomForestRegressor\n",
    "from sklearn.model_selection import GridSearchCV\n",
    "\n",
    "param_grid = {\"n_estimators\": [200, 500],\n",
    "              \"max_depth\": [3, None],\n",
    "              \"max_features\": [1, 3, 5, 10],\n",
    "    \"min_samples_split\": [2, 5, 10],\n",
    "    \"min_samples_leaf\": [1, 3, 10],\n",
    "    \"bootstrap\": [True, False]}\n",
    "\n",
    "model = RandomForestRegressor(random_state=0)\n",
    "grid = GridSearchCV(estimator=model, param_grid=param_grid, n_jobs=-1)\n",
    "grid.fit(train_x, train_y)\n",
    "\n",
    "print(grid.best_score_)\n",
    "print(grid.best_params_)"
   ]
  },
  {
   "cell_type": "markdown",
   "metadata": {},
   "source": [
    "### Ramdon Forest Regression"
   ]
  },
  {
   "cell_type": "code",
   "execution_count": 88,
   "metadata": {},
   "outputs": [
    {
     "data": {
      "text/plain": [
       "RandomForestRegressor(bootstrap=False, criterion='mse', max_depth=None,\n",
       "           max_features=10, max_leaf_nodes=None, min_impurity_split=1e-07,\n",
       "           min_samples_leaf=3, min_samples_split=10,\n",
       "           min_weight_fraction_leaf=0.0, n_estimators=500, n_jobs=1,\n",
       "           oob_score=False, random_state=0, verbose=0, warm_start=False)"
      ]
     },
     "execution_count": 88,
     "metadata": {},
     "output_type": "execute_result"
    }
   ],
   "source": [
    "from sklearn.ensemble import RandomForestRegressor\n",
    "rf_est = RandomForestRegressor(random_state=0, n_estimators=500, max_depth=None, max_features=10, \n",
    "                                  min_samples_leaf=3, min_samples_split=10, bootstrap=False)\n",
    "rf_est.fit(train_x, train_y)"
   ]
  },
  {
   "cell_type": "code",
   "execution_count": 89,
   "metadata": {},
   "outputs": [
    {
     "data": {
      "text/plain": [
       "0.43182590234177909"
      ]
     },
     "execution_count": 89,
     "metadata": {},
     "output_type": "execute_result"
    }
   ],
   "source": [
    "rf_est.score(test_x, test_y)"
   ]
  },
  {
   "cell_type": "code",
   "execution_count": 90,
   "metadata": {
    "scrolled": true
   },
   "outputs": [
    {
     "name": "stdout",
     "output_type": "stream",
     "text": [
      "('RF RMSE on Training set :', 0.45528658656531962)\n",
      "('RM RMSE on Test set :', 0.45947439765917275)\n"
     ]
    }
   ],
   "source": [
    "print(\"RF RMSE on Training set :\", rmse_cv_train(rf_est).mean())\n",
    "print(\"RM RMSE on Test set :\", rmse_cv_test(rf_est).mean())\n",
    "y_train_rf = rf_est.predict(train_x)\n",
    "y_test_rf = rf_est.predict(test_x)"
   ]
  },
  {
   "cell_type": "code",
   "execution_count": 91,
   "metadata": {},
   "outputs": [
    {
     "data": {
      "image/png": "[encoded data removed]",
      "text/plain": [
       "<matplotlib.figure.Figure at 0x146bc7d90>"
      ]
     },
     "metadata": {},
     "output_type": "display_data"
    },
    {
     "data": {
      "image/png": "[encoded data removed]",
      "text/plain": [
       "<matplotlib.figure.Figure at 0x115dc8450>"
      ]
     },
     "metadata": {},
     "output_type": "display_data"
    },
    {
     "data": {
      "text/plain": [
       "<matplotlib.axes._subplots.AxesSubplot at 0x12d605390>"
      ]
     },
     "execution_count": 91,
     "metadata": {},
     "output_type": "execute_result"
    },
    {
     "data": {
      "image/png": "[encoded data removed]",
      "text/plain": [
       "<matplotlib.figure.Figure at 0x11a2ebd50>"
      ]
     },
     "metadata": {},
     "output_type": "display_data"
    }
   ],
   "source": [
    "# Plot residuals\n",
    "plt.scatter(y_train_rf, y_train_rf - train_y, c = \"blue\", marker = \"s\", label = \"Training data\")\n",
    "plt.scatter(y_test_rf, y_test_rf - test_y, c = \"lightgreen\", marker = \"s\", label = \"Validation data\")\n",
    "plt.title(\"Tree with Random Forest\")\n",
    "plt.xlabel(\"Predicted values\")\n",
    "plt.ylabel(\"Residuals\")\n",
    "plt.legend(loc = \"upper left\")\n",
    "plt.hlines(y = 0, xmin = 12, xmax = 20, color = \"red\")\n",
    "plt.show()\n",
    "\n",
    "# Plot predictions\n",
    "plt.scatter(y_train_rf, train_y, c = \"blue\", marker = \"s\", label = \"Training data\")\n",
    "plt.scatter(y_test_rf, test_y, c = \"lightgreen\", marker = \"s\", label = \"Validation data\")\n",
    "plt.title(\"Tree with Random Forest\")\n",
    "plt.xlabel(\"Predicted values\")\n",
    "plt.ylabel(\"Real values\")\n",
    "plt.legend(loc = \"upper left\")\n",
    "plt.plot([12, 20], [12, 20], c = \"red\")\n",
    "plt.show()\n",
    "\n",
    "# Plot important feature\n",
    "features = pd.DataFrame()\n",
    "features['features'] = x_train.columns\n",
    "features['importance'] = rf_est.feature_importances_\n",
    "features.sort_values(by=['importance'],ascending=False,inplace=True)\n",
    "fig,ax= plt.subplots()\n",
    "fig.set_size_inches(20,10)\n",
    "plt.xticks(rotation=60)\n",
    "sns.barplot(data=features.head(30),x=\"features\",y=\"importance\",ax=ax,orient=\"v\")"
   ]
  },
  {
   "cell_type": "code",
   "execution_count": 92,
   "metadata": {},
   "outputs": [
    {
     "name": "stdout",
     "output_type": "stream",
     "text": [
      "[ 0.37230433  0.41321464  0.39582798]\n"
     ]
    }
   ],
   "source": [
    "cv_score_rf = cross_validation.cross_val_score(rf_est, test_x, test_y)\n",
    "print cv_score_rf"
   ]
  },
  {
   "cell_type": "code",
   "execution_count": 93,
   "metadata": {},
   "outputs": [
    {
     "data": {
      "text/html": [
       "<div>\n",
       "<style>\n",
       "    .dataframe thead tr:only-child th {\n",
       "        text-align: right;\n",
       "    }\n",
       "\n",
       "    .dataframe thead th {\n",
       "        text-align: left;\n",
       "    }\n",
       "\n",
       "    .dataframe tbody tr th {\n",
       "        vertical-align: top;\n",
       "    }\n",
       "</style>\n",
       "<table border=\"1\" class=\"dataframe\">\n",
       "  <thead>\n",
       "    <tr style=\"text-align: right;\">\n",
       "      <th></th>\n",
       "      <th>id</th>\n",
       "      <th>price_doc</th>\n",
       "    </tr>\n",
       "  </thead>\n",
       "  <tbody>\n",
       "    <tr>\n",
       "      <th>0</th>\n",
       "      <td>30474</td>\n",
       "      <td>5.216547e+06</td>\n",
       "    </tr>\n",
       "    <tr>\n",
       "      <th>1</th>\n",
       "      <td>30475</td>\n",
       "      <td>7.950118e+06</td>\n",
       "    </tr>\n",
       "    <tr>\n",
       "      <th>2</th>\n",
       "      <td>30476</td>\n",
       "      <td>5.230087e+06</td>\n",
       "    </tr>\n",
       "    <tr>\n",
       "      <th>3</th>\n",
       "      <td>30477</td>\n",
       "      <td>6.178606e+06</td>\n",
       "    </tr>\n",
       "    <tr>\n",
       "      <th>4</th>\n",
       "      <td>30478</td>\n",
       "      <td>5.105743e+06</td>\n",
       "    </tr>\n",
       "  </tbody>\n",
       "</table>\n",
       "</div>"
      ],
      "text/plain": [
       "      id     price_doc\n",
       "0  30474  5.216547e+06\n",
       "1  30475  7.950118e+06\n",
       "2  30476  5.230087e+06\n",
       "3  30477  6.178606e+06\n",
       "4  30478  5.105743e+06"
      ]
     },
     "execution_count": 93,
     "metadata": {},
     "output_type": "execute_result"
    }
   ],
   "source": [
    "df_test = pd.read_csv(\"./data/input/test.csv\", usecols =['id'])\n",
    "\n",
    "y_predict = rf_est.predict(x_test)\n",
    "p_y =np.exp(y_predict)-1\n",
    "id_test = df_test.id\n",
    "rf_output = pd.DataFrame({'id': id_test, 'price_doc': p_y})\n",
    "rf_output.head()"
   ]
  },
  {
   "cell_type": "code",
   "execution_count": 94,
   "metadata": {
    "collapsed": true
   },
   "outputs": [],
   "source": [
    "rf_output.to_csv('./data/output/RF_dummy.csv', index=False)"
   ]
  },
  {
   "cell_type": "markdown",
   "metadata": {},
   "source": [
    "### GBM"
   ]
  },
  {
   "cell_type": "code",
   "execution_count": 59,
   "metadata": {},
   "outputs": [
    {
     "name": "stderr",
     "output_type": "stream",
     "text": [
      "/Users/whalejasmine/anaconda/envs/python2/lib/python2.7/site-packages/sklearn/grid_search.py:43: DeprecationWarning: This module was deprecated in version 0.18 in favor of the model_selection module into which all the refactored classes and functions are moved. This module will be removed in 0.20.\n",
      "  DeprecationWarning)\n",
      "/Users/whalejasmine/anaconda/envs/python2/lib/python2.7/site-packages/sklearn/learning_curve.py:23: DeprecationWarning: This module was deprecated in version 0.18 in favor of the model_selection module into which all the functions are moved. This module will be removed in 0.20\n",
      "  DeprecationWarning)\n"
     ]
    }
   ],
   "source": [
    "from math import (sqrt,exp,expm1)\n",
    "from sklearn.ensemble import GradientBoostingRegressor\n",
    "from sklearn.grid_search import GridSearchCV,  RandomizedSearchCV\n",
    "from sklearn.model_selection import train_test_split\n",
    "from sklearn.feature_selection import SelectFromModel\n",
    "from sklearn.metrics import mean_squared_error\n",
    "from sklearn import cross_validation, metrics \n",
    "#Additional scklearn functions\n",
    "%matplotlib inline\n",
    "import matplotlib.pylab as plt\n",
    "import numpy as np\n",
    "from scipy import sparse\n",
    "from sklearn.datasets import make_classification, make_blobs, load_boston, fetch_california_housing\n",
    "from sklearn.decomposition import PCA\n",
    "from sklearn.cross_validation import ShuffleSplit, train_test_split\n",
    "from sklearn import metrics\n",
    "from sklearn.learning_curve import learning_curve\n",
    "from sklearn.linear_model import LinearRegression\n",
    "from sklearn.ensemble import GradientBoostingRegressor\n",
    "from sklearn.grid_search import GridSearchCV\n",
    "from pprint import pprint\n",
    "import pandas as pd\n",
    "from pandas.tools.plotting import scatter_matrix\n",
    "import urllib\n",
    "import requests\n",
    "import zipfile\n",
    "import StringIO\n",
    "import seaborn"
   ]
  },
  {
   "cell_type": "code",
   "execution_count": 60,
   "metadata": {
    "collapsed": true
   },
   "outputs": [],
   "source": [
    "gbrt= GradientBoostingRegressor(n_estimators=100)\n",
    "gbrt.fit(train_x,train_y)\n",
    "y_pred = gbrt.predict(test_x)"
   ]
  },
  {
   "cell_type": "code",
   "execution_count": 61,
   "metadata": {},
   "outputs": [
    {
     "name": "stdout",
     "output_type": "stream",
     "text": [
      "Feature Importance\n",
      "[  1.76165902e-03   3.79489271e-04   6.62662673e-03   5.26579775e-03\n",
      "   3.92370161e-03   0.00000000e+00   7.73571812e-03   0.00000000e+00\n",
      "   0.00000000e+00   0.00000000e+00   0.00000000e+00   6.05431669e-03\n",
      "   1.14369419e-03   2.70996312e-03   6.37174193e-04   3.78304242e-03\n",
      "   0.00000000e+00   1.30890363e-03   1.48485108e-03   1.82883469e-03\n",
      "   1.84438610e-03   3.50766270e-03   0.00000000e+00   3.23429196e-06\n",
      "   1.74544635e-02   4.85134746e-03   5.08235409e-03   0.00000000e+00\n",
      "   4.21047300e-03   6.44050887e-03   5.47448297e-03   2.61727831e-03\n",
      "   0.00000000e+00   0.00000000e+00   2.05463501e-02   4.12842755e-03\n",
      "   0.00000000e+00   1.32578094e-03   0.00000000e+00   0.00000000e+00\n",
      "   4.66452171e-03   1.05863279e-02   2.11205991e-03   1.00419039e-03\n",
      "   8.18928487e-04   0.00000000e+00   4.07332280e-03   8.67539175e-03\n",
      "   5.92271728e-03   6.53631617e-03   2.42687578e-02   4.49083271e-02\n",
      "   0.00000000e+00   2.24674344e-03   1.46944480e-02   0.00000000e+00\n",
      "   6.79502616e-03   1.20634469e-02   3.67167687e-03   6.15217770e-03\n",
      "   1.35022781e-02   1.21338036e-02   3.40195845e-03   4.57537210e-03\n",
      "   5.75046531e-03   5.00625748e-03   6.95560816e-03   6.83035369e-05\n",
      "   0.00000000e+00   2.51499772e-03   4.54446452e-03   3.65363602e-03\n",
      "   6.87619290e-04   1.36855327e-02   1.35212753e-02   1.43770419e-02\n",
      "   0.00000000e+00   0.00000000e+00   0.00000000e+00   0.00000000e+00\n",
      "   0.00000000e+00   0.00000000e+00   1.93210094e-02   1.66581325e-03\n",
      "   2.44014574e-03   2.13787256e-03   1.39209062e-03   0.00000000e+00\n",
      "   1.64664713e-02   1.31724422e-03   7.65821974e-03   0.00000000e+00\n",
      "   5.80811376e-03   1.52723642e-03   1.68334617e-02   9.62701547e-03\n",
      "   2.48652104e-03   6.16017726e-03   7.21084271e-03   3.60569899e-03\n",
      "   1.77846128e-02   7.42138722e-03   1.37135861e-03   8.66885120e-04\n",
      "   6.09960802e-03   2.15395979e-02   1.37072303e-02   8.71065084e-03\n",
      "   0.00000000e+00   1.22522996e-03   7.30621333e-03   3.96490482e-03\n",
      "   0.00000000e+00   4.97082371e-03   0.00000000e+00   0.00000000e+00\n",
      "   0.00000000e+00   5.29506793e-03   4.84596858e-03   0.00000000e+00\n",
      "   1.35304800e-03   8.39147688e-03   4.99936447e-03   1.69677755e-02\n",
      "   3.23213818e-03   3.18976738e-03   2.05572105e-02   1.01472942e-02\n",
      "   0.00000000e+00   7.68451935e-03   2.25563394e-03   8.50975492e-03\n",
      "   1.35811827e-02   7.65553883e-03   0.00000000e+00   9.60520437e-03\n",
      "   1.08888417e-02   1.34048979e-04   7.27252348e-05   1.96318370e-02\n",
      "   4.13534383e-03   2.07367289e-02   2.67369867e-02   2.30213357e-03\n",
      "   0.00000000e+00   8.21779199e-03   9.93967448e-05   1.81632488e-03\n",
      "   0.00000000e+00   0.00000000e+00   7.24549414e-03   6.87470767e-04\n",
      "   0.00000000e+00   0.00000000e+00   0.00000000e+00   1.97940768e-04\n",
      "   7.67738097e-03   5.68381262e-02   5.24886920e-02   3.17927359e-02\n",
      "   1.98398663e-02   0.00000000e+00   0.00000000e+00   7.97109354e-04\n",
      "   0.00000000e+00   0.00000000e+00   0.00000000e+00   0.00000000e+00\n",
      "   0.00000000e+00   0.00000000e+00   0.00000000e+00   0.00000000e+00\n",
      "   0.00000000e+00   0.00000000e+00   0.00000000e+00   0.00000000e+00\n",
      "   0.00000000e+00   0.00000000e+00   0.00000000e+00   0.00000000e+00\n",
      "   0.00000000e+00   0.00000000e+00   0.00000000e+00   0.00000000e+00\n",
      "   0.00000000e+00   0.00000000e+00   0.00000000e+00   0.00000000e+00\n",
      "   0.00000000e+00   0.00000000e+00   0.00000000e+00   0.00000000e+00\n",
      "   0.00000000e+00   1.37928066e-03   0.00000000e+00   0.00000000e+00\n",
      "   0.00000000e+00   0.00000000e+00   0.00000000e+00   0.00000000e+00\n",
      "   0.00000000e+00   0.00000000e+00   0.00000000e+00   2.83159498e-03\n",
      "   0.00000000e+00   0.00000000e+00   0.00000000e+00   0.00000000e+00\n",
      "   0.00000000e+00   0.00000000e+00   0.00000000e+00   0.00000000e+00\n",
      "   0.00000000e+00   1.74184251e-03   0.00000000e+00   0.00000000e+00\n",
      "   0.00000000e+00   0.00000000e+00   0.00000000e+00   0.00000000e+00\n",
      "   0.00000000e+00   0.00000000e+00   0.00000000e+00   0.00000000e+00\n",
      "   0.00000000e+00   0.00000000e+00   0.00000000e+00   0.00000000e+00\n",
      "   0.00000000e+00   0.00000000e+00   0.00000000e+00   0.00000000e+00\n",
      "   0.00000000e+00   0.00000000e+00   0.00000000e+00   0.00000000e+00\n",
      "   0.00000000e+00   0.00000000e+00   0.00000000e+00   2.03125594e-03\n",
      "   0.00000000e+00   0.00000000e+00   0.00000000e+00   0.00000000e+00\n",
      "   0.00000000e+00   0.00000000e+00   0.00000000e+00   0.00000000e+00\n",
      "   0.00000000e+00   0.00000000e+00   0.00000000e+00   0.00000000e+00\n",
      "   0.00000000e+00   0.00000000e+00   0.00000000e+00   0.00000000e+00\n",
      "   0.00000000e+00   0.00000000e+00   0.00000000e+00   0.00000000e+00\n",
      "   0.00000000e+00   0.00000000e+00   0.00000000e+00   0.00000000e+00\n",
      "   0.00000000e+00   0.00000000e+00   0.00000000e+00   0.00000000e+00\n",
      "   0.00000000e+00   0.00000000e+00   0.00000000e+00   0.00000000e+00\n",
      "   0.00000000e+00   0.00000000e+00   0.00000000e+00   0.00000000e+00\n",
      "   0.00000000e+00   0.00000000e+00   0.00000000e+00   0.00000000e+00\n",
      "   0.00000000e+00   0.00000000e+00   0.00000000e+00   0.00000000e+00\n",
      "   0.00000000e+00   0.00000000e+00   0.00000000e+00   0.00000000e+00\n",
      "   0.00000000e+00   0.00000000e+00   0.00000000e+00   0.00000000e+00\n",
      "   0.00000000e+00   0.00000000e+00   0.00000000e+00   0.00000000e+00\n",
      "   0.00000000e+00   0.00000000e+00   0.00000000e+00   0.00000000e+00\n",
      "   0.00000000e+00   0.00000000e+00   0.00000000e+00   0.00000000e+00\n",
      "   0.00000000e+00   9.99524496e-04   1.49019598e-03   0.00000000e+00\n",
      "   0.00000000e+00   0.00000000e+00   0.00000000e+00   0.00000000e+00\n",
      "   0.00000000e+00   0.00000000e+00   5.58048019e-06   0.00000000e+00\n",
      "   0.00000000e+00   0.00000000e+00   0.00000000e+00   0.00000000e+00\n",
      "   0.00000000e+00   0.00000000e+00   0.00000000e+00   0.00000000e+00\n",
      "   0.00000000e+00   0.00000000e+00   1.14002661e-03   1.44282294e-03]\n",
      "\n",
      "R-squared for Train: 0.46\n",
      "R-squared for Test: 0.43\n"
     ]
    }
   ],
   "source": [
    "print \"Feature Importance\"\n",
    "print gbrt.feature_importances_\n",
    "print\n",
    "print \"R-squared for Train: %.2f\" %gbrt.score(train_x,train_y)\n",
    "print \"R-squared for Test: %.2f\" %gbrt.score(test_x,test_y)"
   ]
  },
  {
   "cell_type": "code",
   "execution_count": 62,
   "metadata": {
    "collapsed": true
   },
   "outputs": [],
   "source": [
    "def GradientBooster(param_grid, n_jobs): \n",
    "    estimator = GradientBoostingRegressor() \n",
    "    #for each iteration. There are other methods like the KFold split. \n",
    "    cv = ShuffleSplit(train_x.shape[0], n_iter=10, test_size=0.2) \n",
    "    classifier = GridSearchCV(estimator=estimator, cv=cv, param_grid=param_grid, n_jobs=n_jobs) \n",
    "    classifier.fit(train_x, train_y) \n",
    "    #Let's look at the best estimator that was found by GridSearchCV \n",
    "    print \"Best Estimator learned through GridSearch\"\n",
    "    print classifier.best_estimator_ \n",
    "    return cv, classifier.best_estimator_"
   ]
  },
  {
   "cell_type": "code",
   "execution_count": 63,
   "metadata": {
    "collapsed": true
   },
   "outputs": [],
   "source": [
    "import numpy as np\n",
    "import matplotlib.pyplot as plt\n",
    "from sklearn import cross_validation\n",
    "from sklearn.naive_bayes import GaussianNB\n",
    "from sklearn.datasets import load_digits\n",
    "from sklearn.learning_curve import learning_curve\n",
    "\n",
    "\n",
    "def plot_learning_curve(estimator, title, X, y, ylim=None, cv=None,\n",
    "                        n_jobs=1, train_sizes=np.linspace(.1, 1.0, 5)):\n",
    "    \"\"\"\n",
    "    Generate a simple plot of the test and traning learning curve.\n",
    "\n",
    "    Parameters\n",
    "    ----------\n",
    "    estimator : object type that implements the \"fit\" and \"predict\" methods\n",
    "        An object of that type which is cloned for each validation.\n",
    "\n",
    "    title : string\n",
    "        Title for the chart.\n",
    "\n",
    "    X : array-like, shape (n_samples, n_features)\n",
    "        Training vector, where n_samples is the number of samples and\n",
    "        n_features is the number of features.\n",
    "\n",
    "    y : array-like, shape (n_samples) or (n_samples, n_features), optional\n",
    "        Target relative to X for classification or regression;\n",
    "        None for unsupervised learning.\n",
    "\n",
    "    ylim : tuple, shape (ymin, ymax), optional\n",
    "        Defines minimum and maximum yvalues plotted.\n",
    "\n",
    "    cv : integer, cross-validation generator, optional\n",
    "        If an integer is passed, it is the number of folds (defaults to 3).\n",
    "        Specific cross-validation objects can be passed, see\n",
    "        sklearn.cross_validation module for the list of possible objects\n",
    "\n",
    "    n_jobs : integer, optional\n",
    "        Number of jobs to run in parallel (default 1).\n",
    "    \"\"\"\n",
    "    plt.figure()\n",
    "    plt.title(title)\n",
    "    if ylim is not None:\n",
    "        plt.ylim(*ylim)\n",
    "    plt.xlabel(\"Training examples\")\n",
    "    plt.ylabel(\"Score\")\n",
    "    train_sizes, train_scores, test_scores = learning_curve(\n",
    "        estimator, X, y, cv=cv, n_jobs=n_jobs, train_sizes=train_sizes)\n",
    "    train_scores_mean = np.mean(train_scores, axis=1)\n",
    "    train_scores_std = np.std(train_scores, axis=1)\n",
    "    test_scores_mean = np.mean(test_scores, axis=1)\n",
    "    test_scores_std = np.std(test_scores, axis=1)\n",
    "    plt.grid()\n",
    "\n",
    "    plt.fill_between(train_sizes, train_scores_mean - train_scores_std,\n",
    "                     train_scores_mean + train_scores_std, alpha=0.1,\n",
    "                     color=\"r\")\n",
    "    plt.fill_between(train_sizes, test_scores_mean - test_scores_std,\n",
    "                     test_scores_mean + test_scores_std, alpha=0.1, color=\"g\")\n",
    "    plt.plot(train_sizes, train_scores_mean, 'o-', color=\"r\",\n",
    "             label=\"Training score\")\n",
    "    plt.plot(train_sizes, test_scores_mean, 'o-', color=\"g\",\n",
    "             label=\"Cross-validation score\")\n",
    "\n",
    "    plt.legend(loc=\"best\")\n",
    "    return plt"
   ]
  },
  {
   "cell_type": "code",
   "execution_count": 64,
   "metadata": {},
   "outputs": [
    {
     "name": "stdout",
     "output_type": "stream",
     "text": [
      "Best Estimator learned through GridSearch\n",
      "GradientBoostingRegressor(alpha=0.9, criterion='friedman_mse', init=None,\n",
      "             learning_rate=0.02, loss='ls', max_depth=6, max_features=0.5,\n",
      "             max_leaf_nodes=None, min_impurity_split=1e-07,\n",
      "             min_samples_leaf=5, min_samples_split=2,\n",
      "             min_weight_fraction_leaf=0.0, n_estimators=300,\n",
      "             presort='auto', random_state=None, subsample=1.0, verbose=0,\n",
      "             warm_start=False)\n"
     ]
    }
   ],
   "source": [
    "param_grid={'n_estimators':[300], \n",
    "            'learning_rate': [0.02],# 0.05, 0.02, 0.01],\n",
    "            'max_depth':[6],#4,6], \n",
    "            'min_samples_leaf':[5],#,5,9,17], \n",
    "            'max_features':[0.5],#,0.3]#,0.1]\n",
    "           }\n",
    "n_jobs=4\n",
    "\n",
    "#Let's fit GBRT to the digits training dataset by calling the function we just created.\n",
    "cv,best_est=GradientBooster(param_grid, n_jobs)"
   ]
  },
  {
   "cell_type": "code",
   "execution_count": 65,
   "metadata": {},
   "outputs": [
    {
     "name": "stdout",
     "output_type": "stream",
     "text": [
      "Best Estimator Parameters\n",
      "---------------------------\n",
      "n_estimators: 300\n",
      "max_depth: 6\n",
      "Learning Rate: 0.0\n",
      "min_samples_leaf: 5\n",
      "max_features: 0.5\n",
      "\n",
      "Train R-squared: 0.57\n",
      "Test R-squared: 0.44\n"
     ]
    }
   ],
   "source": [
    "best_est.fit(train_x, train_y)\n",
    "\n",
    "print \"Best Estimator Parameters\"\n",
    "print\"---------------------------\"\n",
    "print \"n_estimators: %d\" %best_est.n_estimators\n",
    "print \"max_depth: %d\" %best_est.max_depth\n",
    "print \"Learning Rate: %.1f\" %best_est.learning_rate\n",
    "print \"min_samples_leaf: %d\" %best_est.min_samples_leaf\n",
    "print \"max_features: %.1f\" %best_est.max_features\n",
    "\n",
    "print\n",
    "print \"Train R-squared: %.2f\" %best_est.score(train_x,train_y)\n",
    "print \"Test R-squared: %.2f\" %best_est.score(test_x,test_y)"
   ]
  },
  {
   "cell_type": "code",
   "execution_count": 66,
   "metadata": {
    "scrolled": true
   },
   "outputs": [
    {
     "name": "stdout",
     "output_type": "stream",
     "text": [
      "('GBM RMSE on Training set :', 0.4537744228142454)\n",
      "('GBM RMSE on Test set :', 0.46215731990149383)\n"
     ]
    }
   ],
   "source": [
    "print(\"GBM RMSE on Training set :\", rmse_cv_train(best_est).mean())\n",
    "print(\"GBM RMSE on Test set :\", rmse_cv_test(best_est).mean())\n",
    "y_train_gbm = best_est.predict(train_x)\n",
    "y_test_gbm = best_est.predict(test_x)"
   ]
  },
  {
   "cell_type": "code",
   "execution_count": 69,
   "metadata": {},
   "outputs": [
    {
     "data": {
      "image/png": "[encoded data removed]",
      "text/plain": [
       "<matplotlib.figure.Figure at 0x117896cd0>"
      ]
     },
     "metadata": {},
     "output_type": "display_data"
    },
    {
     "data": {
      "image/png": "[encoded data removed]",
      "text/plain": [
       "<matplotlib.figure.Figure at 0x115d7cfd0>"
      ]
     },
     "metadata": {},
     "output_type": "display_data"
    },
    {
     "data": {
      "text/plain": [
       "<matplotlib.axes._subplots.AxesSubplot at 0x1178499d0>"
      ]
     },
     "execution_count": 69,
     "metadata": {},
     "output_type": "execute_result"
    },
    {
     "data": {
      "image/png": "[encoded data removed]",
      "text/plain": [
       "<matplotlib.figure.Figure at 0x11785e550>"
      ]
     },
     "metadata": {},
     "output_type": "display_data"
    }
   ],
   "source": [
    "# Plot residuals\n",
    "plt.scatter(y_train_gbm, y_train_gbm - train_y, c = \"blue\", marker = \"s\", label = \"Training data\")\n",
    "plt.scatter(y_test_gbm, y_test_gbm - test_y, c = \"lightgreen\", marker = \"s\", label = \"Validation data\")\n",
    "plt.title(\"Tree with Gradian Boosting\")\n",
    "plt.xlabel(\"Predicted values\")\n",
    "plt.ylabel(\"Residuals\")\n",
    "plt.legend(loc = \"upper left\")\n",
    "plt.hlines(y = 0, xmin = 12, xmax = 20, color = \"red\")\n",
    "plt.show()\n",
    "\n",
    "# Plot predictions\n",
    "plt.scatter(y_train_gbm, train_y, c = \"blue\", marker = \"s\", label = \"Training data\")\n",
    "plt.scatter(y_test_gbm, test_y, c = \"lightgreen\", marker = \"s\", label = \"Validation data\")\n",
    "plt.title(\"Tree with Gradian Boosting\")\n",
    "plt.xlabel(\"Predicted values\")\n",
    "plt.ylabel(\"Real values\")\n",
    "plt.legend(loc = \"upper left\")\n",
    "plt.plot([12, 20], [12, 20], c = \"red\")\n",
    "plt.show()\n",
    "\n",
    "# Plot important feature\n",
    "features = pd.DataFrame()\n",
    "features['features'] = x_train.columns\n",
    "features['importance'] = best_est.feature_importances_\n",
    "features.sort_values(by=['importance'],ascending=False,inplace=True)\n",
    "fig,ax= plt.subplots()\n",
    "fig.set_size_inches(20,10)\n",
    "plt.xticks(rotation=60)\n",
    "sns.barplot(data=features.head(30),x=\"features\",y=\"importance\",ax=ax,orient=\"v\")"
   ]
  },
  {
   "cell_type": "code",
   "execution_count": 67,
   "metadata": {},
   "outputs": [
    {
     "name": "stdout",
     "output_type": "stream",
     "text": [
      "[ 0.37112073  0.39628864  0.40012905]\n"
     ]
    }
   ],
   "source": [
    "cv_score_gbm = cross_validation.cross_val_score(best_est, test_x, test_y)\n",
    "print cv_score_gbm"
   ]
  },
  {
   "cell_type": "code",
   "execution_count": 68,
   "metadata": {},
   "outputs": [
    {
     "data": {
      "text/html": [
       "<div>\n",
       "<style>\n",
       "    .dataframe thead tr:only-child th {\n",
       "        text-align: right;\n",
       "    }\n",
       "\n",
       "    .dataframe thead th {\n",
       "        text-align: left;\n",
       "    }\n",
       "\n",
       "    .dataframe tbody tr th {\n",
       "        vertical-align: top;\n",
       "    }\n",
       "</style>\n",
       "<table border=\"1\" class=\"dataframe\">\n",
       "  <thead>\n",
       "    <tr style=\"text-align: right;\">\n",
       "      <th></th>\n",
       "      <th>id</th>\n",
       "      <th>price_doc</th>\n",
       "    </tr>\n",
       "  </thead>\n",
       "  <tbody>\n",
       "    <tr>\n",
       "      <th>0</th>\n",
       "      <td>30474</td>\n",
       "      <td>5.516031e+06</td>\n",
       "    </tr>\n",
       "    <tr>\n",
       "      <th>1</th>\n",
       "      <td>30475</td>\n",
       "      <td>8.258036e+06</td>\n",
       "    </tr>\n",
       "    <tr>\n",
       "      <th>2</th>\n",
       "      <td>30476</td>\n",
       "      <td>5.016373e+06</td>\n",
       "    </tr>\n",
       "    <tr>\n",
       "      <th>3</th>\n",
       "      <td>30477</td>\n",
       "      <td>6.103936e+06</td>\n",
       "    </tr>\n",
       "    <tr>\n",
       "      <th>4</th>\n",
       "      <td>30478</td>\n",
       "      <td>5.180794e+06</td>\n",
       "    </tr>\n",
       "  </tbody>\n",
       "</table>\n",
       "</div>"
      ],
      "text/plain": [
       "      id     price_doc\n",
       "0  30474  5.516031e+06\n",
       "1  30475  8.258036e+06\n",
       "2  30476  5.016373e+06\n",
       "3  30477  6.103936e+06\n",
       "4  30478  5.180794e+06"
      ]
     },
     "execution_count": 68,
     "metadata": {},
     "output_type": "execute_result"
    }
   ],
   "source": [
    "df_test = pd.read_csv(\"./data/input/test.csv\", usecols =['id'])\n",
    "\n",
    "y_predict = best_est.predict(x_test)\n",
    "p_y =np.exp(y_predict)-1\n",
    "id_test = df_test.id\n",
    "gbm_output = pd.DataFrame({'id': id_test, 'price_doc': p_y})\n",
    "gbm_output.head()"
   ]
  },
  {
   "cell_type": "code",
   "execution_count": 70,
   "metadata": {
    "collapsed": true
   },
   "outputs": [],
   "source": [
    "gbm_output.to_csv('./data/output/GBM_dummy.csv', index=False)"
   ]
  },
  {
   "cell_type": "markdown",
   "metadata": {},
   "source": [
    "### XGB"
   ]
  },
  {
   "cell_type": "code",
   "execution_count": 243,
   "metadata": {
    "collapsed": true
   },
   "outputs": [],
   "source": [
    "import xgboost as xgb"
   ]
  },
  {
   "cell_type": "code",
   "execution_count": 240,
   "metadata": {},
   "outputs": [
    {
     "ename": "TypeError",
     "evalue": "cv() got an unexpected keyword argument 'early_stopping_rounds'",
     "output_type": "error",
     "traceback": [
      "\u001b[0;31m---------------------------------------------------------------------------\u001b[0m",
      "\u001b[0;31mTypeError\u001b[0m                                 Traceback (most recent call last)",
      "\u001b[0;32m<ipython-input-240-204591802ab0>\u001b[0m in \u001b[0;36m<module>\u001b[0;34m()\u001b[0m\n\u001b[1;32m      3\u001b[0m \u001b[0;34m\u001b[0m\u001b[0m\n\u001b[1;32m      4\u001b[0m \u001b[0mparams\u001b[0m \u001b[0;34m=\u001b[0m \u001b[0;34m{\u001b[0m\u001b[0;34m\"max_depth\"\u001b[0m\u001b[0;34m:\u001b[0m\u001b[0;36m2\u001b[0m\u001b[0;34m,\u001b[0m \u001b[0;34m\"eta\"\u001b[0m\u001b[0;34m:\u001b[0m\u001b[0;36m0.1\u001b[0m\u001b[0;34m}\u001b[0m\u001b[0;34m\u001b[0m\u001b[0m\n\u001b[0;32m----> 5\u001b[0;31m \u001b[0mmodel\u001b[0m \u001b[0;34m=\u001b[0m \u001b[0mxgb\u001b[0m\u001b[0;34m.\u001b[0m\u001b[0mcv\u001b[0m\u001b[0;34m(\u001b[0m\u001b[0mparams\u001b[0m\u001b[0;34m,\u001b[0m \u001b[0mdtrain\u001b[0m\u001b[0;34m,\u001b[0m  \u001b[0mnum_boost_round\u001b[0m\u001b[0;34m=\u001b[0m\u001b[0;36m500\u001b[0m\u001b[0;34m,\u001b[0m \u001b[0mearly_stopping_rounds\u001b[0m\u001b[0;34m=\u001b[0m\u001b[0;36m100\u001b[0m\u001b[0;34m)\u001b[0m\u001b[0;34m\u001b[0m\u001b[0m\n\u001b[0m",
      "\u001b[0;31mTypeError\u001b[0m: cv() got an unexpected keyword argument 'early_stopping_rounds'"
     ]
    }
   ],
   "source": [
    "dtrain = xgb.DMatrix(x_train, label = y_train)\n",
    "dtest = xgb.DMatrix(x_test)\n",
    "\n",
    "params = {\"max_depth\":2, \"eta\":0.1}\n",
    "model = xgb.cv(params, dtrain,  num_boost_round=500, early_stopping_rounds=100)"
   ]
  },
  {
   "cell_type": "code",
   "execution_count": null,
   "metadata": {
    "collapsed": true
   },
   "outputs": [],
   "source": []
  }
 ],
 "metadata": {
  "kernelspec": {
   "display_name": "Python 2",
   "language": "python",
   "name": "python2"
  },
  "language_info": {
   "codemirror_mode": {
    "name": "ipython",
    "version": 2
   },
   "file_extension": ".py",
   "mimetype": "text/x-python",
   "name": "python",
   "nbconvert_exporter": "python",
   "pygments_lexer": "ipython2",
   "version": "2.7.13"
  }
 },
 "nbformat": 4,
 "nbformat_minor": 2
}
