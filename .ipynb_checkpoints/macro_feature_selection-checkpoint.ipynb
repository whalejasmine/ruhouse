{
 "cells": [
  {
   "cell_type": "code",
   "execution_count": 435,
   "metadata": {},
   "outputs": [],
   "source": [
    "import pandas as pd\n",
    "import numpy as np\n",
    "import pylab as plt\n",
    "import matplotlib.pyplot as plt\n",
    "##import xgboost as xgb\n",
    "from sklearn.preprocessing import LabelEncoder\n",
    "import numpy as np\n",
    "import seaborn as sns\n",
    "from scipy import stats\n",
    "color = sns.color_palette()\n",
    "from sklearn import model_selection, preprocessing\n",
    "import datetime\n",
    "import scipy as sp\n",
    "# Get ready for lots of annoying deprecation warnings\n",
    "import statsmodels.api as sm\n",
    "%matplotlib inline"
   ]
  },
  {
   "cell_type": "code",
   "execution_count": 449,
   "metadata": {
    "collapsed": true
   },
   "outputs": [],
   "source": [
    "# Parameters\n",
    "micro_humility_factor = 1\n",
    "macro_humility_factor = 0.96\n"
   ]
  },
  {
   "cell_type": "code",
   "execution_count": 441,
   "metadata": {
    "collapsed": true
   },
   "outputs": [],
   "source": [
    "# Functions to use in data adjustment\n",
    "\n",
    "def scale_miss(   # Scale shifted logs and compare raw stdev to old raw stdev\n",
    "        alpha,\n",
    "        shifted_logs,\n",
    "        oldstd,\n",
    "        new_logmean\n",
    "        ):\n",
    "    newlogs = new_logmean + alpha*(shifted_logs - new_logmean)\n",
    "    newstd = np.std(np.exp(newlogs))\n",
    "    return (newstd-oldstd)**2\n",
    "    \n",
    "\n",
    "def shift_logmean_but_keep_scale(  # Or change the scale, but relative to the old scale\n",
    "        data,\n",
    "        new_logmean,\n",
    "        rescaler\n",
    "        ):\n",
    "    logdata = np.log(data)\n",
    "    oldstd = data.std()\n",
    "    shift = new_logmean - logdata.mean()\n",
    "    shifted_logs = logdata + shift\n",
    "    scale = sp.optimize.leastsq( scale_miss, 1, args=(shifted_logs, oldstd, new_logmean) )\n",
    "    alpha = scale[0][0]\n",
    "    newlogs = new_logmean + rescaler*alpha*(shifted_logs - new_logmean)\n",
    "    return np.exp(newlogs)"
   ]
  },
  {
   "cell_type": "markdown",
   "metadata": {},
   "source": [
    "### Fit macro model"
   ]
  },
  {
   "cell_type": "code",
   "execution_count": 443,
   "metadata": {},
   "outputs": [],
   "source": [
    "# Read data\n",
    "macro = pd.read_csv('./data/input/macro.csv')\n",
    "train = pd.read_csv('./data/input/train.csv')\n",
    "test = pd.read_csv('./data/input/test.csv')\n",
    "\n",
    "# Macro data monthly medians\n",
    "macro[\"timestamp\"] = pd.to_datetime(macro[\"timestamp\"])\n",
    "macro[\"year\"]  = macro[\"timestamp\"].dt.year\n",
    "macro[\"month\"] = macro[\"timestamp\"].dt.month\n",
    "macro[\"yearmonth\"] = 100*macro.year + macro.month\n",
    "macmeds = macro.groupby(\"yearmonth\").median()cx\n",
    "\n",
    "# Price data monthly medians\n",
    "train[\"timestamp\"] = pd.to_datetime(train[\"timestamp\"])\n",
    "train[\"year\"]  = train[\"timestamp\"].dt.year\n",
    "train[\"month\"] = train[\"timestamp\"].dt.month\n",
    "train[\"yearmonth\"] = 100*train.year + train.month\n",
    "prices = train[[\"yearmonth\",\"price_doc\"]]\n",
    "p = prices.groupby(\"yearmonth\").median()\n",
    "\n",
    "# Join monthly prices to macro data\n",
    "df = macmeds.join(p)"
   ]
  },
  {
   "cell_type": "code",
   "execution_count": 445,
   "metadata": {},
   "outputs": [],
   "source": [
    "# Function to process Almon lags\n",
    "\n",
    "import numpy.matlib as ml\n",
    " \n",
    "def almonZmatrix(X, maxlag, maxdeg):\n",
    "    \"\"\"\n",
    "    Creates the Z matrix corresponding to vector X.\n",
    "    \"\"\"\n",
    "    n = len(X)\n",
    "    Z = ml.zeros((len(X)-maxlag, maxdeg+1))\n",
    "    for t in range(maxlag,  n):\n",
    "       #Solve for Z[t][0].\n",
    "       Z[t-maxlag,0] = sum([X[t-lag] for lag in range(maxlag+1)])\n",
    "       for j in range(1, maxdeg+1):\n",
    "             s = 0.0\n",
    "             for i in range(1, maxlag+1):       \n",
    "                s += (i)**j * X[t-i]\n",
    "             Z[t-maxlag,j] = s\n",
    "    return Z"
   ]
  },
  {
   "cell_type": "code",
   "execution_count": 446,
   "metadata": {},
   "outputs": [
    {
     "data": {
      "text/plain": [
       "6593788.9177278513"
      ]
     },
     "execution_count": 446,
     "metadata": {},
     "output_type": "execute_result"
    }
   ],
   "source": [
    "# Prepare data for macro model\n",
    "y = df.price_doc.div(df.cpi).apply(np.log).loc[201108:201506]\n",
    "lncpi = df.cpi.apply(np.log)\n",
    "tblags = 5    # Number of lags used on PDL for Trade Balance\n",
    "mrlags = 5    # Number of lags used on PDL for Mortgage Rate\n",
    "cplags = 5    # Number of lags used on PDL for CPI\n",
    "ztb = almonZmatrix(df.balance_trade.loc[201103:201506].as_matrix(), tblags, 1)\n",
    "zmr = almonZmatrix(df.mortgage_rate.loc[201103:201506].as_matrix(), mrlags, 1)\n",
    "zcp = almonZmatrix(lncpi.loc[201103:201506].as_matrix(), cplags, 1)\n",
    "columns = ['tb0', 'tb1', 'mr0', 'mr1', 'cp0', 'cp1']\n",
    "z = pd.DataFrame( np.concatenate( (ztb, zmr, zcp), axis=1), y.index.values, columns )\n",
    "X = sm.add_constant( z )\n",
    "\n",
    "# Fit macro model\n",
    "eq = sm.OLS(y, X)\n",
    "fit = eq.fit()\n",
    "\n",
    "# Predict with macro model\n",
    "test_cpi = df.cpi.loc[201507:201605]\n",
    "test_index = test_cpi.index\n",
    "ztb_test = almonZmatrix(df.balance_trade.loc[201502:201605].as_matrix(), tblags, 1)\n",
    "zmr_test = almonZmatrix(df.mortgage_rate.loc[201502:201605].as_matrix(), mrlags, 1)\n",
    "zcp_test = almonZmatrix(lncpi.loc[201502:201605].as_matrix(), cplags, 1)\n",
    "z_test = pd.DataFrame( np.concatenate( (ztb_test, zmr_test, zcp_test), axis=1), \n",
    "                       test_index, columns )\n",
    "X_test = sm.add_constant( z_test )\n",
    "pred_lnrp = fit.predict( X_test )\n",
    "pred_p = np.exp(pred_lnrp) * test_cpi\n",
    "\n",
    "# Merge with test cases and compute mean for macro prediction\n",
    "test[\"timestamp\"] = pd.to_datetime(test[\"timestamp\"])\n",
    "test[\"year\"]  = test[\"timestamp\"].dt.year\n",
    "test[\"month\"] = test[\"timestamp\"].dt.month\n",
    "test[\"yearmonth\"] = 100*test.year + test.month\n",
    "test_ids = test[[\"yearmonth\",\"id\"]]\n",
    "monthprices = pd.DataFrame({\"yearmonth\":pred_p.index.values,\"monthprice\":pred_p.values})\n",
    "macro_mean = np.exp(test_ids.merge(monthprices, on=\"yearmonth\").monthprice.apply(np.log).mean())\n",
    "macro_mean"
   ]
  },
  {
   "cell_type": "code",
   "execution_count": 447,
   "metadata": {},
   "outputs": [
    {
     "data": {
      "text/plain": [
       "7773440.7512406502"
      ]
     },
     "execution_count": 447,
     "metadata": {},
     "output_type": "execute_result"
    }
   ],
   "source": [
    "# Naive macro model assumes housing prices will simply follow CPI\n",
    "naive_pred_lnrp = y.mean()\n",
    "naive_pred_p = np.exp(naive_pred_lnrp) * test_cpi\n",
    "monthnaive = pd.DataFrame({\"yearmonth\":pred_p.index.values, \"monthprice\":naive_pred_p.values})\n",
    "macro_naive = np.exp(test_ids.merge(monthnaive, on=\"yearmonth\").monthprice.apply(np.log).mean())\n",
    "macro_naive"
   ]
  },
  {
   "cell_type": "code",
   "execution_count": 450,
   "metadata": {},
   "outputs": [
    {
     "data": {
      "text/plain": [
       "6637341.6089051161"
      ]
     },
     "execution_count": 450,
     "metadata": {},
     "output_type": "execute_result"
    }
   ],
   "source": [
    "# Combine naive and substantive macro models\n",
    "macro_mean = macro_naive * (macro_mean/macro_naive) ** macro_humility_factor\n",
    "macro_mean"
   ]
  },
  {
   "cell_type": "code",
   "execution_count": 451,
   "metadata": {},
   "outputs": [
    {
     "data": {
      "text/plain": [
       "(2484, 100)"
      ]
     },
     "execution_count": 451,
     "metadata": {},
     "output_type": "execute_result"
    }
   ],
   "source": [
    "macro = pd.read_csv('./data/input/macro.csv',parse_dates=['timestamp'],\n",
    "                   )\n",
    "macro.shape"
   ]
  },
  {
   "cell_type": "code",
   "execution_count": 3,
   "metadata": {},
   "outputs": [
    {
     "name": "stderr",
     "output_type": "stream",
     "text": [
      "/Users/whalejasmine/anaconda/envs/python2/lib/python2.7/site-packages/ipykernel_launcher.py:3: DeprecationWarning: \n",
      ".ix is deprecated. Please use\n",
      ".loc for label based indexing or\n",
      ".iloc for positional indexing\n",
      "\n",
      "See the documentation here:\n",
      "http://pandas.pydata.org/pandas-docs/stable/indexing.html#deprecate_ix\n",
      "  This is separate from the ipykernel package so we can avoid doing imports until\n"
     ]
    },
    {
     "data": {
      "text/plain": [
       "<matplotlib.text.Text at 0x10862e410>"
      ]
     },
     "execution_count": 3,
     "metadata": {},
     "output_type": "execute_result"
    },
    {
     "data": {
      "image/png": "[encoded data removed]",
      "text/plain": [
       "<matplotlib.figure.Figure at 0x1039965d0>"
      ]
     },
     "metadata": {},
     "output_type": "display_data"
    }
   ],
   "source": [
    "missing_df = macro.isnull().sum(axis=0).reset_index()\n",
    "missing_df.columns = ['column_name', 'missing_count']\n",
    "missing_df = missing_df.ix[missing_df['missing_count']>0]\n",
    "\n",
    "ind1 = np.arange(missing_df.shape[0])\n",
    "\n",
    "width = 0.9\n",
    "fig,ax1 = plt.subplots()\n",
    "fig.set_size_inches(20,12)\n",
    "rects = ax1.barh(ind1, missing_df.missing_count.values, color='y')\n",
    "ax1.set_yticks(ind1)\n",
    "ax1.set_yticklabels(missing_df.column_name.values, rotation='horizontal')\n",
    "ax1.set_xlabel(\"Count of missing values\")\n",
    "ax1.set_title(\"Number of missing values in each column\")"
   ]
  },
  {
   "cell_type": "code",
   "execution_count": 9,
   "metadata": {
    "collapsed": true
   },
   "outputs": [],
   "source": [
    "def clean_data_macro(df):\n",
    "    # convert object column to numeric\n",
    "    char_columns = (df.dtypes[df.dtypes.map(lambda x : x =='object')]).index\n",
    "    float_columns = (df.dtypes[df.dtypes.map(lambda x : x =='float64')]).index\n",
    "    le=LabelEncoder()\n",
    "    for feature in char_columns:\n",
    "        df[feature]=le.fit_transform(df[feature])\n",
    "    # cvert float64 to float32\n",
    "    df[float_columns]=df[float_columns].astype(np.float32)\n",
    "    df.fillna(df.median(),inplace = True)\n",
    "    return df"
   ]
  },
  {
   "cell_type": "code",
   "execution_count": 14,
   "metadata": {},
   "outputs": [
    {
     "data": {
      "text/plain": [
       "(2484, 99)"
      ]
     },
     "execution_count": 14,
     "metadata": {},
     "output_type": "execute_result"
    }
   ],
   "source": [
    "macros_clean = clean_data(macro.drop('timestamp',axis=1))\n",
    "macros_clean.to_csv('./data/output/macro_corr.csv', index=False)\n",
    "macros_clean.shape"
   ]
  },
  {
   "cell_type": "code",
   "execution_count": 15,
   "metadata": {},
   "outputs": [
    {
     "data": {
      "text/plain": [
       "(2484, 21)"
      ]
     },
     "execution_count": 15,
     "metadata": {},
     "output_type": "execute_result"
    }
   ],
   "source": [
    "#import macro features\n",
    "macros_feature = pd.read_csv(\"./data/output/macro_re_corr.csv\")\n",
    "macros_feature.shape"
   ]
  },
  {
   "cell_type": "code",
   "execution_count": 17,
   "metadata": {},
   "outputs": [
    {
     "data": {
      "text/plain": [
       "Index([u'balance_trade_growth', u'net_capital_export',\n",
       "       u'average_provision_of_build_contract_moscow', u'micex',\n",
       "       u'deposits_growth', u'mortgage_value', u'mortgage_rate',\n",
       "       u'income_per_cap', u'unemployment', u'electric_stove_share',\n",
       "       u'rent_price_4+room_bus', u'rent_price_3room_bus',\n",
       "       u'rent_price_1room_bus', u'rent_price_3room_eco',\n",
       "       u'rent_price_2room_eco', u'rent_price_1room_eco',\n",
       "       u'students_state_oneshift', u'old_education_build_share',\n",
       "       u'provision_doctors', u'students_reg_sports_share',\n",
       "       u'apartment_fund_sqm'],\n",
       "      dtype='object')"
      ]
     },
     "execution_count": 17,
     "metadata": {},
     "output_type": "execute_result"
    }
   ],
   "source": [
    "macros_feature.columns"
   ]
  },
  {
   "cell_type": "code",
   "execution_count": 483,
   "metadata": {},
   "outputs": [
    {
     "data": {
      "text/plain": [
       "(2484, 14)"
      ]
     },
     "execution_count": 483,
     "metadata": {},
     "output_type": "execute_result"
    }
   ],
   "source": [
    "macro_cols = [\"balance_trade\", \"balance_trade_growth\", \"eurrub\", \"average_provision_of_build_contract\",\n",
    "\"micex_rgbi_tr\", \"micex_cbi_tr\", \"deposits_rate\", \"mortgage_value\", \"mortgage_rate\",\n",
    "\"income_per_cap\", \"rent_price_4+room_bus\", \"museum_visitis_per_100_cap\", \"apartment_build\"]\n",
    "#macro = pd.read_csv('./data/input/macro.csv',parse_dates=['timestamp'],\n",
    "                   #usecols=['timestamp']+macros_feature.columns.tolist())\n",
    "macro = pd.read_csv('./data/input/macro.csv',parse_dates=['timestamp'],\n",
    "                   usecols=['timestamp']+macro_cols)\n",
    "macro.shape"
   ]
  },
  {
   "cell_type": "code",
   "execution_count": 484,
   "metadata": {},
   "outputs": [
    {
     "data": {
      "text/html": [
       "<div>\n",
       "<style>\n",
       "    .dataframe thead tr:only-child th {\n",
       "        text-align: right;\n",
       "    }\n",
       "\n",
       "    .dataframe thead th {\n",
       "        text-align: left;\n",
       "    }\n",
       "\n",
       "    .dataframe tbody tr th {\n",
       "        vertical-align: top;\n",
       "    }\n",
       "</style>\n",
       "<table border=\"1\" class=\"dataframe\">\n",
       "  <thead>\n",
       "    <tr style=\"text-align: right;\">\n",
       "      <th></th>\n",
       "      <th>timestamp</th>\n",
       "      <th>balance_trade</th>\n",
       "      <th>balance_trade_growth</th>\n",
       "      <th>eurrub</th>\n",
       "      <th>average_provision_of_build_contract</th>\n",
       "      <th>micex_rgbi_tr</th>\n",
       "      <th>micex_cbi_tr</th>\n",
       "      <th>deposits_rate</th>\n",
       "      <th>mortgage_value</th>\n",
       "      <th>mortgage_rate</th>\n",
       "      <th>income_per_cap</th>\n",
       "      <th>rent_price_4+room_bus</th>\n",
       "      <th>museum_visitis_per_100_cap</th>\n",
       "      <th>apartment_build</th>\n",
       "    </tr>\n",
       "  </thead>\n",
       "  <tbody>\n",
       "    <tr>\n",
       "      <th>0</th>\n",
       "      <td>2010-01-01</td>\n",
       "      <td>16.041</td>\n",
       "      <td>10.5</td>\n",
       "      <td>42.862202</td>\n",
       "      <td>5.0</td>\n",
       "      <td>131.279999</td>\n",
       "      <td>233.000000</td>\n",
       "      <td>5.7</td>\n",
       "      <td>142968</td>\n",
       "      <td>13.72</td>\n",
       "      <td>30789.199219</td>\n",
       "      <td>162.0</td>\n",
       "      <td>993.0</td>\n",
       "      <td>22825.0</td>\n",
       "    </tr>\n",
       "    <tr>\n",
       "      <th>1</th>\n",
       "      <td>2010-01-02</td>\n",
       "      <td>16.041</td>\n",
       "      <td>10.5</td>\n",
       "      <td>42.862202</td>\n",
       "      <td>5.0</td>\n",
       "      <td>131.279999</td>\n",
       "      <td>175.149994</td>\n",
       "      <td>5.7</td>\n",
       "      <td>142968</td>\n",
       "      <td>13.72</td>\n",
       "      <td>30789.199219</td>\n",
       "      <td>162.0</td>\n",
       "      <td>993.0</td>\n",
       "      <td>22825.0</td>\n",
       "    </tr>\n",
       "    <tr>\n",
       "      <th>2</th>\n",
       "      <td>2010-01-03</td>\n",
       "      <td>16.041</td>\n",
       "      <td>10.5</td>\n",
       "      <td>42.862202</td>\n",
       "      <td>5.0</td>\n",
       "      <td>131.279999</td>\n",
       "      <td>178.660004</td>\n",
       "      <td>5.7</td>\n",
       "      <td>142968</td>\n",
       "      <td>13.72</td>\n",
       "      <td>30789.199219</td>\n",
       "      <td>162.0</td>\n",
       "      <td>993.0</td>\n",
       "      <td>22825.0</td>\n",
       "    </tr>\n",
       "    <tr>\n",
       "      <th>3</th>\n",
       "      <td>2010-01-04</td>\n",
       "      <td>16.041</td>\n",
       "      <td>10.5</td>\n",
       "      <td>43.405399</td>\n",
       "      <td>5.0</td>\n",
       "      <td>131.279999</td>\n",
       "      <td>183.440002</td>\n",
       "      <td>5.7</td>\n",
       "      <td>142968</td>\n",
       "      <td>13.72</td>\n",
       "      <td>30789.199219</td>\n",
       "      <td>162.0</td>\n",
       "      <td>993.0</td>\n",
       "      <td>22825.0</td>\n",
       "    </tr>\n",
       "    <tr>\n",
       "      <th>4</th>\n",
       "      <td>2010-01-05</td>\n",
       "      <td>16.041</td>\n",
       "      <td>10.5</td>\n",
       "      <td>42.959999</td>\n",
       "      <td>5.0</td>\n",
       "      <td>131.279999</td>\n",
       "      <td>183.440002</td>\n",
       "      <td>5.7</td>\n",
       "      <td>142968</td>\n",
       "      <td>13.72</td>\n",
       "      <td>30789.199219</td>\n",
       "      <td>162.0</td>\n",
       "      <td>993.0</td>\n",
       "      <td>22825.0</td>\n",
       "    </tr>\n",
       "  </tbody>\n",
       "</table>\n",
       "</div>"
      ],
      "text/plain": [
       "   timestamp  balance_trade  balance_trade_growth     eurrub  \\\n",
       "0 2010-01-01         16.041                  10.5  42.862202   \n",
       "1 2010-01-02         16.041                  10.5  42.862202   \n",
       "2 2010-01-03         16.041                  10.5  42.862202   \n",
       "3 2010-01-04         16.041                  10.5  43.405399   \n",
       "4 2010-01-05         16.041                  10.5  42.959999   \n",
       "\n",
       "   average_provision_of_build_contract  micex_rgbi_tr  micex_cbi_tr  \\\n",
       "0                                  5.0     131.279999    233.000000   \n",
       "1                                  5.0     131.279999    175.149994   \n",
       "2                                  5.0     131.279999    178.660004   \n",
       "3                                  5.0     131.279999    183.440002   \n",
       "4                                  5.0     131.279999    183.440002   \n",
       "\n",
       "   deposits_rate  mortgage_value  mortgage_rate  income_per_cap  \\\n",
       "0            5.7          142968          13.72    30789.199219   \n",
       "1            5.7          142968          13.72    30789.199219   \n",
       "2            5.7          142968          13.72    30789.199219   \n",
       "3            5.7          142968          13.72    30789.199219   \n",
       "4            5.7          142968          13.72    30789.199219   \n",
       "\n",
       "   rent_price_4+room_bus  museum_visitis_per_100_cap  apartment_build  \n",
       "0                  162.0                       993.0          22825.0  \n",
       "1                  162.0                       993.0          22825.0  \n",
       "2                  162.0                       993.0          22825.0  \n",
       "3                  162.0                       993.0          22825.0  \n",
       "4                  162.0                       993.0          22825.0  "
      ]
     },
     "execution_count": 484,
     "metadata": {},
     "output_type": "execute_result"
    }
   ],
   "source": [
    "macros = clean_data_macro(macro)\n",
    "macros.head()"
   ]
  },
  {
   "cell_type": "markdown",
   "metadata": {},
   "source": [
    "### Summary Clean for train set"
   ]
  },
  {
   "cell_type": "code",
   "execution_count": 403,
   "metadata": {
    "collapsed": true
   },
   "outputs": [],
   "source": [
    "# drop missing value >0.35 of total observations\n",
    "# keep state and build_year for training data\n",
    "def drop_high_volumn_missing(df):\n",
    "    not_move = [\"build_year\",\"state\"]\n",
    "    high_missing_train_feature= df.columns[df.isnull().sum()>0.35*len(df)].tolist()\n",
    "    \n",
    "    for g in not_move:\n",
    "        if g in high_missing_train_feature:\n",
    "            high_missing_train_feature.remove(g)\n",
    "    df.drop(high_missing_train_feature,axis = 1, inplace=True)    \n",
    "    return df\n",
    "\n",
    "## drop build_ columns: drop na obs or drop columns\n",
    "def drop_build_function(df):\n",
    "    not_move = [\"build_year\"]\n",
    "    build_feature = df.filter(regex=r'^build_count_', axis=1).columns.tolist()\n",
    "    build_feature2 = df.filter(regex=r'^raion_build_count_', axis=1).columns.tolist()\n",
    "    for e in build_feature:\n",
    "        for g in not_move:\n",
    "            if e==g:\n",
    "                high_missing_train_feature.remove(e)\n",
    "    build_feature.extend(build_feature2)\n",
    "    df.drop(build_feature,axis = 1)\n",
    "    return df\n",
    "\n",
    "# remove outliers\n",
    "'''def reject_outliers(df, m = 1):\n",
    "    d = np.abs(df - np.median(df))\n",
    "    mdev = np.median(d)\n",
    "    s = d/mdev if mdev else 0.\n",
    "    return df[s<m]\n",
    "'''\n",
    "def reject_outliers(df, iq_range=0.5):\n",
    "    #df[np.abs(df.Data-df.Data.mean())<=(3*df.Data.std())]\n",
    "    pcnt = (1 - iq_range) / 2\n",
    "    qlow, median, qhigh = df.dropna().quantile([pcnt, 0.50, 1-pcnt])\n",
    "    iqr = qhigh - qlow\n",
    "    return df[ (df - median).abs() <= iqr]\n",
    "\n",
    "def clean_data(df):\n",
    "    #add str feature \n",
    "    #df_all.apartment_name=df_all.sub_area + df_all['metro_km_avto'].astype(str)\n",
    "\n",
    "    # convert object column to numeric\n",
    "    char_columns = (df.dtypes[df.dtypes.map(lambda x : x =='object')]).index\n",
    "    float_columns = (df.dtypes[df.dtypes.map(lambda x : x =='float64')]).index\n",
    "    le=LabelEncoder()\n",
    "    for feature in char_columns:\n",
    "        df[feature]=le.fit_transform(df[feature])\n",
    "    # cvert float64 to float32\n",
    "    df[float_columns]=df[float_columns].astype(np.float32)\n",
    "    \n",
    "    # fill build_ and cafe_, state, NA to 0\n",
    "\n",
    "    df.filter(regex=r'^cafe_', axis=1).fillna(0, inplace=True)\n",
    "    #build_feature\n",
    "    not_move = [\"build_year\"]\n",
    "    build_feature = df.filter(regex=r'^build_count_', axis=1).columns.tolist()\n",
    "    build_feature2 = df.filter(regex=r'^raion_build_count_', axis=1).columns.tolist()\n",
    "    for e in build_feature:\n",
    "        for g in not_move:\n",
    "            if e==g:\n",
    "                high_missing_train_feature.remove(e)\n",
    "    build_feature.extend(build_feature2)\n",
    "    #build fill median or 0?\n",
    "    df[build_feature].fillna(df[build_feature].median(),inplace=True)\n",
    "    #fill state\n",
    "    df['state'].fillna(0,inplace=True) \n",
    "    df.fillna(df.median(), inplace = True)\n",
    "    return df"
   ]
  },
  {
   "cell_type": "code",
   "execution_count": 614,
   "metadata": {},
   "outputs": [
    {
     "name": "stderr",
     "output_type": "stream",
     "text": [
      "/Users/whalejasmine/anaconda/envs/python2/lib/python2.7/site-packages/ipykernel_launcher.py:9: DeprecationWarning: \n",
      ".ix is deprecated. Please use\n",
      ".loc for label based indexing or\n",
      ".iloc for positional indexing\n",
      "\n",
      "See the documentation here:\n",
      "http://pandas.pydata.org/pandas-docs/stable/indexing.html#deprecate_ix\n",
      "  if __name__ == '__main__':\n",
      "/Users/whalejasmine/anaconda/envs/python2/lib/python2.7/site-packages/ipykernel_launcher.py:11: DeprecationWarning: \n",
      ".ix is deprecated. Please use\n",
      ".loc for label based indexing or\n",
      ".iloc for positional indexing\n",
      "\n",
      "See the documentation here:\n",
      "http://pandas.pydata.org/pandas-docs/stable/indexing.html#deprecate_ix\n",
      "  # This is added back by InteractiveShellApp.init_path()\n"
     ]
    }
   ],
   "source": [
    "#load files\n",
    "train = pd.read_csv('./data/input/train.csv', parse_dates=['timestamp'])\n",
    "test = pd.read_csv('./data/input/test.csv', parse_dates=['timestamp'])\n",
    "#macro = pd.read_csv('../input/macro.csv', parse_dates=['timestamp'])\n",
    "#id_test = test.id\n",
    "\n",
    "#clean data\n",
    "bad_index = train[train.life_sq > train.full_sq].index\n",
    "train.ix[bad_index, \"life_sq\"] = np.NaN\n",
    "equal_index = [601,1896,2791]\n",
    "test.ix[equal_index, \"life_sq\"] = test.ix[equal_index, \"full_sq\"]\n",
    "bad_index = test[test.life_sq > test.full_sq].index\n",
    "test.ix[bad_index, \"life_sq\"] = np.NaN\n",
    "bad_index = train[train.life_sq < 5].index\n",
    "train.ix[bad_index, \"life_sq\"] = np.NaN\n",
    "bad_index = test[test.life_sq < 5].index\n",
    "test.ix[bad_index, \"life_sq\"] = np.NaN\n",
    "bad_index = train[train.full_sq < 5].index\n",
    "train.ix[bad_index, \"full_sq\"] = np.NaN\n",
    "bad_index = test[test.full_sq < 5].index\n",
    "test.ix[bad_index, \"full_sq\"] = np.NaN\n",
    "kitch_is_build_year = [13117]\n",
    "train.ix[kitch_is_build_year, \"build_year\"] = train.ix[kitch_is_build_year, \"kitch_sq\"]\n",
    "bad_index = train[train.kitch_sq >= train.life_sq].index\n",
    "train.ix[bad_index, \"kitch_sq\"] = np.NaN\n",
    "bad_index = test[test.kitch_sq >= test.life_sq].index\n",
    "test.ix[bad_index, \"kitch_sq\"] = np.NaN\n",
    "bad_index = train[(train.kitch_sq == 0).values + (train.kitch_sq == 1).values].index\n",
    "train.ix[bad_index, \"kitch_sq\"] = np.NaN\n",
    "bad_index = test[(test.kitch_sq == 0).values + (test.kitch_sq == 1).values].index\n",
    "test.ix[bad_index, \"kitch_sq\"] = np.NaN\n",
    "bad_index = train[(train.full_sq > 210) & (train.life_sq / train.full_sq < 0.3)].index\n",
    "train.ix[bad_index, \"full_sq\"] = np.NaN\n",
    "bad_index = test[(test.full_sq > 150) & (test.life_sq / test.full_sq < 0.3)].index\n",
    "test.ix[bad_index, \"full_sq\"] = np.NaN\n",
    "bad_index = train[train.life_sq > 300].index\n",
    "train.ix[bad_index, [\"life_sq\", \"full_sq\"]] = np.NaN\n",
    "bad_index = test[test.life_sq > 200].index\n",
    "test.ix[bad_index, [\"life_sq\", \"full_sq\"]] = np.NaN\n",
    "train.product_type.value_counts(normalize= True)\n",
    "test.product_type.value_counts(normalize= True)\n",
    "bad_index = train[train.build_year < 1500].index\n",
    "train.ix[bad_index, \"build_year\"] = np.NaN\n",
    "bad_index = test[test.build_year < 1500].index\n",
    "test.ix[bad_index, \"build_year\"] = np.NaN\n",
    "bad_index = train[train.num_room == 0].index \n",
    "train.ix[bad_index, \"num_room\"] = np.NaN\n",
    "bad_index = test[test.num_room == 0].index \n",
    "test.ix[bad_index, \"num_room\"] = np.NaN\n",
    "bad_index = [10076, 11621, 17764, 19390, 24007, 26713, 29172]\n",
    "train.ix[bad_index, \"num_room\"] = np.NaN\n",
    "bad_index = [3174, 7313]\n",
    "test.ix[bad_index, \"num_room\"] = np.NaN\n",
    "bad_index = train[(train.floor == 0).values * (train.max_floor == 0).values].index\n",
    "train.ix[bad_index, [\"max_floor\", \"floor\"]] = np.NaN\n",
    "bad_index = train[train.floor == 0].index\n",
    "train.ix[bad_index, \"floor\"] = np.NaN\n",
    "bad_index = train[train.max_floor == 0].index\n",
    "train.ix[bad_index, \"max_floor\"] = np.NaN\n",
    "bad_index = test[test.max_floor == 0].index\n",
    "test.ix[bad_index, \"max_floor\"] = np.NaN\n",
    "bad_index = train[train.floor > train.max_floor].index\n",
    "train.ix[bad_index, \"max_floor\"] = np.NaN\n",
    "bad_index = test[test.floor > test.max_floor].index\n",
    "test.ix[bad_index, \"max_floor\"] = np.NaN\n",
    "train.floor.describe(percentiles= [0.9999])\n",
    "bad_index = [23584]\n",
    "train.ix[bad_index, \"floor\"] = np.NaN\n",
    "train.material.value_counts()\n",
    "test.material.value_counts()\n",
    "train.state.value_counts()\n",
    "bad_index = train[train.state == 33].index\n",
    "train.ix[bad_index, \"state\"] = np.NaN\n",
    "test.state.value_counts()\n",
    "\n",
    "# brings error down a lot by removing extreme price per sqm\n",
    "train.loc[train.full_sq == 0, 'full_sq'] = 50\n",
    "train = train[train.price_doc/train.full_sq <= 600000]\n",
    "train = train[train.price_doc/train.full_sq >= 10000]\n",
    "\n",
    "#export clean data \n",
    "train.to_csv(\"./data/output/train_clean.csv\",index=False)\n",
    "test.to_csv(\"./data/output/test_clean.csv\",index=False)\n"
   ]
  },
  {
   "cell_type": "code",
   "execution_count": 615,
   "metadata": {},
   "outputs": [
    {
     "data": {
      "text/plain": [
       "(30396, 292)"
      ]
     },
     "execution_count": 615,
     "metadata": {},
     "output_type": "execute_result"
    }
   ],
   "source": [
    "df_train = clean_data(train)\n",
    "df_train.fillna(df_train.median(),inplace = True)\n",
    "df_train.shape"
   ]
  },
  {
   "cell_type": "code",
   "execution_count": 616,
   "metadata": {},
   "outputs": [
    {
     "data": {
      "text/plain": [
       "(7662, 291)"
      ]
     },
     "execution_count": 616,
     "metadata": {},
     "output_type": "execute_result"
    }
   ],
   "source": [
    "df_test = clean_data(test)\n",
    "df_test.fillna(df_test.median(),inplace = True)\n",
    "df_test.shape"
   ]
  },
  {
   "cell_type": "code",
   "execution_count": 617,
   "metadata": {},
   "outputs": [
    {
     "data": {
      "text/plain": [
       "(30396, 305)"
      ]
     },
     "execution_count": 617,
     "metadata": {},
     "output_type": "execute_result"
    }
   ],
   "source": [
    "df_train = pd.merge_ordered(df_train, macros, on='timestamp', how='left')\n",
    "df_train.shape"
   ]
  },
  {
   "cell_type": "code",
   "execution_count": 618,
   "metadata": {},
   "outputs": [
    {
     "data": {
      "text/plain": [
       "(7662, 304)"
      ]
     },
     "execution_count": 618,
     "metadata": {},
     "output_type": "execute_result"
    }
   ],
   "source": [
    "df_test = pd.merge_ordered(df_test, macros, on='timestamp', how='left')\n",
    "df_test.shape"
   ]
  },
  {
   "cell_type": "code",
   "execution_count": 619,
   "metadata": {
    "collapsed": true
   },
   "outputs": [],
   "source": [
    "# add month year week and other feature\n",
    "def add_feature(df_all):\n",
    "    month_year = (df_all.timestamp.dt.month + df_all.timestamp.dt.year * 100)\n",
    "    month_year_cnt_map = month_year.value_counts().to_dict()\n",
    "    df_all['month_year_cnt'] = month_year.map(month_year_cnt_map)\n",
    "\n",
    "    week_year = (df_all.timestamp.dt.weekofyear + df_all.timestamp.dt.year * 100)\n",
    "    week_year_cnt_map = week_year.value_counts().to_dict()\n",
    "    df_all['week_year_cnt'] = week_year.map(week_year_cnt_map)\n",
    "\n",
    "    df_all['month'] = df_all.timestamp.dt.month\n",
    "    df_all['dow'] = df_all.timestamp.dt.dayofweek\n",
    "\n",
    "    # Other feature engineering\n",
    "    df_all['rel_floor'] = df_all['floor'] / df_all['max_floor'].astype(float)\n",
    "    df_all['rel_kitch_sq'] = df_all['kitch_sq'] / df_all['full_sq'].astype(float)\n",
    "    \n",
    "    df_all['rel_kitch_sq'].fillna(0,inplace=True)\n",
    "    df_all['rel_floor'].fillna(0,inplace=True)\n",
    "    \n",
    "    df_all['room_size'] = df_all['life_sq'] / df_all['num_room'].astype(float)\n",
    "   # df_all.replace(np.inf, np.nan)\n",
    "    ##trainBuild = df_train.dropna()\n",
    "    df_all[\"yearbuilt\"] = pd.to_numeric(df_all[\"build_year\"].map(lambda x:str(x).split(\".\")[0]),errors='coerce')\n",
    "    # Remove timestamp buildyear column (may overfit the model in train)\n",
    "   # df_all.drop(['timestamp','build_year'], axis=1, inplace=True)\n",
    "    return df_all"
   ]
  },
  {
   "cell_type": "code",
   "execution_count": 620,
   "metadata": {},
   "outputs": [
    {
     "name": "stdout",
     "output_type": "stream",
     "text": [
      "(30396, 313)\n"
     ]
    },
    {
     "data": {
      "text/plain": [
       "(7662, 312)"
      ]
     },
     "execution_count": 620,
     "metadata": {},
     "output_type": "execute_result"
    }
   ],
   "source": [
    "dtrain=add_feature(df_train)\n",
    "print dtrain.shape\n",
    "dtest=add_feature(df_test)\n",
    "dtest.shape"
   ]
  },
  {
   "cell_type": "code",
   "execution_count": 569,
   "metadata": {},
   "outputs": [
    {
     "data": {
      "text/plain": [
       "'all_x=add_feature(df_all)\\nprint all_x.shape'"
      ]
     },
     "execution_count": 569,
     "metadata": {},
     "output_type": "execute_result"
    }
   ],
   "source": [
    "'''all_x=add_feature(df_all)\n",
    "print all_x.shape'''"
   ]
  },
  {
   "cell_type": "code",
   "execution_count": 167,
   "metadata": {
    "collapsed": true
   },
   "outputs": [],
   "source": [
    "#train with macros features to remove correlations\n",
    "train.to_csv(\"./data/output/train_with_macros.csv\",index=False)"
   ]
  },
  {
   "cell_type": "code",
   "execution_count": 168,
   "metadata": {
    "collapsed": true
   },
   "outputs": [],
   "source": [
    "#train with macros features to remove correlations\n",
    "\n",
    "#train_re_corr = pd.read_csv(\"./data/output/train_with_macros_re_corr.csv\")"
   ]
  },
  {
   "cell_type": "code",
   "execution_count": 621,
   "metadata": {
    "scrolled": true
   },
   "outputs": [
    {
     "name": "stdout",
     "output_type": "stream",
     "text": [
      "(30396, 313)\n",
      "(7662, 312)\n"
     ]
    }
   ],
   "source": [
    "#split train and test set\n",
    "xtrain = clean_data_macro(dtrain)\n",
    "xtest=clean_data_macro(dtest)\n",
    "print xtrain.shape\n",
    "print xtest.shape"
   ]
  },
  {
   "cell_type": "code",
   "execution_count": 633,
   "metadata": {},
   "outputs": [
    {
     "data": {
      "text/plain": [
       "(30471, 191)"
      ]
     },
     "execution_count": 633,
     "metadata": {},
     "output_type": "execute_result"
    }
   ],
   "source": [
    "#train low correlated feature or VIF \n",
    "#train_feature = pd.read_csv(\"./data/output/train_feature_multicoliear.csv\")\n",
    "train_feature = pd.read_csv(\"./data/output/train_vif_fetrain.csv\")# to drop\n",
    "train_feature.shape"
   ]
  },
  {
   "cell_type": "code",
   "execution_count": 634,
   "metadata": {},
   "outputs": [
    {
     "data": {
      "text/plain": [
       "(30396, 122)"
      ]
     },
     "execution_count": 634,
     "metadata": {},
     "output_type": "execute_result"
    }
   ],
   "source": [
    "#readin train set\n",
    "#df_train = pd.read_csv(\"./data/input/train.csv\",parse_dates=['timestamp'],\n",
    "                      #usecols =['timestamp','price_doc','build_year']+train_feature.columns.tolist())\n",
    "#df_train = pd.read_csv(\"./data/input/train.csv\",parse_dates=['timestamp'])\n",
    "feature_drop = train_feature.columns.tolist()\n",
    "y_train =np.log1p(xtrain[\"price_doc\"])\n",
    "x_train=xtrain.drop(feature_drop, axis = 1)\n",
    "x_train.shape"
   ]
  },
  {
   "cell_type": "code",
   "execution_count": 399,
   "metadata": {},
   "outputs": [
    {
     "data": {
      "text/plain": [
       "(30396, 286)"
      ]
     },
     "execution_count": 399,
     "metadata": {},
     "output_type": "execute_result"
    }
   ],
   "source": [
    "#drop high volumn missing\n",
    "#drop_high_volumn_missing(df_train)\n",
    "#df_train.shape"
   ]
  },
  {
   "cell_type": "code",
   "execution_count": 635,
   "metadata": {
    "collapsed": true
   },
   "outputs": [],
   "source": [
    "#df_train.drop([\"price_doc\"],axis=1,inplace=True)\n",
    "#df_train.shape\n"
   ]
  },
  {
   "cell_type": "code",
   "execution_count": 636,
   "metadata": {},
   "outputs": [
    {
     "data": {
      "text/plain": [
       "(7662, 122)"
      ]
     },
     "execution_count": 636,
     "metadata": {},
     "output_type": "execute_result"
    }
   ],
   "source": [
    "#import test dataset\n",
    "#df_test = pd.read_csv(\"./data/input/test.csv\", parse_dates=['timestamp'],\n",
    "                      #usecols =['timestamp','build_year']+train_feature.columns.tolist())\n",
    "#df_test = pd.read_csv(\"./data/input/test.csv\", parse_dates=['timestamp'],\n",
    "                     #usecols =['timestamp']+df_train.columns.tolist())\n",
    "feature_drop.remove(\"price_doc\")\n",
    "x_test = xtest.drop(feature_drop, axis = 1)\n",
    "x_test.shape"
   ]
  },
  {
   "cell_type": "code",
   "execution_count": 491,
   "metadata": {
    "collapsed": true
   },
   "outputs": [],
   "source": [
    "# Build df_all = (df_train+df_test).join(df_macro)\n",
    "#num_train = len(df_train)\n",
    "#df = pd.concat([df_train, df_test])"
   ]
  },
  {
   "cell_type": "code",
   "execution_count": 47,
   "metadata": {},
   "outputs": [
    {
     "data": {
      "text/plain": [
       "(38133, 147)"
      ]
     },
     "execution_count": 47,
     "metadata": {},
     "output_type": "execute_result"
    }
   ],
   "source": [
    "#df.shape"
   ]
  },
  {
   "cell_type": "code",
   "execution_count": 571,
   "metadata": {},
   "outputs": [
    {
     "ename": "SyntaxError",
     "evalue": "EOF while scanning triple-quoted string literal (<ipython-input-571-a94f7cc5465c>, line 5)",
     "output_type": "error",
     "traceback": [
      "\u001b[0;36m  File \u001b[0;32m\"<ipython-input-571-a94f7cc5465c>\"\u001b[0;36m, line \u001b[0;32m5\u001b[0m\n\u001b[0;31m    print test.shape\u001b[0m\n\u001b[0m                    \n^\u001b[0m\n\u001b[0;31mSyntaxError\u001b[0m\u001b[0;31m:\u001b[0m EOF while scanning triple-quoted string literal\n"
     ]
    }
   ],
   "source": [
    "#split all_x to train and test set for impute test & train stacked dataset\n",
    "'''x_train = clean_data_macro(all_x[:num_train])\n",
    "test=clean_data_macro(all_x[num_train:])\n",
    "print x_train.shape\n",
    "print test.shape"
   ]
  },
  {
   "cell_type": "markdown",
   "metadata": {},
   "source": [
    "### GBM & Tuninng"
   ]
  },
  {
   "cell_type": "code",
   "execution_count": 57,
   "metadata": {},
   "outputs": [
    {
     "name": "stderr",
     "output_type": "stream",
     "text": [
      "/Users/whalejasmine/anaconda/envs/python2/lib/python2.7/site-packages/sklearn/cross_validation.py:44: DeprecationWarning: This module was deprecated in version 0.18 in favor of the model_selection module into which all the refactored classes and functions are moved. Also note that the interface of the new CV iterators are different from that of this module. This module will be removed in 0.20.\n",
      "  \"This module will be removed in 0.20.\", DeprecationWarning)\n",
      "/Users/whalejasmine/anaconda/envs/python2/lib/python2.7/site-packages/sklearn/grid_search.py:43: DeprecationWarning: This module was deprecated in version 0.18 in favor of the model_selection module into which all the refactored classes and functions are moved. This module will be removed in 0.20.\n",
      "  DeprecationWarning)\n",
      "/Users/whalejasmine/anaconda/envs/python2/lib/python2.7/site-packages/sklearn/learning_curve.py:23: DeprecationWarning: This module was deprecated in version 0.18 in favor of the model_selection module into which all the functions are moved. This module will be removed in 0.20\n",
      "  DeprecationWarning)\n"
     ]
    }
   ],
   "source": [
    "# Load the packages for modeling\n",
    "from math import (sqrt,exp,expm1)\n",
    "from sklearn.ensemble import GradientBoostingRegressor\n",
    "from sklearn.grid_search import GridSearchCV,  RandomizedSearchCV\n",
    "from sklearn.model_selection import train_test_split\n",
    "from sklearn.feature_selection import SelectFromModel\n",
    "from sklearn.metrics import mean_squared_error\n",
    "from sklearn import cross_validation, metrics \n",
    "#Additional scklearn functions\n",
    "%matplotlib inline\n",
    "import matplotlib.pylab as plt\n",
    "import numpy as np\n",
    "from scipy import sparse\n",
    "from sklearn.datasets import make_classification, make_blobs, load_boston, fetch_california_housing\n",
    "from sklearn.decomposition import PCA\n",
    "from sklearn.cross_validation import ShuffleSplit, train_test_split\n",
    "from sklearn import metrics\n",
    "from sklearn.learning_curve import learning_curve\n",
    "from sklearn.linear_model import LinearRegression\n",
    "from sklearn.ensemble import GradientBoostingRegressor\n",
    "from sklearn.grid_search import GridSearchCV\n",
    "from pprint import pprint\n",
    "import pandas as pd\n",
    "from pandas.tools.plotting import scatter_matrix\n",
    "import urllib\n",
    "import requests\n",
    "import zipfile\n",
    "import StringIO\n",
    "import seaborn"
   ]
  },
  {
   "cell_type": "code",
   "execution_count": 637,
   "metadata": {
    "collapsed": true
   },
   "outputs": [],
   "source": [
    "train_x, test_x, train_y, test_y = train_test_split(x_train, y_train) "
   ]
  },
  {
   "cell_type": "code",
   "execution_count": 638,
   "metadata": {},
   "outputs": [],
   "source": [
    "gbrt= GradientBoostingRegressor(n_estimators=100)\n",
    "gbrt.fit(train_x,train_y)\n",
    "y_pred = gbrt.predict(test_x)"
   ]
  },
  {
   "cell_type": "code",
   "execution_count": 639,
   "metadata": {},
   "outputs": [
    {
     "name": "stdout",
     "output_type": "stream",
     "text": [
      "Feature Importance\n",
      "[  4.77099181e-02   2.99672826e-02   8.62408666e-03   0.00000000e+00\n",
      "   2.07247943e-02   9.15019611e-02   1.87874657e-02   1.21057925e-02\n",
      "   1.29102548e-03   1.13181265e-03   2.00933658e-02   1.20903183e-02\n",
      "   0.00000000e+00   1.31779835e-02   0.00000000e+00   0.00000000e+00\n",
      "   4.29284206e-04   6.74341955e-03   6.60245557e-03   0.00000000e+00\n",
      "   0.00000000e+00   0.00000000e+00   0.00000000e+00   2.22636656e-03\n",
      "   0.00000000e+00   0.00000000e+00   2.59746685e-03   6.77876908e-03\n",
      "   4.12368269e-03   8.29049439e-03   3.08973888e-03   1.33136907e-03\n",
      "   9.60354503e-03   1.08224988e-02   1.90963252e-02   1.88245226e-02\n",
      "   1.01804056e-02   1.82245737e-02   7.58580213e-03   3.37001524e-03\n",
      "   7.97473154e-03   8.20726135e-03   4.21412976e-03   0.00000000e+00\n",
      "   7.58299957e-03   2.35845110e-03   0.00000000e+00   1.19537270e-02\n",
      "   4.12041684e-03   0.00000000e+00   3.11071167e-03   0.00000000e+00\n",
      "   2.36148824e-02   4.32460483e-03   3.75427213e-03   9.80285510e-03\n",
      "   8.37837847e-03   7.82237486e-03   1.50582032e-02   1.49687871e-02\n",
      "   8.77859292e-03   1.69574288e-03   1.72274058e-02   1.26921628e-02\n",
      "   3.12462781e-03   1.04264116e-02   8.55705008e-03   2.19423145e-02\n",
      "   1.44984011e-02   1.17442868e-03   1.56500724e-03   8.42583431e-04\n",
      "   3.66660365e-03   5.28763460e-03   4.21226472e-03   3.33381515e-03\n",
      "   2.80175290e-03   0.00000000e+00   0.00000000e+00   2.48445434e-03\n",
      "   1.92401517e-03   0.00000000e+00   2.72263394e-03   7.11217877e-03\n",
      "   1.91809426e-03   0.00000000e+00   9.43687479e-03   0.00000000e+00\n",
      "   8.91342425e-03   0.00000000e+00   7.72206868e-03   0.00000000e+00\n",
      "   1.27667900e-03   2.50372581e-03   1.11556600e-02   0.00000000e+00\n",
      "   7.92122398e-03   5.29062636e-03   0.00000000e+00   6.81297555e-04\n",
      "   1.48048581e-02   0.00000000e+00   0.00000000e+00   1.40962377e-02\n",
      "   3.30889636e-03   1.93973226e-02   1.51525038e-02   1.19189400e-03\n",
      "   3.58758552e-06   1.09445080e-02   0.00000000e+00   1.79381208e-03\n",
      "   3.50127795e-05   3.13608306e-04   8.02773891e-03   9.10111903e-04\n",
      "   7.26108538e-04   0.00000000e+00   1.58850619e-03   1.32408454e-01\n",
      "   1.78415791e-03   2.62495950e-02]\n",
      "\n",
      "R-squared for Train: 0.44\n",
      "R-squared for Test: 0.42\n"
     ]
    }
   ],
   "source": [
    "print \"Feature Importance\"\n",
    "print gbrt.feature_importances_\n",
    "print\n",
    "\n",
    "print \"R-squared for Train: %.2f\" %gbrt.score(train_x,train_y)\n",
    "print \"R-squared for Test: %.2f\" %gbrt.score(test_x,test_y)"
   ]
  },
  {
   "cell_type": "code",
   "execution_count": 104,
   "metadata": {
    "collapsed": true
   },
   "outputs": [],
   "source": [
    "def GradientBooster(param_grid, n_jobs): \n",
    "    estimator = GradientBoostingRegressor() \n",
    "    #for each iteration. There are other methods like the KFold split. \n",
    "    cv = ShuffleSplit(train_x.shape[0], n_iter=10, test_size=0.2) \n",
    "    classifier = GridSearchCV(estimator=estimator, cv=cv, param_grid=param_grid, n_jobs=n_jobs) \n",
    "    classifier.fit(train_x, train_y) \n",
    "    #Let's look at the best estimator that was found by GridSearchCV \n",
    "    print \"Best Estimator learned through GridSearch\"\n",
    "    print classifier.best_estimator_ \n",
    "    return cv, classifier.best_estimator_"
   ]
  },
  {
   "cell_type": "code",
   "execution_count": 62,
   "metadata": {
    "collapsed": true
   },
   "outputs": [],
   "source": [
    "import numpy as np\n",
    "import matplotlib.pyplot as plt\n",
    "from sklearn import cross_validation\n",
    "from sklearn.naive_bayes import GaussianNB\n",
    "from sklearn.datasets import load_digits\n",
    "from sklearn.learning_curve import learning_curve\n",
    "\n",
    "\n",
    "def plot_learning_curve(estimator, title, X, y, ylim=None, cv=None,\n",
    "                        n_jobs=1, train_sizes=np.linspace(.1, 1.0, 5)):\n",
    "    \"\"\"\n",
    "    Generate a simple plot of the test and traning learning curve.\n",
    "\n",
    "    Parameters\n",
    "    ----------\n",
    "    estimator : object type that implements the \"fit\" and \"predict\" methods\n",
    "        An object of that type which is cloned for each validation.\n",
    "\n",
    "    title : string\n",
    "        Title for the chart.\n",
    "\n",
    "    X : array-like, shape (n_samples, n_features)\n",
    "        Training vector, where n_samples is the number of samples and\n",
    "        n_features is the number of features.\n",
    "\n",
    "    y : array-like, shape (n_samples) or (n_samples, n_features), optional\n",
    "        Target relative to X for classification or regression;\n",
    "        None for unsupervised learning.\n",
    "\n",
    "    ylim : tuple, shape (ymin, ymax), optional\n",
    "        Defines minimum and maximum yvalues plotted.\n",
    "\n",
    "    cv : integer, cross-validation generator, optional\n",
    "        If an integer is passed, it is the number of folds (defaults to 3).\n",
    "        Specific cross-validation objects can be passed, see\n",
    "        sklearn.cross_validation module for the list of possible objects\n",
    "\n",
    "    n_jobs : integer, optional\n",
    "        Number of jobs to run in parallel (default 1).\n",
    "    \"\"\"\n",
    "    plt.figure()\n",
    "    plt.title(title)\n",
    "    if ylim is not None:\n",
    "        plt.ylim(*ylim)\n",
    "    plt.xlabel(\"Training examples\")\n",
    "    plt.ylabel(\"Score\")\n",
    "    train_sizes, train_scores, test_scores = learning_curve(\n",
    "        estimator, X, y, cv=cv, n_jobs=n_jobs, train_sizes=train_sizes)\n",
    "    train_scores_mean = np.mean(train_scores, axis=1)\n",
    "    train_scores_std = np.std(train_scores, axis=1)\n",
    "    test_scores_mean = np.mean(test_scores, axis=1)\n",
    "    test_scores_std = np.std(test_scores, axis=1)\n",
    "    plt.grid()\n",
    "\n",
    "    plt.fill_between(train_sizes, train_scores_mean - train_scores_std,\n",
    "                     train_scores_mean + train_scores_std, alpha=0.1,\n",
    "                     color=\"r\")\n",
    "    plt.fill_between(train_sizes, test_scores_mean - test_scores_std,\n",
    "                     test_scores_mean + test_scores_std, alpha=0.1, color=\"g\")\n",
    "    plt.plot(train_sizes, train_scores_mean, 'o-', color=\"r\",\n",
    "             label=\"Training score\")\n",
    "    plt.plot(train_sizes, test_scores_mean, 'o-', color=\"g\",\n",
    "             label=\"Cross-validation score\")\n",
    "\n",
    "    plt.legend(loc=\"best\")\n",
    "    return plt"
   ]
  },
  {
   "cell_type": "code",
   "execution_count": 640,
   "metadata": {},
   "outputs": [
    {
     "name": "stdout",
     "output_type": "stream",
     "text": [
      "Best Estimator learned through GridSearch\n",
      "GradientBoostingRegressor(alpha=0.9, criterion='friedman_mse', init=None,\n",
      "             learning_rate=0.02, loss='ls', max_depth=6, max_features=0.5,\n",
      "             max_leaf_nodes=None, min_impurity_split=1e-07,\n",
      "             min_samples_leaf=5, min_samples_split=2,\n",
      "             min_weight_fraction_leaf=0.0, n_estimators=300,\n",
      "             presort='auto', random_state=None, subsample=1.0, verbose=0,\n",
      "             warm_start=False)\n"
     ]
    }
   ],
   "source": [
    "'''param_grid={'n_estimators':[100], \n",
    "            'learning_rate': [0.1],# 0.05, 0.02, 0.01],\n",
    "            'max_depth':[6],#4,6], \n",
    "            'min_samples_leaf':[3],#,5,9,17], \n",
    "            'max_features':[1.0],#,0.3]#,0.1]\n",
    "           }\n",
    "'''\n",
    "\n",
    "param_grid={'n_estimators':[300], \n",
    "            'learning_rate': [0.02],# 0.05, 0.02, 0.01],\n",
    "            'max_depth':[6],#4,6], \n",
    "            'min_samples_leaf':[5],#,5,9,17], \n",
    "            'max_features':[0.5],#,0.3]#,0.1]\n",
    "           }\n",
    "n_jobs=4\n",
    "\n",
    "#Let's fit GBRT to the digits training dataset by calling the function we just created.\n",
    "cv,best_est=GradientBooster(param_grid, n_jobs)"
   ]
  },
  {
   "cell_type": "code",
   "execution_count": 641,
   "metadata": {},
   "outputs": [
    {
     "data": {
      "image/png": "[encoded data removed]",
      "text/plain": [
       "<matplotlib.figure.Figure at 0x10c407150>"
      ]
     },
     "metadata": {},
     "output_type": "display_data"
    }
   ],
   "source": [
    "title = \"Learning Curves (Gradient Boosted Regression Trees)\" \n",
    "#estimator = GradientBoostingRegressor(n_estimators=best_est.n_estimators, max_depth=best_est.max_depth,\n",
    "                                     #learning_rate=best_est.learning_rate, min_samples_leaf=best_est.min_samples_leaf,\n",
    "                                    # max_features=best_est.max_features)\n",
    "plot_learning_curve(best_est, title, train_x, train_y, cv=cv, n_jobs=n_jobs)\n",
    "plt.show()"
   ]
  },
  {
   "cell_type": "code",
   "execution_count": 642,
   "metadata": {},
   "outputs": [
    {
     "name": "stdout",
     "output_type": "stream",
     "text": [
      "Best Estimator Parameters\n",
      "---------------------------\n",
      "n_estimators: 300\n",
      "max_depth: 6\n",
      "Learning Rate: 0.0\n",
      "min_samples_leaf: 5\n",
      "max_features: 0.5\n",
      "\n",
      "Train R-squared: 0.55\n",
      "Test R-squared: 0.44\n"
     ]
    }
   ],
   "source": [
    "best_est.fit(train_x, train_y)\n",
    "\n",
    "print \"Best Estimator Parameters\"\n",
    "print\"---------------------------\"\n",
    "print \"n_estimators: %d\" %best_est.n_estimators\n",
    "print \"max_depth: %d\" %best_est.max_depth\n",
    "print \"Learning Rate: %.1f\" %best_est.learning_rate\n",
    "print \"min_samples_leaf: %d\" %best_est.min_samples_leaf\n",
    "print \"max_features: %.1f\" %best_est.max_features\n",
    "\n",
    "print\n",
    "print \"Train R-squared: %.2f\" %best_est.score(train_x,train_y)\n",
    "print \"Test R-squared: %.2f\" %best_est.score(test_x,test_y)"
   ]
  },
  {
   "cell_type": "code",
   "execution_count": 359,
   "metadata": {},
   "outputs": [
    {
     "name": "stderr",
     "output_type": "stream",
     "text": [
      "/Users/whalejasmine/anaconda/envs/python2/lib/python2.7/site-packages/sklearn/utils/deprecation.py:70: DeprecationWarning: Function transform is deprecated; Support to use estimators as feature selectors will be removed in version 0.19. Use SelectFromModel instead.\n",
      "  warnings.warn(msg, category=DeprecationWarning)\n",
      "/Users/whalejasmine/anaconda/envs/python2/lib/python2.7/site-packages/sklearn/utils/deprecation.py:70: DeprecationWarning: Function transform is deprecated; Support to use estimators as feature selectors will be removed in version 0.19. Use SelectFromModel instead.\n",
      "  warnings.warn(msg, category=DeprecationWarning)\n"
     ]
    },
    {
     "data": {
      "image/png": "[encoded data removed]",
      "text/plain": [
       "<matplotlib.figure.Figure at 0x10c429050>"
      ]
     },
     "metadata": {},
     "output_type": "display_data"
    }
   ],
   "source": [
    "title = \"Learning Curves (Gradient Boosted Regression Trees drop feature)\" \n",
    "\n",
    "#Dropping all parameters except n_estimators and learning_rate since we're going to trim the features anyway.\n",
    "estimator = GradientBoostingRegressor(n_estimators=best_est.n_estimators, learning_rate=best_est.learning_rate)\n",
    "\n",
    "#Calling fit on the estimator so we can transform the X matrices.\n",
    "estimator.fit(train_x, train_y)\n",
    "\n",
    "#Trimming feature matrices to include only those features that are more important than the mean of all importances.\n",
    "X_train_trim=estimator.transform(train_x, threshold=0.01)\n",
    "\n",
    "#Trimming test as well in case we end up going with this model as final.\n",
    "X_test_trim=estimator.transform(test_x, threshold=0.01)\n",
    "\n",
    "#Re-plotting Learning cruves.\n",
    "plot_learning_curve(estimator, title, train_x, train_y, cv=cv, n_jobs=n_jobs)\n",
    "plt.show()\n",
    "# not useful/ features are important"
   ]
  },
  {
   "cell_type": "code",
   "execution_count": 506,
   "metadata": {},
   "outputs": [
    {
     "data": {
      "image/png": "[encoded data removed]",
      "text/plain": [
       "<matplotlib.figure.Figure at 0x10da56f10>"
      ]
     },
     "metadata": {},
     "output_type": "display_data"
    }
   ],
   "source": [
    "title = \"Learning Curves (Gradient Boosted Regression Trees, learningrate=0.05,n_estimator =500)\" \n",
    "estimator = GradientBoostingRegressor(n_estimators=best_est.n_estimators, max_depth=best_est.max_depth,\n",
    "                                      learning_rate=0.05, min_samples_leaf=best_est.min_samples_leaf,\n",
    "                                      max_features=best_est.max_features)\n",
    "plot_learning_curve(estimator, title, train_x, train_y, cv=cv, n_jobs=n_jobs)\n",
    "plt.show()"
   ]
  },
  {
   "cell_type": "code",
   "execution_count": 72,
   "metadata": {},
   "outputs": [
    {
     "data": {
      "image/png": "[encoded data removed]",
      "text/plain": [
       "<matplotlib.figure.Figure at 0x1097de3d0>"
      ]
     },
     "metadata": {},
     "output_type": "display_data"
    }
   ],
   "source": [
    "#the typical recommended values of Max depth is 4 to 6, so lets leave it at 4. Let's try increasing the min\n",
    "#samples leaf parameter, this basically enforces a lower bound on the number of samples in any given leaf.\n",
    "min_samples_leaf=9\n",
    "\n",
    "title = \"Learning Curves (Gradient Boosted Regression Trees), min_samples_leaf=9\" \n",
    "estimator = GradientBoostingRegressor(n_estimators=best_est.n_estimators, max_depth=best_est.max_depth,\n",
    "                                      learning_rate=best_est.learning_rate, min_samples_leaf=min_samples_leaf,\n",
    "                                      max_features=best_est.max_features)\n",
    "plot_learning_curve(estimator, title, train_x, train_y, cv=cv, n_jobs=n_jobs)\n",
    "plt.show()"
   ]
  },
  {
   "cell_type": "code",
   "execution_count": 360,
   "metadata": {},
   "outputs": [
    {
     "name": "stdout",
     "output_type": "stream",
     "text": [
      " Estimator Parameters trim features \n",
      "---------------------------\n",
      "n_estimators: 100\n",
      "max_depth: 3\n",
      "Learning Rate: 0.1\n",
      "min_samples_leaf: 1\n",
      "\n",
      "Train R-squared: 0.45\n",
      "Test R-squared: 0.42\n"
     ]
    }
   ],
   "source": [
    "estimator.fit(train_x,train_y)\n",
    "print \" Estimator Parameters trim features \"\n",
    "print\"---------------------------\"\n",
    "print \"n_estimators: %d\" %estimator.n_estimators\n",
    "print \"max_depth: %d\" %estimator.max_depth\n",
    "print \"Learning Rate: %.1f\" %estimator.learning_rate\n",
    "print \"min_samples_leaf: %d\" %estimator.min_samples_leaf\n",
    "#print \"max_features: %.1f\" %estimator.max_features\n",
    "\n",
    "print\n",
    "print \"Train R-squared: %.2f\" %estimator.score(train_x,train_y)\n",
    "print \"Test R-squared: %.2f\" %estimator.score(test_x,test_y)"
   ]
  },
  {
   "cell_type": "code",
   "execution_count": 77,
   "metadata": {},
   "outputs": [
    {
     "data": {
      "image/png": "[encoded data removed]",
      "text/plain": [
       "<matplotlib.figure.Figure at 0x10a308110>"
      ]
     },
     "metadata": {},
     "output_type": "display_data"
    }
   ],
   "source": [
    "max_features=0.5\n",
    "\n",
    "title = \"Learning Curves (Gradient Boosted Regression Trees), max_features=50%, 300 estimater, 0.05 lR\" \n",
    "estimator = GradientBoostingRegressor(n_estimators=300, max_depth=best_est.max_depth,\n",
    "                                      learning_rate=0.05, max_features=max_features)\n",
    "plot_learning_curve(estimator, title, train_x, train_y, cv=cv, n_jobs=n_jobs)\n",
    "plt.show()"
   ]
  },
  {
   "cell_type": "code",
   "execution_count": 508,
   "metadata": {},
   "outputs": [
    {
     "name": "stdout",
     "output_type": "stream",
     "text": [
      " Estimator Parameters \n",
      "---------------------------\n",
      "n_estimators: 100\n",
      "max_depth: 6\n",
      "Learning Rate: 0.1\n",
      "min_samples_leaf: 3\n",
      "max_features: 1.0\n",
      "\n",
      "Train R-squared: 0.58\n",
      "Test R-squared: 0.41\n"
     ]
    }
   ],
   "source": [
    "estimator.fit(train_x,train_y)\n",
    "print \" Estimator Parameters \"\n",
    "print\"---------------------------\"\n",
    "print \"n_estimators: %d\" %estimator.n_estimators\n",
    "print \"max_depth: %d\" %estimator.max_depth\n",
    "print \"Learning Rate: %.1f\" %estimator.learning_rate\n",
    "print \"min_samples_leaf: %d\" %estimator.min_samples_leaf\n",
    "print \"max_features: %.1f\" %estimator.max_features\n",
    "\n",
    "print\n",
    "print \"Train R-squared: %.2f\" %estimator.score(train_x,train_y)\n",
    "print \"Test R-squared: %.2f\" %estimator.score(test_x,test_y)"
   ]
  },
  {
   "cell_type": "code",
   "execution_count": 179,
   "metadata": {},
   "outputs": [
    {
     "data": {
      "image/png": "[encoded data removed]",
      "text/plain": [
       "<matplotlib.figure.Figure at 0x10c518a50>"
      ]
     },
     "metadata": {},
     "output_type": "display_data"
    }
   ],
   "source": [
    "title = \"Learning Curves (Gradient Boosted Regression Trees n_estimators =500)\" \n",
    "estimator = GradientBoostingRegressor(n_estimators=500, max_depth=best_est.max_depth,\n",
    "                                      learning_rate=best_est.learning_rate, min_samples_leaf=best_est.min_samples_leaf,\n",
    "                                      max_features=best_est.max_features)\n",
    "plot_learning_curve(estimator, title, train_x, train_y, cv=cv, n_jobs=n_jobs)\n",
    "plt.show()"
   ]
  },
  {
   "cell_type": "code",
   "execution_count": 595,
   "metadata": {},
   "outputs": [
    {
     "data": {
      "text/plain": [
       "<matplotlib.axes._subplots.AxesSubplot at 0x10a7d38d0>"
      ]
     },
     "execution_count": 595,
     "metadata": {},
     "output_type": "execute_result"
    },
    {
     "data": {
      "image/png": "[encoded data removed]",
      "text/plain": [
       "<matplotlib.figure.Figure at 0x10a2a7350>"
      ]
     },
     "metadata": {},
     "output_type": "display_data"
    }
   ],
   "source": [
    "features = pd.DataFrame()\n",
    "features['features'] = x_train.columns\n",
    "features['importance'] = best_est.feature_importances_\n",
    "features.sort_values(by=['importance'],ascending=False,inplace=True)\n",
    "fig,ax= plt.subplots()\n",
    "fig.set_size_inches(20,10)\n",
    "plt.xticks(rotation=60)\n",
    "sns.barplot(data=features.head(30),x=\"features\",y=\"importance\",ax=ax,orient=\"v\")"
   ]
  },
  {
   "cell_type": "code",
   "execution_count": 503,
   "metadata": {},
   "outputs": [
    {
     "name": "stdout",
     "output_type": "stream",
     "text": [
      "Final Estimator Parameters\n",
      "---------------------------\n",
      "n_estimators: 100\n",
      "max_depth: 6\n",
      "Learning Rate: 0.1\n",
      "min_samples_leaf: 3\n",
      "max_features: 1.0\n",
      "\n",
      "Final Train R-squared: 0.65\n",
      "Final Test R-squared: 0.41\n"
     ]
    }
   ],
   "source": [
    "'''estimator = GradientBoostingRegressor(n_estimators=best_est.n_estimators, max_depth=best_est.max_depth,\n",
    "                                      learning_rate=best_est.learning_rate, min_samples_leaf=best_est.min_samples_leaf,\n",
    "                                      max_features=best_est.max_features)\n",
    "'''\n",
    "estimator.fit(train_x, train_y)\n",
    "\n",
    "print \"Final Estimator Parameters\"\n",
    "print\"---------------------------\"\n",
    "print \"n_estimators: %d\" %best_est.n_estimators\n",
    "print \"max_depth: %d\" %best_est.max_depth\n",
    "print \"Learning Rate: %.1f\" %best_est.learning_rate\n",
    "print \"min_samples_leaf: %d\" %best_est.min_samples_leaf\n",
    "print \"max_features: %.1f\" %best_est.max_features\n",
    "print\n",
    "print \"Final Train R-squared: %.2f\" %estimator.score(train_x, train_y)\n",
    "print \"Final Test R-squared: %.2f\" %estimator.score(test_x, test_y)"
   ]
  },
  {
   "cell_type": "code",
   "execution_count": 644,
   "metadata": {},
   "outputs": [
    {
     "name": "stdout",
     "output_type": "stream",
     "text": [
      "[ 0.3852753   0.40724221  0.41730449]\n",
      "[ 0.3671868   0.38750634  0.36363725]\n"
     ]
    }
   ],
   "source": [
    "cv_score_train = cross_validation.cross_val_score(estimator, train_x, train_y)\n",
    "print cv_score_train\n",
    "\n",
    "cv_score_vl = cross_validation.cross_val_score(estimator, test_x, test_y)\n",
    "print cv_score_vl"
   ]
  },
  {
   "cell_type": "code",
   "execution_count": 591,
   "metadata": {},
   "outputs": [
    {
     "name": "stdout",
     "output_type": "stream",
     "text": [
      "[ 0.42032752  0.43999769  0.44126626]\n",
      "[ 0.34511969  0.38608835  0.38331816]\n"
     ]
    }
   ],
   "source": [
    "cv_score_train = cross_validation.cross_val_score(best_est, train_x, train_y)\n",
    "print cv_score_train\n",
    "\n",
    "cv_score_vl = cross_validation.cross_val_score(best_est, test_x, test_y)\n",
    "print cv_score_vl"
   ]
  },
  {
   "cell_type": "code",
   "execution_count": 643,
   "metadata": {},
   "outputs": [
    {
     "name": "stdout",
     "output_type": "stream",
     "text": [
      "0.160792643236\n",
      "0.198402049613\n"
     ]
    }
   ],
   "source": [
    "mse = mean_squared_error(train_y, best_est.predict(train_x))\n",
    "print mse\n",
    "\n",
    "mse = mean_squared_error(test_y, best_est.predict(test_x))\n",
    "print mse"
   ]
  },
  {
   "cell_type": "code",
   "execution_count": 587,
   "metadata": {},
   "outputs": [
    {
     "ename": "NotFittedError",
     "evalue": "Estimator not fitted, call `fit` before making predictions`.",
     "output_type": "error",
     "traceback": [
      "\u001b[0;31m---------------------------------------------------------------------------\u001b[0m",
      "\u001b[0;31mNotFittedError\u001b[0m                            Traceback (most recent call last)",
      "\u001b[0;32m<ipython-input-587-ab09a0ba282a>\u001b[0m in \u001b[0;36m<module>\u001b[0;34m()\u001b[0m\n\u001b[0;32m----> 1\u001b[0;31m \u001b[0mmse\u001b[0m \u001b[0;34m=\u001b[0m \u001b[0mmean_squared_error\u001b[0m\u001b[0;34m(\u001b[0m\u001b[0mtrain_y\u001b[0m\u001b[0;34m,\u001b[0m \u001b[0mestimator\u001b[0m\u001b[0;34m.\u001b[0m\u001b[0mpredict\u001b[0m\u001b[0;34m(\u001b[0m\u001b[0mtrain_x\u001b[0m\u001b[0;34m)\u001b[0m\u001b[0;34m)\u001b[0m\u001b[0;34m\u001b[0m\u001b[0m\n\u001b[0m\u001b[1;32m      2\u001b[0m \u001b[0;32mprint\u001b[0m \u001b[0mmse\u001b[0m\u001b[0;34m\u001b[0m\u001b[0m\n\u001b[1;32m      3\u001b[0m \u001b[0;34m\u001b[0m\u001b[0m\n\u001b[1;32m      4\u001b[0m \u001b[0mmse\u001b[0m \u001b[0;34m=\u001b[0m \u001b[0mmean_squared_error\u001b[0m\u001b[0;34m(\u001b[0m\u001b[0mtest_y\u001b[0m\u001b[0;34m,\u001b[0m \u001b[0mestimator\u001b[0m\u001b[0;34m.\u001b[0m\u001b[0mpredict\u001b[0m\u001b[0;34m(\u001b[0m\u001b[0mtest_x\u001b[0m\u001b[0;34m)\u001b[0m\u001b[0;34m)\u001b[0m\u001b[0;34m\u001b[0m\u001b[0m\n\u001b[1;32m      5\u001b[0m \u001b[0;32mprint\u001b[0m \u001b[0mmse\u001b[0m\u001b[0;34m\u001b[0m\u001b[0m\n",
      "\u001b[0;32m/Users/whalejasmine/anaconda/envs/python2/lib/python2.7/site-packages/sklearn/ensemble/gradient_boosting.pyc\u001b[0m in \u001b[0;36mpredict\u001b[0;34m(self, X)\u001b[0m\n\u001b[1;32m   1850\u001b[0m         \"\"\"\n\u001b[1;32m   1851\u001b[0m         \u001b[0mX\u001b[0m \u001b[0;34m=\u001b[0m \u001b[0mcheck_array\u001b[0m\u001b[0;34m(\u001b[0m\u001b[0mX\u001b[0m\u001b[0;34m,\u001b[0m \u001b[0mdtype\u001b[0m\u001b[0;34m=\u001b[0m\u001b[0mDTYPE\u001b[0m\u001b[0;34m,\u001b[0m \u001b[0morder\u001b[0m\u001b[0;34m=\u001b[0m\u001b[0;34m\"C\"\u001b[0m\u001b[0;34m)\u001b[0m\u001b[0;34m\u001b[0m\u001b[0m\n\u001b[0;32m-> 1852\u001b[0;31m         \u001b[0;32mreturn\u001b[0m \u001b[0mself\u001b[0m\u001b[0;34m.\u001b[0m\u001b[0m_decision_function\u001b[0m\u001b[0;34m(\u001b[0m\u001b[0mX\u001b[0m\u001b[0;34m)\u001b[0m\u001b[0;34m.\u001b[0m\u001b[0mravel\u001b[0m\u001b[0;34m(\u001b[0m\u001b[0;34m)\u001b[0m\u001b[0;34m\u001b[0m\u001b[0m\n\u001b[0m\u001b[1;32m   1853\u001b[0m \u001b[0;34m\u001b[0m\u001b[0m\n\u001b[1;32m   1854\u001b[0m     \u001b[0;32mdef\u001b[0m \u001b[0mstaged_predict\u001b[0m\u001b[0;34m(\u001b[0m\u001b[0mself\u001b[0m\u001b[0;34m,\u001b[0m \u001b[0mX\u001b[0m\u001b[0;34m)\u001b[0m\u001b[0;34m:\u001b[0m\u001b[0;34m\u001b[0m\u001b[0m\n",
      "\u001b[0;32m/Users/whalejasmine/anaconda/envs/python2/lib/python2.7/site-packages/sklearn/ensemble/gradient_boosting.pyc\u001b[0m in \u001b[0;36m_decision_function\u001b[0;34m(self, X)\u001b[0m\n\u001b[1;32m   1122\u001b[0m         \u001b[0;31m# for use in inner loop, not raveling the output in single-class case,\u001b[0m\u001b[0;34m\u001b[0m\u001b[0;34m\u001b[0m\u001b[0m\n\u001b[1;32m   1123\u001b[0m         \u001b[0;31m# not doing input validation.\u001b[0m\u001b[0;34m\u001b[0m\u001b[0;34m\u001b[0m\u001b[0m\n\u001b[0;32m-> 1124\u001b[0;31m         \u001b[0mscore\u001b[0m \u001b[0;34m=\u001b[0m \u001b[0mself\u001b[0m\u001b[0;34m.\u001b[0m\u001b[0m_init_decision_function\u001b[0m\u001b[0;34m(\u001b[0m\u001b[0mX\u001b[0m\u001b[0;34m)\u001b[0m\u001b[0;34m\u001b[0m\u001b[0m\n\u001b[0m\u001b[1;32m   1125\u001b[0m         \u001b[0mpredict_stages\u001b[0m\u001b[0;34m(\u001b[0m\u001b[0mself\u001b[0m\u001b[0;34m.\u001b[0m\u001b[0mestimators_\u001b[0m\u001b[0;34m,\u001b[0m \u001b[0mX\u001b[0m\u001b[0;34m,\u001b[0m \u001b[0mself\u001b[0m\u001b[0;34m.\u001b[0m\u001b[0mlearning_rate\u001b[0m\u001b[0;34m,\u001b[0m \u001b[0mscore\u001b[0m\u001b[0;34m)\u001b[0m\u001b[0;34m\u001b[0m\u001b[0m\n\u001b[1;32m   1126\u001b[0m         \u001b[0;32mreturn\u001b[0m \u001b[0mscore\u001b[0m\u001b[0;34m\u001b[0m\u001b[0m\n",
      "\u001b[0;32m/Users/whalejasmine/anaconda/envs/python2/lib/python2.7/site-packages/sklearn/ensemble/gradient_boosting.pyc\u001b[0m in \u001b[0;36m_init_decision_function\u001b[0;34m(self, X)\u001b[0m\n\u001b[1;32m   1111\u001b[0m     \u001b[0;32mdef\u001b[0m \u001b[0m_init_decision_function\u001b[0m\u001b[0;34m(\u001b[0m\u001b[0mself\u001b[0m\u001b[0;34m,\u001b[0m \u001b[0mX\u001b[0m\u001b[0;34m)\u001b[0m\u001b[0;34m:\u001b[0m\u001b[0;34m\u001b[0m\u001b[0m\n\u001b[1;32m   1112\u001b[0m         \u001b[0;34m\"\"\"Check input and compute prediction of ``init``. \"\"\"\u001b[0m\u001b[0;34m\u001b[0m\u001b[0m\n\u001b[0;32m-> 1113\u001b[0;31m         \u001b[0mself\u001b[0m\u001b[0;34m.\u001b[0m\u001b[0m_check_initialized\u001b[0m\u001b[0;34m(\u001b[0m\u001b[0;34m)\u001b[0m\u001b[0;34m\u001b[0m\u001b[0m\n\u001b[0m\u001b[1;32m   1114\u001b[0m         \u001b[0mX\u001b[0m \u001b[0;34m=\u001b[0m \u001b[0mself\u001b[0m\u001b[0;34m.\u001b[0m\u001b[0mestimators_\u001b[0m\u001b[0;34m[\u001b[0m\u001b[0;36m0\u001b[0m\u001b[0;34m,\u001b[0m \u001b[0;36m0\u001b[0m\u001b[0;34m]\u001b[0m\u001b[0;34m.\u001b[0m\u001b[0m_validate_X_predict\u001b[0m\u001b[0;34m(\u001b[0m\u001b[0mX\u001b[0m\u001b[0;34m,\u001b[0m \u001b[0mcheck_input\u001b[0m\u001b[0;34m=\u001b[0m\u001b[0mTrue\u001b[0m\u001b[0;34m)\u001b[0m\u001b[0;34m\u001b[0m\u001b[0m\n\u001b[1;32m   1115\u001b[0m         \u001b[0;32mif\u001b[0m \u001b[0mX\u001b[0m\u001b[0;34m.\u001b[0m\u001b[0mshape\u001b[0m\u001b[0;34m[\u001b[0m\u001b[0;36m1\u001b[0m\u001b[0;34m]\u001b[0m \u001b[0;34m!=\u001b[0m \u001b[0mself\u001b[0m\u001b[0;34m.\u001b[0m\u001b[0mn_features\u001b[0m\u001b[0;34m:\u001b[0m\u001b[0;34m\u001b[0m\u001b[0m\n",
      "\u001b[0;32m/Users/whalejasmine/anaconda/envs/python2/lib/python2.7/site-packages/sklearn/ensemble/gradient_boosting.pyc\u001b[0m in \u001b[0;36m_check_initialized\u001b[0;34m(self)\u001b[0m\n\u001b[1;32m    928\u001b[0m         \u001b[0;34m\"\"\"Check that the estimator is initialized, raising an error if not.\"\"\"\u001b[0m\u001b[0;34m\u001b[0m\u001b[0m\n\u001b[1;32m    929\u001b[0m         \u001b[0;32mif\u001b[0m \u001b[0mself\u001b[0m\u001b[0;34m.\u001b[0m\u001b[0mestimators_\u001b[0m \u001b[0;32mis\u001b[0m \u001b[0mNone\u001b[0m \u001b[0;32mor\u001b[0m \u001b[0mlen\u001b[0m\u001b[0;34m(\u001b[0m\u001b[0mself\u001b[0m\u001b[0;34m.\u001b[0m\u001b[0mestimators_\u001b[0m\u001b[0;34m)\u001b[0m \u001b[0;34m==\u001b[0m \u001b[0;36m0\u001b[0m\u001b[0;34m:\u001b[0m\u001b[0;34m\u001b[0m\u001b[0m\n\u001b[0;32m--> 930\u001b[0;31m             raise NotFittedError(\"Estimator not fitted, call `fit`\"\n\u001b[0m\u001b[1;32m    931\u001b[0m                                  \" before making predictions`.\")\n\u001b[1;32m    932\u001b[0m \u001b[0;34m\u001b[0m\u001b[0m\n",
      "\u001b[0;31mNotFittedError\u001b[0m: Estimator not fitted, call `fit` before making predictions`."
     ]
    }
   ],
   "source": [
    "mse = mean_squared_error(train_y, estimator.predict(train_x))\n",
    "print mse\n",
    "\n",
    "mse = mean_squared_error(test_y, estimator.predict(test_x))\n",
    "print mse"
   ]
  },
  {
   "cell_type": "markdown",
   "metadata": {},
   "source": [
    "### Submission"
   ]
  },
  {
   "cell_type": "code",
   "execution_count": 645,
   "metadata": {},
   "outputs": [
    {
     "ename": "KeyError",
     "evalue": "\"Index([u'balance_trade', u'balance_trade_growth', u'eurrub',\\n       u'average_provision_of_build_contract', u'micex_rgbi_tr',\\n       u'micex_cbi_tr', u'deposits_rate', u'mortgage_value', u'mortgage_rate',\\n       u'income_per_cap', u'rent_price_4+room_bus',\\n       u'museum_visitis_per_100_cap', u'apartment_build', u'month_year_cnt',\\n       u'week_year_cnt', u'month', u'dow', u'rel_floor', u'rel_kitch_sq',\\n       u'room_size', u'yearbuilt'],\\n      dtype='object') not in index\"",
     "output_type": "error",
     "traceback": [
      "\u001b[0;31m---------------------------------------------------------------------------\u001b[0m",
      "\u001b[0;31mKeyError\u001b[0m                                  Traceback (most recent call last)",
      "\u001b[0;32m<ipython-input-645-7836b2038a4c>\u001b[0m in \u001b[0;36m<module>\u001b[0;34m()\u001b[0m\n\u001b[1;32m      1\u001b[0m \u001b[0mdf_test\u001b[0m \u001b[0;34m=\u001b[0m \u001b[0mpd\u001b[0m\u001b[0;34m.\u001b[0m\u001b[0mread_csv\u001b[0m\u001b[0;34m(\u001b[0m\u001b[0;34m\"./data/input/test.csv\"\u001b[0m\u001b[0;34m,\u001b[0m \u001b[0musecols\u001b[0m \u001b[0;34m=\u001b[0m\u001b[0;34m[\u001b[0m\u001b[0;34m'id'\u001b[0m\u001b[0;34m]\u001b[0m\u001b[0;34m)\u001b[0m\u001b[0;34m\u001b[0m\u001b[0m\n\u001b[1;32m      2\u001b[0m \u001b[0;34m\u001b[0m\u001b[0m\n\u001b[0;32m----> 3\u001b[0;31m \u001b[0my_predict\u001b[0m \u001b[0;34m=\u001b[0m \u001b[0mbest_est\u001b[0m\u001b[0;34m.\u001b[0m\u001b[0mpredict\u001b[0m\u001b[0;34m(\u001b[0m\u001b[0mtest\u001b[0m\u001b[0;34m[\u001b[0m\u001b[0mx_train\u001b[0m\u001b[0;34m.\u001b[0m\u001b[0mcolumns\u001b[0m\u001b[0;34m]\u001b[0m\u001b[0;34m)\u001b[0m\u001b[0;34m\u001b[0m\u001b[0m\n\u001b[0m\u001b[1;32m      4\u001b[0m \u001b[0mp_y\u001b[0m \u001b[0;34m=\u001b[0m\u001b[0mnp\u001b[0m\u001b[0;34m.\u001b[0m\u001b[0mexp\u001b[0m\u001b[0;34m(\u001b[0m\u001b[0my_predict\u001b[0m\u001b[0;34m)\u001b[0m\u001b[0;34m-\u001b[0m\u001b[0;36m1\u001b[0m\u001b[0;34m\u001b[0m\u001b[0m\n\u001b[1;32m      5\u001b[0m \u001b[0mid_test\u001b[0m \u001b[0;34m=\u001b[0m \u001b[0mdf_test\u001b[0m\u001b[0;34m.\u001b[0m\u001b[0mid\u001b[0m\u001b[0;34m\u001b[0m\u001b[0m\n",
      "\u001b[0;32m/Users/whalejasmine/anaconda/envs/python2/lib/python2.7/site-packages/pandas/core/frame.pyc\u001b[0m in \u001b[0;36m__getitem__\u001b[0;34m(self, key)\u001b[0m\n\u001b[1;32m   1956\u001b[0m         \u001b[0;32mif\u001b[0m \u001b[0misinstance\u001b[0m\u001b[0;34m(\u001b[0m\u001b[0mkey\u001b[0m\u001b[0;34m,\u001b[0m \u001b[0;34m(\u001b[0m\u001b[0mSeries\u001b[0m\u001b[0;34m,\u001b[0m \u001b[0mnp\u001b[0m\u001b[0;34m.\u001b[0m\u001b[0mndarray\u001b[0m\u001b[0;34m,\u001b[0m \u001b[0mIndex\u001b[0m\u001b[0;34m,\u001b[0m \u001b[0mlist\u001b[0m\u001b[0;34m)\u001b[0m\u001b[0;34m)\u001b[0m\u001b[0;34m:\u001b[0m\u001b[0;34m\u001b[0m\u001b[0m\n\u001b[1;32m   1957\u001b[0m             \u001b[0;31m# either boolean or fancy integer index\u001b[0m\u001b[0;34m\u001b[0m\u001b[0;34m\u001b[0m\u001b[0m\n\u001b[0;32m-> 1958\u001b[0;31m             \u001b[0;32mreturn\u001b[0m \u001b[0mself\u001b[0m\u001b[0;34m.\u001b[0m\u001b[0m_getitem_array\u001b[0m\u001b[0;34m(\u001b[0m\u001b[0mkey\u001b[0m\u001b[0;34m)\u001b[0m\u001b[0;34m\u001b[0m\u001b[0m\n\u001b[0m\u001b[1;32m   1959\u001b[0m         \u001b[0;32melif\u001b[0m \u001b[0misinstance\u001b[0m\u001b[0;34m(\u001b[0m\u001b[0mkey\u001b[0m\u001b[0;34m,\u001b[0m \u001b[0mDataFrame\u001b[0m\u001b[0;34m)\u001b[0m\u001b[0;34m:\u001b[0m\u001b[0;34m\u001b[0m\u001b[0m\n\u001b[1;32m   1960\u001b[0m             \u001b[0;32mreturn\u001b[0m \u001b[0mself\u001b[0m\u001b[0;34m.\u001b[0m\u001b[0m_getitem_frame\u001b[0m\u001b[0;34m(\u001b[0m\u001b[0mkey\u001b[0m\u001b[0;34m)\u001b[0m\u001b[0;34m\u001b[0m\u001b[0m\n",
      "\u001b[0;32m/Users/whalejasmine/anaconda/envs/python2/lib/python2.7/site-packages/pandas/core/frame.pyc\u001b[0m in \u001b[0;36m_getitem_array\u001b[0;34m(self, key)\u001b[0m\n\u001b[1;32m   2000\u001b[0m             \u001b[0;32mreturn\u001b[0m \u001b[0mself\u001b[0m\u001b[0;34m.\u001b[0m\u001b[0mtake\u001b[0m\u001b[0;34m(\u001b[0m\u001b[0mindexer\u001b[0m\u001b[0;34m,\u001b[0m \u001b[0maxis\u001b[0m\u001b[0;34m=\u001b[0m\u001b[0;36m0\u001b[0m\u001b[0;34m,\u001b[0m \u001b[0mconvert\u001b[0m\u001b[0;34m=\u001b[0m\u001b[0mFalse\u001b[0m\u001b[0;34m)\u001b[0m\u001b[0;34m\u001b[0m\u001b[0m\n\u001b[1;32m   2001\u001b[0m         \u001b[0;32melse\u001b[0m\u001b[0;34m:\u001b[0m\u001b[0;34m\u001b[0m\u001b[0m\n\u001b[0;32m-> 2002\u001b[0;31m             \u001b[0mindexer\u001b[0m \u001b[0;34m=\u001b[0m \u001b[0mself\u001b[0m\u001b[0;34m.\u001b[0m\u001b[0mloc\u001b[0m\u001b[0;34m.\u001b[0m\u001b[0m_convert_to_indexer\u001b[0m\u001b[0;34m(\u001b[0m\u001b[0mkey\u001b[0m\u001b[0;34m,\u001b[0m \u001b[0maxis\u001b[0m\u001b[0;34m=\u001b[0m\u001b[0;36m1\u001b[0m\u001b[0;34m)\u001b[0m\u001b[0;34m\u001b[0m\u001b[0m\n\u001b[0m\u001b[1;32m   2003\u001b[0m             \u001b[0;32mreturn\u001b[0m \u001b[0mself\u001b[0m\u001b[0;34m.\u001b[0m\u001b[0mtake\u001b[0m\u001b[0;34m(\u001b[0m\u001b[0mindexer\u001b[0m\u001b[0;34m,\u001b[0m \u001b[0maxis\u001b[0m\u001b[0;34m=\u001b[0m\u001b[0;36m1\u001b[0m\u001b[0;34m,\u001b[0m \u001b[0mconvert\u001b[0m\u001b[0;34m=\u001b[0m\u001b[0mTrue\u001b[0m\u001b[0;34m)\u001b[0m\u001b[0;34m\u001b[0m\u001b[0m\n\u001b[1;32m   2004\u001b[0m \u001b[0;34m\u001b[0m\u001b[0m\n",
      "\u001b[0;32m/Users/whalejasmine/anaconda/envs/python2/lib/python2.7/site-packages/pandas/core/indexing.pyc\u001b[0m in \u001b[0;36m_convert_to_indexer\u001b[0;34m(self, obj, axis, is_setter)\u001b[0m\n\u001b[1;32m   1229\u001b[0m                 \u001b[0mmask\u001b[0m \u001b[0;34m=\u001b[0m \u001b[0mcheck\u001b[0m \u001b[0;34m==\u001b[0m \u001b[0;34m-\u001b[0m\u001b[0;36m1\u001b[0m\u001b[0;34m\u001b[0m\u001b[0m\n\u001b[1;32m   1230\u001b[0m                 \u001b[0;32mif\u001b[0m \u001b[0mmask\u001b[0m\u001b[0;34m.\u001b[0m\u001b[0many\u001b[0m\u001b[0;34m(\u001b[0m\u001b[0;34m)\u001b[0m\u001b[0;34m:\u001b[0m\u001b[0;34m\u001b[0m\u001b[0m\n\u001b[0;32m-> 1231\u001b[0;31m                     \u001b[0;32mraise\u001b[0m \u001b[0mKeyError\u001b[0m\u001b[0;34m(\u001b[0m\u001b[0;34m'%s not in index'\u001b[0m \u001b[0;34m%\u001b[0m \u001b[0mobjarr\u001b[0m\u001b[0;34m[\u001b[0m\u001b[0mmask\u001b[0m\u001b[0;34m]\u001b[0m\u001b[0;34m)\u001b[0m\u001b[0;34m\u001b[0m\u001b[0m\n\u001b[0m\u001b[1;32m   1232\u001b[0m \u001b[0;34m\u001b[0m\u001b[0m\n\u001b[1;32m   1233\u001b[0m                 \u001b[0;32mreturn\u001b[0m \u001b[0m_values_from_object\u001b[0m\u001b[0;34m(\u001b[0m\u001b[0mindexer\u001b[0m\u001b[0;34m)\u001b[0m\u001b[0;34m\u001b[0m\u001b[0m\n",
      "\u001b[0;31mKeyError\u001b[0m: \"Index([u'balance_trade', u'balance_trade_growth', u'eurrub',\\n       u'average_provision_of_build_contract', u'micex_rgbi_tr',\\n       u'micex_cbi_tr', u'deposits_rate', u'mortgage_value', u'mortgage_rate',\\n       u'income_per_cap', u'rent_price_4+room_bus',\\n       u'museum_visitis_per_100_cap', u'apartment_build', u'month_year_cnt',\\n       u'week_year_cnt', u'month', u'dow', u'rel_floor', u'rel_kitch_sq',\\n       u'room_size', u'yearbuilt'],\\n      dtype='object') not in index\""
     ]
    }
   ],
   "source": [
    "df_test = pd.read_csv(\"./data/input/test.csv\", usecols =['id'])\n",
    "\n",
    "y_predict = best_est.predict(test[x_train.columns])\n",
    "p_y =np.exp(y_predict)-1\n",
    "id_test = df_test.id\n",
    "output = pd.DataFrame({'id': id_test, 'price_doc': p_y})\n",
    "output.head()"
   ]
  },
  {
   "cell_type": "code",
   "execution_count": 649,
   "metadata": {},
   "outputs": [
    {
     "data": {
      "text/html": [
       "<div>\n",
       "<style>\n",
       "    .dataframe thead tr:only-child th {\n",
       "        text-align: right;\n",
       "    }\n",
       "\n",
       "    .dataframe thead th {\n",
       "        text-align: left;\n",
       "    }\n",
       "\n",
       "    .dataframe tbody tr th {\n",
       "        vertical-align: top;\n",
       "    }\n",
       "</style>\n",
       "<table border=\"1\" class=\"dataframe\">\n",
       "  <thead>\n",
       "    <tr style=\"text-align: right;\">\n",
       "      <th></th>\n",
       "      <th>id</th>\n",
       "      <th>price_doc</th>\n",
       "    </tr>\n",
       "  </thead>\n",
       "  <tbody>\n",
       "    <tr>\n",
       "      <th>0</th>\n",
       "      <td>30474</td>\n",
       "      <td>5.252493e+06</td>\n",
       "    </tr>\n",
       "    <tr>\n",
       "      <th>1</th>\n",
       "      <td>30475</td>\n",
       "      <td>8.327093e+06</td>\n",
       "    </tr>\n",
       "    <tr>\n",
       "      <th>2</th>\n",
       "      <td>30476</td>\n",
       "      <td>5.142327e+06</td>\n",
       "    </tr>\n",
       "    <tr>\n",
       "      <th>3</th>\n",
       "      <td>30477</td>\n",
       "      <td>5.519430e+06</td>\n",
       "    </tr>\n",
       "    <tr>\n",
       "      <th>4</th>\n",
       "      <td>30478</td>\n",
       "      <td>5.285491e+06</td>\n",
       "    </tr>\n",
       "  </tbody>\n",
       "</table>\n",
       "</div>"
      ],
      "text/plain": [
       "      id     price_doc\n",
       "0  30474  5.252493e+06\n",
       "1  30475  8.327093e+06\n",
       "2  30476  5.142327e+06\n",
       "3  30477  5.519430e+06\n",
       "4  30478  5.285491e+06"
      ]
     },
     "execution_count": 649,
     "metadata": {},
     "output_type": "execute_result"
    }
   ],
   "source": [
    "#tuning parameter \n",
    "\n",
    "n_jobs=4\n",
    "df_test = pd.read_csv(\"./data/input/test.csv\", usecols =['id'])\n",
    "\n",
    "y_predict = best_est.predict(x_test)\n",
    "p_y =np.exp(y_predict)-1\n",
    "id_test = df_test.id\n",
    "output = pd.DataFrame({'id': id_test, 'price_doc': p_y})\n",
    "output.head()"
   ]
  },
  {
   "cell_type": "code",
   "execution_count": 472,
   "metadata": {},
   "outputs": [
    {
     "data": {
      "text/plain": [
       "15.708222081182461"
      ]
     },
     "execution_count": 472,
     "metadata": {},
     "output_type": "execute_result"
    }
   ],
   "source": [
    "np.exp(output.price_doc.apply(np.log).mean())\n",
    "lnm"
   ]
  },
  {
   "cell_type": "code",
   "execution_count": 651,
   "metadata": {},
   "outputs": [
    {
     "data": {
      "text/html": [
       "<div>\n",
       "<style>\n",
       "    .dataframe thead tr:only-child th {\n",
       "        text-align: right;\n",
       "    }\n",
       "\n",
       "    .dataframe thead th {\n",
       "        text-align: left;\n",
       "    }\n",
       "\n",
       "    .dataframe tbody tr th {\n",
       "        vertical-align: top;\n",
       "    }\n",
       "</style>\n",
       "<table border=\"1\" class=\"dataframe\">\n",
       "  <thead>\n",
       "    <tr style=\"text-align: right;\">\n",
       "      <th></th>\n",
       "      <th>id</th>\n",
       "      <th>price_doc</th>\n",
       "    </tr>\n",
       "  </thead>\n",
       "  <tbody>\n",
       "    <tr>\n",
       "      <th>0</th>\n",
       "      <td>30474</td>\n",
       "      <td>5.429479e+06</td>\n",
       "    </tr>\n",
       "    <tr>\n",
       "      <th>1</th>\n",
       "      <td>30475</td>\n",
       "      <td>8.528568e+06</td>\n",
       "    </tr>\n",
       "    <tr>\n",
       "      <th>2</th>\n",
       "      <td>30476</td>\n",
       "      <td>5.317860e+06</td>\n",
       "    </tr>\n",
       "    <tr>\n",
       "      <th>3</th>\n",
       "      <td>30477</td>\n",
       "      <td>5.699747e+06</td>\n",
       "    </tr>\n",
       "    <tr>\n",
       "      <th>4</th>\n",
       "      <td>30478</td>\n",
       "      <td>5.462904e+06</td>\n",
       "    </tr>\n",
       "  </tbody>\n",
       "</table>\n",
       "</div>"
      ],
      "text/plain": [
       "      id     price_doc\n",
       "0  30474  5.429479e+06\n",
       "1  30475  8.528568e+06\n",
       "2  30476  5.317860e+06\n",
       "3  30477  5.699747e+06\n",
       "4  30478  5.462904e+06"
      ]
     },
     "execution_count": 651,
     "metadata": {},
     "output_type": "execute_result"
    }
   ],
   "source": [
    "##\n",
    "lnm = np.log(macro_mean)\n",
    "p_y = shift_logmean_but_keep_scale(p_y, lnm, micro_humility_factor )\n",
    "\n",
    "adjusted_output = pd.DataFrame({'id': id_test, 'price_doc': p_y})\n",
    "adjusted_output.head() "
   ]
  },
  {
   "cell_type": "code",
   "execution_count": 653,
   "metadata": {},
   "outputs": [],
   "source": [
    "adjusted_output.to_csv('./data/output/GBM_cleandata_adjust_feaure_vif.csv', index=False)"
   ]
  },
  {
   "cell_type": "code",
   "execution_count": null,
   "metadata": {
    "collapsed": true
   },
   "outputs": [],
   "source": []
  }
 ],
 "metadata": {
  "kernelspec": {
   "display_name": "Python 2",
   "language": "python",
   "name": "python2"
  },
  "language_info": {
   "codemirror_mode": {
    "name": "ipython",
    "version": 2
   },
   "file_extension": ".py",
   "mimetype": "text/x-python",
   "name": "python",
   "nbconvert_exporter": "python",
   "pygments_lexer": "ipython2",
   "version": "2.7.13"
  }
 },
 "nbformat": 4,
 "nbformat_minor": 2
}
