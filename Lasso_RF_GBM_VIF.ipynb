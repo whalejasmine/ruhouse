{
 "cells": [
  {
   "cell_type": "code",
   "execution_count": 1,
   "metadata": {
    "collapsed": true
   },
   "outputs": [],
   "source": [
    "import pandas as pd\n",
    "import numpy as np\n",
    "import pylab as plt\n",
    "import matplotlib.pyplot as plt\n",
    "##import xgboost as xgb\n",
    "from sklearn.preprocessing import LabelEncoder\n",
    "from scipy.stats import skew\n",
    "import numpy as np\n",
    "import seaborn as sns\n",
    "from scipy import stats\n",
    "color = sns.color_palette()\n",
    "from sklearn import model_selection, preprocessing\n",
    "import datetime\n",
    "import scipy as sp\n",
    "# Get ready for lots of annoying deprecation warnings\n",
    "import statsmodels.api as sm\n",
    "from sklearn.preprocessing import StandardScaler\n",
    "from sklearn.feature_selection import VarianceThreshold\n",
    "#from sklearn_pandas import DataFrameMapper\n",
    "%matplotlib inline"
   ]
  },
  {
   "cell_type": "code",
   "execution_count": 2,
   "metadata": {
    "collapsed": true
   },
   "outputs": [],
   "source": [
    "def clean_data_macro(df):\n",
    "    # convert object column to numeric\n",
    "    char_columns = (df.dtypes[df.dtypes.map(lambda x : x =='object')]).index\n",
    "    float_columns = (df.dtypes[df.dtypes.map(lambda x : x =='float64')]).index\n",
    "    le=LabelEncoder()\n",
    "    for feature in char_columns:\n",
    "        df[feature]=le.fit_transform(df[feature])\n",
    "    # cvert float64 to float32\n",
    "    df[float_columns]=df[float_columns].astype(np.float32)\n",
    "    df.fillna(df.median(),inplace = True)\n",
    "    return df"
   ]
  },
  {
   "cell_type": "markdown",
   "metadata": {},
   "source": [
    "### Summary Clean for train set"
   ]
  },
  {
   "cell_type": "code",
   "execution_count": 3,
   "metadata": {
    "collapsed": true
   },
   "outputs": [],
   "source": [
    "# drop missing value >0.35 of total observations\n",
    "# keep state and build_year for training data\n",
    "def drop_high_volumn_missing(df):\n",
    "    not_move = [\"build_year\",\"state\"]\n",
    "    high_missing_train_feature= df.columns[df.isnull().sum()>0.35*len(df)].tolist()\n",
    "    \n",
    "    for g in not_move:\n",
    "        if g in high_missing_train_feature:\n",
    "            high_missing_train_feature.remove(g)\n",
    "    df.drop(high_missing_train_feature,axis = 1, inplace=True)    \n",
    "    return df\n",
    "\n",
    "## drop build_ columns: drop na obs or drop columns\n",
    "def drop_build_function(df):\n",
    "    not_move = [\"build_year\"]\n",
    "    build_feature = df.filter(regex=r'^build_count_', axis=1).columns.tolist()\n",
    "    build_feature2 = df.filter(regex=r'^raion_build_count_', axis=1).columns.tolist()\n",
    "    for e in build_feature:\n",
    "        for g in not_move:\n",
    "            if e==g:\n",
    "                high_missing_train_feature.remove(e)\n",
    "    build_feature.extend(build_feature2)\n",
    "    df.drop(build_feature,axis = 1)\n",
    "    return df\n",
    "\n",
    "# remove outliers\n",
    "'''def reject_outliers(df, m = 1):\n",
    "    d = np.abs(df - np.median(df))\n",
    "    mdev = np.median(d)\n",
    "    s = d/mdev if mdev else 0.\n",
    "    return df[s<m]\n",
    "'''\n",
    "def reject_outliers(df, iq_range=0.5):\n",
    "    #df[np.abs(df.Data-df.Data.mean())<=(3*df.Data.std())]\n",
    "    pcnt = (1 - iq_range) / 2\n",
    "    qlow, median, qhigh = df.dropna().quantile([pcnt, 0.50, 1-pcnt])\n",
    "    iqr = qhigh - qlow\n",
    "    return df[ (df - median).abs() <= iqr]\n",
    "\n",
    "def clean_data(df):\n",
    "    #add str feature \n",
    "    #df_all.apartment_name=df_all.sub_area + df_all['metro_km_avto'].astype(str)\n",
    "\n",
    "    # convert object column to numeric\n",
    "    char_columns = (df.dtypes[df.dtypes.map(lambda x : x =='object')]).index\n",
    "    float_columns = (df.dtypes[df.dtypes.map(lambda x : x =='float64')]).index\n",
    "    le=LabelEncoder()\n",
    "    for feature in char_columns:\n",
    "        df[feature]=le.fit_transform(df[feature])\n",
    "    # cvert float64 to float32\n",
    "    df[float_columns]=df[float_columns].astype(np.float32)\n",
    "    return df\n",
    "def handle_missing(df):\n",
    "    # fill build_ and cafe_, state, NA to 0\n",
    "\n",
    "    df.filter(regex=r'^cafe_', axis=1).fillna(0, inplace=True)\n",
    "    #build_feature\n",
    "    not_move = [\"build_year\"]\n",
    "    build_feature = df.filter(regex=r'^build_count_', axis=1).columns.tolist()\n",
    "    build_feature2 = df.filter(regex=r'^raion_build_count_', axis=1).columns.tolist()\n",
    "    for e in build_feature:\n",
    "        for g in not_move:\n",
    "            if e==g:\n",
    "                high_missing_train_feature.remove(e)\n",
    "    build_feature.extend(build_feature2)\n",
    "    #build fill median or 0?\n",
    "    df[build_feature].fillna(df[build_feature].median(),inplace=True)\n",
    "    #fill state\n",
    "    df['state'].fillna(0,inplace=True) \n",
    "    \n",
    "\n",
    "    return df"
   ]
  },
  {
   "cell_type": "code",
   "execution_count": 14,
   "metadata": {
    "collapsed": true
   },
   "outputs": [],
   "source": [
    "# add month year week and other feature\n",
    "def add_feature(df_all):\n",
    "    month_year = (df_all.timestamp.dt.month + df_all.timestamp.dt.year * 100)\n",
    "    month_year_cnt_map = month_year.value_counts().to_dict()\n",
    "    df_all['month_year_cnt'] = month_year.map(month_year_cnt_map)\n",
    "\n",
    "    week_year = (df_all.timestamp.dt.weekofyear + df_all.timestamp.dt.year * 100)\n",
    "    week_year_cnt_map = week_year.value_counts().to_dict()\n",
    "    df_all['week_year_cnt'] = week_year.map(week_year_cnt_map)\n",
    "\n",
    "    df_all['month'] = df_all.timestamp.dt.month\n",
    "    df_all['dow'] = df_all.timestamp.dt.dayofweek\n",
    "\n",
    "    # Other feature engineering\n",
    "    df_all['rel_floor'] = df_all['floor'] / df_all['max_floor'].astype(float)\n",
    "    df_all['rel_kitch_sq'] = df_all['kitch_sq'] / df_all['full_sq'].astype(float)\n",
    "    \n",
    "    df_all['rel_kitch_sq'].fillna(0,inplace=True)\n",
    "    df_all['rel_floor'].fillna(0,inplace=True)\n",
    "    \n",
    "    df_all['room_size'] = df_all['life_sq'] / df_all['num_room'].astype(float)\n",
    "    # df_all.replace(np.inf, np.nan)\n",
    "    ##trainBuild = df_train.dropna()\n",
    "     #3* Polynomials on the top 1 existing features\n",
    "    df_all[\"full_sq-s2\"] = df_all[\"full_sq\"] ** 2\n",
    "    df_all[\"full_sq-s3\"] = df_all[\"full_sq\"] ** 3\n",
    "    df_all[\"full_sq-Sq\"] = np.sqrt(df_all[\"full_sq\"])\n",
    "    df_all[\"yearbuilt\"] = pd.to_numeric(df_all[\"build_year\"].map(lambda x:str(x).split(\".\")[0]),errors='coerce')\n",
    "    # Remove timestamp buildyear column (may overfit the model in train)\n",
    "    #df_all.drop(['timestamp',\"id\"], axis=1, inplace=True)\n",
    "    df_all.apartment_name=df_all.sub_area + df_all['metro_km_avto'].astype(str)\n",
    "    return df_all"
   ]
  },
  {
   "cell_type": "code",
   "execution_count": 4,
   "metadata": {
    "collapsed": true
   },
   "outputs": [],
   "source": [
    "#load files\n",
    "train = pd.read_csv('./data/output/train_clean.csv', parse_dates=['timestamp'])\n",
    "test = pd.read_csv('./data/output/test_clean.csv', parse_dates=['timestamp'])\n",
    "macro_cols = [\"balance_trade\", \"balance_trade_growth\", \"eurrub\", \"average_provision_of_build_contract\",\n",
    "\"micex_rgbi_tr\", \"micex_cbi_tr\", \"deposits_rate\", \"mortgage_value\", \"mortgage_rate\",\n",
    "\"income_per_cap\", \"rent_price_4+room_bus\", \"museum_visitis_per_100_cap\", \"apartment_build\"]\n",
    "macro = pd.read_csv('./data/input/macro.csv',parse_dates=['timestamp']\n",
    "                    ,usecols=['timestamp']+macro_cols)\n",
    "#macros = clean_data_macro(macro) #clean macros\n",
    "num_train = len(train)\n",
    "#id_test = test.id"
   ]
  },
  {
   "cell_type": "code",
   "execution_count": 5,
   "metadata": {
    "collapsed": false
   },
   "outputs": [
    {
     "data": {
      "text/plain": [
       "0    31\n",
       "1    31\n",
       "2    31\n",
       "3    31\n",
       "4    31\n",
       "Name: month_year_cnt, dtype: int64"
      ]
     },
     "execution_count": 5,
     "metadata": {},
     "output_type": "execute_result"
    }
   ],
   "source": [
    "#impute macro variable\n",
    "month_year = (macro.timestamp.dt.month + macro.timestamp.dt.year * 100)\n",
    "month_year_cnt_map = month_year.value_counts().to_dict()\n",
    "macro['month_year_cnt'] = month_year.map(month_year_cnt_map)\n",
    "macro['month_year_cnt'].head()"
   ]
  },
  {
   "cell_type": "code",
   "execution_count": 6,
   "metadata": {
    "collapsed": true
   },
   "outputs": [],
   "source": [
    "# by monthyear count to compute median \n",
    "macro.fillna(macro.groupby(\"month_year_cnt\").median(),inplace =True )"
   ]
  },
  {
   "cell_type": "code",
   "execution_count": 7,
   "metadata": {
    "collapsed": true
   },
   "outputs": [],
   "source": [
    "# drop month_year_cnt\n",
    "macro.drop([\"month_year_cnt\"], axis=1, inplace=True)"
   ]
  },
  {
   "cell_type": "code",
   "execution_count": 8,
   "metadata": {
    "collapsed": false
   },
   "outputs": [
    {
     "data": {
      "text/plain": [
       "(2484, 14)"
      ]
     },
     "execution_count": 8,
     "metadata": {},
     "output_type": "execute_result"
    }
   ],
   "source": [
    "macro.shape"
   ]
  },
  {
   "cell_type": "code",
   "execution_count": 9,
   "metadata": {
    "collapsed": false
   },
   "outputs": [
    {
     "data": {
      "text/plain": [
       "(38058, 292)"
      ]
     },
     "execution_count": 9,
     "metadata": {},
     "output_type": "execute_result"
    }
   ],
   "source": [
    "all = pd.concat(objs=[train,test],axis = 0)\n",
    "all.shape"
   ]
  },
  {
   "cell_type": "code",
   "execution_count": 10,
   "metadata": {
    "collapsed": false
   },
   "outputs": [
    {
     "data": {
      "text/plain": [
       "(30396, 305)"
      ]
     },
     "execution_count": 10,
     "metadata": {},
     "output_type": "execute_result"
    }
   ],
   "source": [
    "df_train = pd.merge_ordered(train, macro, on='timestamp', how='left')\n",
    "df_train.shape"
   ]
  },
  {
   "cell_type": "code",
   "execution_count": 11,
   "metadata": {
    "collapsed": false
   },
   "outputs": [
    {
     "data": {
      "text/plain": [
       "(38058, 305)"
      ]
     },
     "execution_count": 11,
     "metadata": {},
     "output_type": "execute_result"
    }
   ],
   "source": [
    "df_all = pd.merge_ordered(all, macro, on='timestamp', how='left')\n",
    "df_all.shape"
   ]
  },
  {
   "cell_type": "code",
   "execution_count": 12,
   "metadata": {
    "collapsed": false
   },
   "outputs": [
    {
     "name": "stdout",
     "output_type": "stream",
     "text": [
      "Find most important features relative to target\n",
      "price_doc                     1.000000\n",
      "full_sq                       0.616516\n",
      "num_room                      0.490692\n",
      "life_sq                       0.484116\n",
      "kitch_sq                      0.354887\n",
      "sport_count_5000              0.297394\n",
      "sport_count_3000              0.292979\n",
      "trc_count_5000                0.291207\n",
      "sport_count_2000              0.280532\n",
      "office_sqm_5000               0.272362\n",
      "trc_sqm_5000                  0.269786\n",
      "sport_count_1500              0.260777\n",
      "sport_objects_raion           0.255460\n",
      "trc_count_3000                0.244037\n",
      "cafe_count_5000_price_1000    0.242608\n",
      "cafe_count_5000_price_1500    0.234759\n",
      "cafe_count_5000               0.233667\n",
      "cafe_count_5000_na_price      0.232171\n",
      "office_sqm_3000               0.229115\n",
      "cafe_count_5000_price_500     0.229006\n",
      "cafe_count_5000_price_2500    0.227656\n",
      "trc_sqm_3000                  0.227451\n",
      "office_count_5000             0.221321\n",
      "office_sqm_2000               0.218604\n",
      "cafe_count_5000_price_high    0.216587\n",
      "church_count_5000             0.215166\n",
      "cafe_count_5000_price_4000    0.212475\n",
      "leisure_count_5000            0.202340\n",
      "big_church_count_5000         0.200722\n",
      "sport_count_1000              0.200168\n",
      "                                ...   \n",
      "area_m                       -0.168745\n",
      "public_healthcare_km         -0.175718\n",
      "market_shop_km               -0.176520\n",
      "shopping_centers_km          -0.179703\n",
      "metro_km_avto                -0.180590\n",
      "metro_km_walk                -0.184011\n",
      "metro_min_walk               -0.184011\n",
      "park_km                      -0.187633\n",
      "fitness_km                   -0.192657\n",
      "metro_min_avto               -0.193446\n",
      "radiation_km                 -0.193791\n",
      "big_church_km                -0.195145\n",
      "museum_km                    -0.198468\n",
      "exhibition_km                -0.209233\n",
      "workplaces_km                -0.211104\n",
      "thermal_power_plant_km       -0.211585\n",
      "catering_km                  -0.212431\n",
      "swim_pool_km                 -0.213320\n",
      "theater_km                   -0.217582\n",
      "university_km                -0.220146\n",
      "basketball_km                -0.224845\n",
      "office_km                    -0.225174\n",
      "detention_facility_km        -0.225872\n",
      "stadium_km                   -0.238086\n",
      "nuclear_reactor_km           -0.259726\n",
      "ttk_km                       -0.274754\n",
      "bulvar_ring_km               -0.281345\n",
      "kremlin_km                   -0.281400\n",
      "sadovoe_km                   -0.285816\n",
      "zd_vokzaly_avto_km           -0.286216\n",
      "Name: price_doc, dtype: float64\n"
     ]
    }
   ],
   "source": [
    "# Find most important features relative to target\n",
    "print(\"Find most important features relative to target\")\n",
    "corr = df_train.corr()\n",
    "corr.sort_values([\"price_doc\"], ascending = False, inplace = True)\n",
    "print(corr.price_doc)"
   ]
  },
  {
   "cell_type": "code",
   "execution_count": 15,
   "metadata": {
    "collapsed": false
   },
   "outputs": [
    {
     "name": "stdout",
     "output_type": "stream",
     "text": [
      "(38058, 316)\n"
     ]
    }
   ],
   "source": [
    "dall=add_feature(df_all)\n",
    "print dall.shape"
   ]
  },
  {
   "cell_type": "code",
   "execution_count": 16,
   "metadata": {
    "collapsed": false
   },
   "outputs": [
    {
     "name": "stderr",
     "output_type": "stream",
     "text": [
      "C:\\Users\\qija\\AppData\\Local\\Continuum\\Anaconda2\\lib\\site-packages\\pandas\\core\\generic.py:3295: SettingWithCopyWarning: \n",
      "A value is trying to be set on a copy of a slice from a DataFrame\n",
      "\n",
      "See the caveats in the documentation: http://pandas.pydata.org/pandas-docs/stable/indexing.html#indexing-view-versus-copy\n",
      "  self._update_inplace(new_data)\n"
     ]
    },
    {
     "name": "stdout",
     "output_type": "stream",
     "text": [
      "(38058, 316)\n"
     ]
    }
   ],
   "source": [
    "dall_missing = handle_missing(dall)\n",
    "print dall_missing.shape"
   ]
  },
  {
   "cell_type": "markdown",
   "metadata": {},
   "source": [
    "### Select feature"
   ]
  },
  {
   "cell_type": "code",
   "execution_count": 18,
   "metadata": {
    "collapsed": false
   },
   "outputs": [
    {
     "data": {
      "text/plain": [
       "(30471, 191)"
      ]
     },
     "execution_count": 18,
     "metadata": {},
     "output_type": "execute_result"
    }
   ],
   "source": [
    "#train low correlated feature or VIF \n",
    "#train_feature = pd.read_csv(\"./data/output/train_feature_multicoliear.csv\")\n",
    "train_feature = pd.read_csv(\"./data/output/train_vif_fetrain.csv\")# to drop\n",
    "train_feature.shape"
   ]
  },
  {
   "cell_type": "code",
   "execution_count": 19,
   "metadata": {
    "collapsed": false
   },
   "outputs": [
    {
     "name": "stdout",
     "output_type": "stream",
     "text": [
      "(38058, 125)\n"
     ]
    },
    {
     "data": {
      "text/html": [
       "<div>\n",
       "<table border=\"1\" class=\"dataframe\">\n",
       "  <thead>\n",
       "    <tr style=\"text-align: right;\">\n",
       "      <th></th>\n",
       "      <th>16_29_male</th>\n",
       "      <th>ID_big_road1</th>\n",
       "      <th>ID_big_road2</th>\n",
       "      <th>ID_bus_terminal</th>\n",
       "      <th>ID_metro</th>\n",
       "      <th>ID_railroad_station_avto</th>\n",
       "      <th>ID_railroad_station_walk</th>\n",
       "      <th>ID_railroad_terminal</th>\n",
       "      <th>additional_education_km</th>\n",
       "      <th>additional_education_raion</th>\n",
       "      <th>...</th>\n",
       "      <th>week_year_cnt</th>\n",
       "      <th>month</th>\n",
       "      <th>dow</th>\n",
       "      <th>rel_floor</th>\n",
       "      <th>rel_kitch_sq</th>\n",
       "      <th>room_size</th>\n",
       "      <th>full_sq-s2</th>\n",
       "      <th>full_sq-s3</th>\n",
       "      <th>full_sq-Sq</th>\n",
       "      <th>yearbuilt</th>\n",
       "    </tr>\n",
       "  </thead>\n",
       "  <tbody>\n",
       "    <tr>\n",
       "      <th>0</th>\n",
       "      <td>9425</td>\n",
       "      <td>1</td>\n",
       "      <td>5</td>\n",
       "      <td>1</td>\n",
       "      <td>1</td>\n",
       "      <td>1</td>\n",
       "      <td>1.0</td>\n",
       "      <td>101</td>\n",
       "      <td>0.947962</td>\n",
       "      <td>3</td>\n",
       "      <td>...</td>\n",
       "      <td>1</td>\n",
       "      <td>8</td>\n",
       "      <td>5</td>\n",
       "      <td>0.0</td>\n",
       "      <td>0.0</td>\n",
       "      <td>NaN</td>\n",
       "      <td>1849.0</td>\n",
       "      <td>79507.0</td>\n",
       "      <td>6.557439</td>\n",
       "      <td>NaN</td>\n",
       "    </tr>\n",
       "    <tr>\n",
       "      <th>1</th>\n",
       "      <td>7571</td>\n",
       "      <td>2</td>\n",
       "      <td>4</td>\n",
       "      <td>2</td>\n",
       "      <td>2</td>\n",
       "      <td>2</td>\n",
       "      <td>2.0</td>\n",
       "      <td>32</td>\n",
       "      <td>1.072315</td>\n",
       "      <td>1</td>\n",
       "      <td>...</td>\n",
       "      <td>2</td>\n",
       "      <td>8</td>\n",
       "      <td>1</td>\n",
       "      <td>0.0</td>\n",
       "      <td>0.0</td>\n",
       "      <td>NaN</td>\n",
       "      <td>1156.0</td>\n",
       "      <td>39304.0</td>\n",
       "      <td>5.830952</td>\n",
       "      <td>NaN</td>\n",
       "    </tr>\n",
       "    <tr>\n",
       "      <th>2</th>\n",
       "      <td>9045</td>\n",
       "      <td>3</td>\n",
       "      <td>4</td>\n",
       "      <td>3</td>\n",
       "      <td>3</td>\n",
       "      <td>3</td>\n",
       "      <td>3.0</td>\n",
       "      <td>5</td>\n",
       "      <td>0.391957</td>\n",
       "      <td>1</td>\n",
       "      <td>...</td>\n",
       "      <td>2</td>\n",
       "      <td>8</td>\n",
       "      <td>5</td>\n",
       "      <td>0.0</td>\n",
       "      <td>0.0</td>\n",
       "      <td>NaN</td>\n",
       "      <td>1849.0</td>\n",
       "      <td>79507.0</td>\n",
       "      <td>6.557439</td>\n",
       "      <td>NaN</td>\n",
       "    </tr>\n",
       "    <tr>\n",
       "      <th>3</th>\n",
       "      <td>1450</td>\n",
       "      <td>1</td>\n",
       "      <td>17</td>\n",
       "      <td>1</td>\n",
       "      <td>4</td>\n",
       "      <td>4</td>\n",
       "      <td>4.0</td>\n",
       "      <td>83</td>\n",
       "      <td>0.892674</td>\n",
       "      <td>6</td>\n",
       "      <td>...</td>\n",
       "      <td>1</td>\n",
       "      <td>9</td>\n",
       "      <td>3</td>\n",
       "      <td>0.0</td>\n",
       "      <td>0.0</td>\n",
       "      <td>NaN</td>\n",
       "      <td>7921.0</td>\n",
       "      <td>704969.0</td>\n",
       "      <td>9.433981</td>\n",
       "      <td>NaN</td>\n",
       "    </tr>\n",
       "    <tr>\n",
       "      <th>4</th>\n",
       "      <td>2583</td>\n",
       "      <td>4</td>\n",
       "      <td>10</td>\n",
       "      <td>4</td>\n",
       "      <td>5</td>\n",
       "      <td>113</td>\n",
       "      <td>5.0</td>\n",
       "      <td>113</td>\n",
       "      <td>0.810801</td>\n",
       "      <td>2</td>\n",
       "      <td>...</td>\n",
       "      <td>5</td>\n",
       "      <td>9</td>\n",
       "      <td>0</td>\n",
       "      <td>0.0</td>\n",
       "      <td>0.0</td>\n",
       "      <td>NaN</td>\n",
       "      <td>5929.0</td>\n",
       "      <td>456533.0</td>\n",
       "      <td>8.774964</td>\n",
       "      <td>NaN</td>\n",
       "    </tr>\n",
       "  </tbody>\n",
       "</table>\n",
       "<p>5 rows × 125 columns</p>\n",
       "</div>"
      ],
      "text/plain": [
       "   16_29_male  ID_big_road1  ID_big_road2  ID_bus_terminal  ID_metro  \\\n",
       "0        9425             1             5                1         1   \n",
       "1        7571             2             4                2         2   \n",
       "2        9045             3             4                3         3   \n",
       "3        1450             1            17                1         4   \n",
       "4        2583             4            10                4         5   \n",
       "\n",
       "   ID_railroad_station_avto  ID_railroad_station_walk  ID_railroad_terminal  \\\n",
       "0                         1                       1.0                   101   \n",
       "1                         2                       2.0                    32   \n",
       "2                         3                       3.0                     5   \n",
       "3                         4                       4.0                    83   \n",
       "4                       113                       5.0                   113   \n",
       "\n",
       "   additional_education_km  additional_education_raion    ...      \\\n",
       "0                 0.947962                           3    ...       \n",
       "1                 1.072315                           1    ...       \n",
       "2                 0.391957                           1    ...       \n",
       "3                 0.892674                           6    ...       \n",
       "4                 0.810801                           2    ...       \n",
       "\n",
       "   week_year_cnt  month dow rel_floor  rel_kitch_sq  room_size  full_sq-s2  \\\n",
       "0              1      8   5       0.0           0.0        NaN      1849.0   \n",
       "1              2      8   1       0.0           0.0        NaN      1156.0   \n",
       "2              2      8   5       0.0           0.0        NaN      1849.0   \n",
       "3              1      9   3       0.0           0.0        NaN      7921.0   \n",
       "4              5      9   0       0.0           0.0        NaN      5929.0   \n",
       "\n",
       "   full_sq-s3  full_sq-Sq  yearbuilt  \n",
       "0     79507.0    6.557439        NaN  \n",
       "1     39304.0    5.830952        NaN  \n",
       "2     79507.0    6.557439        NaN  \n",
       "3    704969.0    9.433981        NaN  \n",
       "4    456533.0    8.774964        NaN  \n",
       "\n",
       "[5 rows x 125 columns]"
      ]
     },
     "execution_count": 19,
     "metadata": {},
     "output_type": "execute_result"
    }
   ],
   "source": [
    "#readin train set\n",
    "#df_train = pd.read_csv(\"./data/input/train.csv\",parse_dates=['timestamp'],\n",
    "                      #usecols =['timestamp','price_doc','build_year']+train_feature.columns.tolist())\n",
    "#df_train = pd.read_csv(\"./data/input/train.csv\",parse_dates=['timestamp'])\n",
    "feature_drop = train_feature.columns.tolist()\n",
    "y_train =np.log1p(train[\"price_doc\"])\n",
    "xall=dall_missing.drop(feature_drop, axis = 1)\n",
    "print xall.shape\n",
    "xall.head()"
   ]
  },
  {
   "cell_type": "code",
   "execution_count": 20,
   "metadata": {
    "collapsed": false
   },
   "outputs": [
    {
     "data": {
      "text/html": [
       "<div>\n",
       "<table border=\"1\" class=\"dataframe\">\n",
       "  <thead>\n",
       "    <tr style=\"text-align: right;\">\n",
       "      <th></th>\n",
       "      <th>Column Type</th>\n",
       "      <th>Count</th>\n",
       "    </tr>\n",
       "  </thead>\n",
       "  <tbody>\n",
       "    <tr>\n",
       "      <th>0</th>\n",
       "      <td>int64</td>\n",
       "      <td>40</td>\n",
       "    </tr>\n",
       "    <tr>\n",
       "      <th>1</th>\n",
       "      <td>float64</td>\n",
       "      <td>71</td>\n",
       "    </tr>\n",
       "    <tr>\n",
       "      <th>2</th>\n",
       "      <td>object</td>\n",
       "      <td>14</td>\n",
       "    </tr>\n",
       "  </tbody>\n",
       "</table>\n",
       "</div>"
      ],
      "text/plain": [
       "  Column Type  Count\n",
       "0       int64     40\n",
       "1     float64     71\n",
       "2      object     14"
      ]
     },
     "execution_count": 20,
     "metadata": {},
     "output_type": "execute_result"
    }
   ],
   "source": [
    "dtype_df = xall.dtypes.reset_index()\n",
    "dtype_df.columns = [\"Count\", \"Column Type\"]\n",
    "dtype_df.groupby(\"Column Type\").aggregate('count').reset_index()"
   ]
  },
  {
   "cell_type": "code",
   "execution_count": 22,
   "metadata": {
    "collapsed": false
   },
   "outputs": [
    {
     "name": "stdout",
     "output_type": "stream",
     "text": [
      "Numerical features : 111\n",
      "Categorical features : 14\n"
     ]
    }
   ],
   "source": [
    "categorical_features = xall.select_dtypes(include = [\"object\"]).columns\n",
    "numerical_features = xall.select_dtypes(exclude = [\"object\"]).columns\n",
    "#numerical_features = numerical_features.drop([\"price_doc\", 'id',\"timestamp\"])\n",
    "print(\"Numerical features : \" + str(len(numerical_features)))\n",
    "print(\"Categorical features : \" + str(len(categorical_features)))\n",
    "all_num = xall[numerical_features]\n",
    "all_cat =xall[categorical_features]"
   ]
  },
  {
   "cell_type": "code",
   "execution_count": 23,
   "metadata": {
    "collapsed": false
   },
   "outputs": [
    {
     "name": "stdout",
     "output_type": "stream",
     "text": [
      "NAs for numerical features in train and test : 201357\n",
      "Remaining NAs for numerical features in train and test : 0\n"
     ]
    }
   ],
   "source": [
    "# Handle remaining missing values for numerical features by using median as replacement\n",
    "print(\"NAs for numerical features in train and test : \" + str(all_num.isnull().values.sum()))\n",
    "all_num = all_num.fillna(all_num.median())\n",
    "print(\"Remaining NAs for numerical features in train and test : \" + str(all_num.isnull().values.sum()))"
   ]
  },
  {
   "cell_type": "code",
   "execution_count": 24,
   "metadata": {
    "collapsed": false
   },
   "outputs": [
    {
     "name": "stdout",
     "output_type": "stream",
     "text": [
      "NAs for categorical features in train and test : 0\n",
      "Remaining NAs for categorical features in train and test : 0\n"
     ]
    }
   ],
   "source": [
    "# Create dummy features for categorical values via one-hot encoding\n",
    "print(\"NAs for categorical features in train and test : \" + str(all_cat.isnull().values.sum()))\n",
    "all_cat = pd.get_dummies(all_cat)\n",
    "print(\"Remaining NAs for categorical features in train and test : \" + str(all_cat.isnull().values.sum()))"
   ]
  },
  {
   "cell_type": "code",
   "execution_count": 25,
   "metadata": {
    "collapsed": false
   },
   "outputs": [
    {
     "name": "stdout",
     "output_type": "stream",
     "text": [
      "(38058, 111)\n",
      "(38058, 175)\n"
     ]
    }
   ],
   "source": [
    "print all_num.shape\n",
    "print all_cat.shape"
   ]
  },
  {
   "cell_type": "code",
   "execution_count": 26,
   "metadata": {
    "collapsed": false
   },
   "outputs": [
    {
     "name": "stdout",
     "output_type": "stream",
     "text": [
      "100 skewed numerical features to log transform\n"
     ]
    }
   ],
   "source": [
    "# Log transform of the skewed numerical features to lessen impact of outliers\n",
    "# Inspired by Alexandru Papiu's script : https://www.kaggle.com/apapiu/house-prices-advanced-regression-techniques/regularized-linear-models\n",
    "# As a general rule of thumb, a skewness with an absolute value > 0.5 is considered at least moderately skewed\n",
    "from scipy import stats\n",
    "skewness = all_num.apply(lambda x: skew(x))\n",
    "skewness = skewness[abs(skewness) > 0.5]\n",
    "print(str(skewness.shape[0]) + \" skewed numerical features to log transform\")\n",
    "skewed_features = skewness.index\n",
    "all_num[skewed_features] = np.log1p(all_num[skewed_features].apply(lambda x: x-min(x)))"
   ]
  },
  {
   "cell_type": "code",
   "execution_count": 27,
   "metadata": {
    "collapsed": false
   },
   "outputs": [
    {
     "name": "stdout",
     "output_type": "stream",
     "text": [
      "New number of features : 286\n"
     ]
    }
   ],
   "source": [
    "## Join categorical and numerical features\n",
    "x_all = pd.concat([all_num, all_cat], axis = 1)\n",
    "print(\"New number of features : \" + str(x_all.shape[1]))"
   ]
  },
  {
   "cell_type": "code",
   "execution_count": 28,
   "metadata": {
    "collapsed": false
   },
   "outputs": [
    {
     "data": {
      "text/html": [
       "<div>\n",
       "<table border=\"1\" class=\"dataframe\">\n",
       "  <thead>\n",
       "    <tr style=\"text-align: right;\">\n",
       "      <th></th>\n",
       "      <th>Column Type</th>\n",
       "      <th>Count</th>\n",
       "    </tr>\n",
       "  </thead>\n",
       "  <tbody>\n",
       "    <tr>\n",
       "      <th>0</th>\n",
       "      <td>uint8</td>\n",
       "      <td>175</td>\n",
       "    </tr>\n",
       "    <tr>\n",
       "      <th>1</th>\n",
       "      <td>int64</td>\n",
       "      <td>8</td>\n",
       "    </tr>\n",
       "    <tr>\n",
       "      <th>2</th>\n",
       "      <td>float64</td>\n",
       "      <td>103</td>\n",
       "    </tr>\n",
       "  </tbody>\n",
       "</table>\n",
       "</div>"
      ],
      "text/plain": [
       "  Column Type  Count\n",
       "0       uint8    175\n",
       "1       int64      8\n",
       "2     float64    103"
      ]
     },
     "execution_count": 28,
     "metadata": {},
     "output_type": "execute_result"
    }
   ],
   "source": [
    "dtype_df = x_all.dtypes.reset_index()\n",
    "dtype_df.columns = [\"Count\", \"Column Type\"]\n",
    "dtype_df.groupby(\"Column Type\").aggregate('count').reset_index()"
   ]
  },
  {
   "cell_type": "code",
   "execution_count": 29,
   "metadata": {
    "collapsed": true
   },
   "outputs": [],
   "source": [
    "#split to train and test\n",
    "x_train = x_all[:num_train]\n",
    "x_test = x_all[num_train:]"
   ]
  },
  {
   "cell_type": "code",
   "execution_count": null,
   "metadata": {
    "collapsed": true
   },
   "outputs": [],
   "source": [
    "#x_train.to_csv(\"./data/input/x_train_0.5.csv\")\n",
    "#x_test.to_csv(\"./data/input/x_test_0.5.csv\")"
   ]
  },
  {
   "cell_type": "code",
   "execution_count": null,
   "metadata": {
    "collapsed": true
   },
   "outputs": [],
   "source": [
    "# Remove near zero variance features\n",
    "\n",
    "def get_low_variance_columns(dframe=None, columns=None,\n",
    "                             skip_columns=None, thresh=0.0,\n",
    "                             autoremove=False):\n",
    "    \"\"\"\n",
    "    Wrapper for sklearn VarianceThreshold for use on pandas dataframes.\n",
    "    \"\"\"\n",
    "    print(\"Finding low-variance features.\")\n",
    "    try:\n",
    "        # get list of all the original df columns\n",
    "        all_columns = dframe.columns\n",
    "\n",
    "        # remove `skip_columns`\n",
    "        remaining_columns = all_columns.drop(skip_columns)\n",
    "\n",
    "        # get length of new index\n",
    "        max_index = len(remaining_columns) - 1\n",
    "\n",
    "        # get indices for `skip_columns`\n",
    "        skipped_idx = [all_columns.get_loc(column)\n",
    "                       for column\n",
    "                       in skip_columns]\n",
    "\n",
    "        # adjust insert location by the number of columns removed\n",
    "        # (for non-zero insertion locations) to keep relative\n",
    "        # locations intact\n",
    "        for idx, item in enumerate(skipped_idx):\n",
    "            if item > max_index:\n",
    "                diff = item - max_index\n",
    "                skipped_idx[idx] -= diff\n",
    "            if item == max_index:\n",
    "                diff = item - len(skip_columns)\n",
    "                skipped_idx[idx] -= diff\n",
    "            if idx == 0:\n",
    "                skipped_idx[idx] = item\n",
    "\n",
    "        # get values of `skip_columns`\n",
    "        skipped_values = dframe.iloc[:, skipped_idx].values\n",
    "\n",
    "        # get dataframe values\n",
    "        X = dframe.loc[:, remaining_columns].values\n",
    "\n",
    "        # instantiate VarianceThreshold object\n",
    "        vt = VarianceThreshold(threshold=thresh)\n",
    "\n",
    "        # fit vt to data\n",
    "        vt.fit(X)\n",
    "\n",
    "        # get the indices of the features that are being kept\n",
    "        feature_indices = vt.get_support(indices=True)\n",
    "\n",
    "        # remove low-variance columns from index\n",
    "        feature_names = [remaining_columns[idx]\n",
    "                         for idx, _\n",
    "                         in enumerate(remaining_columns)\n",
    "                         if idx\n",
    "                         in feature_indices]\n",
    "\n",
    "        # get the columns to be removed\n",
    "        \n",
    "        removed_features = list(np.setdiff1d(remaining_columns,\n",
    "                                             feature_names))\n",
    "        print(\"Found {0} low-variance columns.\"\n",
    "              .format(len(removed_features)))\n",
    "\n",
    "        # remove the columns\n",
    "        if autoremove:\n",
    "            print(\"Removing low-variance features.\")\n",
    "            # remove the low-variance columns\n",
    "            X_removed = vt.transform(X)\n",
    "\n",
    "            print(\"Reassembling the dataframe (with low-variance \"\n",
    "                  \"features removed).\")\n",
    "            # re-assemble the dataframe\n",
    "            dframe = pd.DataFrame(data=X_removed,\n",
    "                                  columns=feature_names)\n",
    "\n",
    "            # add back the `skip_columns`\n",
    "            for idx, index in enumerate(skipped_idx):\n",
    "                dframe.insert(loc=index,\n",
    "                              column=skip_columns[idx],\n",
    "                              value=skipped_values[:, idx])\n",
    "            print(\"Succesfully removed low-variance columns.\")\n",
    "\n",
    "        # do not remove columns\n",
    "        else:\n",
    "            print(\"No changes have been made to the dataframe.\")\n",
    "\n",
    "    except Exception as e:\n",
    "        print(e)\n",
    "        print(\"Could not remove low-variance features. Something \"\n",
    "              \"went wrong.\")\n",
    "        pass\n",
    "\n",
    "    return dframe"
   ]
  },
  {
   "cell_type": "code",
   "execution_count": null,
   "metadata": {
    "collapsed": true
   },
   "outputs": [],
   "source": [
    "#get_low_variance_columns(dframe=x_train_scale, columns=None,\n",
    "  #                           skip_columns=None, thresh=0.1,\n",
    "  #                           autoremove=False)"
   ]
  },
  {
   "cell_type": "markdown",
   "metadata": {},
   "source": [
    "### Ridge & Lasso"
   ]
  },
  {
   "cell_type": "code",
   "execution_count": 30,
   "metadata": {
    "collapsed": false
   },
   "outputs": [
    {
     "name": "stderr",
     "output_type": "stream",
     "text": [
      "C:\\Users\\qija\\AppData\\Local\\Continuum\\Anaconda2\\lib\\site-packages\\sklearn\\cross_validation.py:44: DeprecationWarning: This module was deprecated in version 0.18 in favor of the model_selection module into which all the refactored classes and functions are moved. Also note that the interface of the new CV iterators are different from that of this module. This module will be removed in 0.20.\n",
      "  \"This module will be removed in 0.20.\", DeprecationWarning)\n"
     ]
    }
   ],
   "source": [
    "import pandas as pd\n",
    "import numpy as np\n",
    "import matplotlib.pyplot as plt\n",
    "from sklearn.preprocessing import scale\n",
    "from sklearn import cross_validation\n",
    "from sklearn.linear_model import Ridge, RidgeCV, Lasso, LassoCV\n",
    "from sklearn.metrics import mean_squared_error\n",
    "from sklearn.metrics import mean_squared_error, make_scorer\n",
    "from sklearn.model_selection import cross_val_score, train_test_split"
   ]
  },
  {
   "cell_type": "code",
   "execution_count": 31,
   "metadata": {
    "collapsed": true
   },
   "outputs": [],
   "source": [
    "# Define error measure for official scoring : RMSE\n",
    "scorer = make_scorer(mean_squared_error, greater_is_better = False)\n",
    "\n",
    "def rmse_cv_train(model):\n",
    "    rmse= np.sqrt(-cross_val_score(model, train_x, train_y, scoring = scorer, cv = 10))\n",
    "    return(rmse)\n",
    "\n",
    "def rmse_cv_test(model):\n",
    "    rmse= np.sqrt(-cross_val_score(model, test_x, test_y, scoring = scorer, cv = 10))\n",
    "    return(rmse)"
   ]
  },
  {
   "cell_type": "code",
   "execution_count": 32,
   "metadata": {
    "collapsed": true
   },
   "outputs": [],
   "source": [
    "alphas = 10**np.linspace(10,-2,100)*0.5"
   ]
  },
  {
   "cell_type": "code",
   "execution_count": null,
   "metadata": {
    "collapsed": false
   },
   "outputs": [],
   "source": [
    "ridge = Ridge(normalize=True)\n",
    "coefs = []\n",
    "for a in alphas:\n",
    "    ridge.set_params(alpha=a)\n",
    "    ridge.fit(x_train, y_train)\n",
    "    coefs.append(ridge.coef_)\n",
    "np.shape(coefs)"
   ]
  },
  {
   "cell_type": "code",
   "execution_count": null,
   "metadata": {
    "collapsed": false
   },
   "outputs": [],
   "source": [
    "ax = plt.gca()\n",
    "ax.plot(alphas, coefs)\n",
    "ax.set_xscale('log')\n",
    "plt.axis('tight')\n",
    "plt.xlabel('alpha')\n",
    "plt.ylabel('weights')"
   ]
  },
  {
   "cell_type": "code",
   "execution_count": 33,
   "metadata": {
    "collapsed": false
   },
   "outputs": [
    {
     "name": "stdout",
     "output_type": "stream",
     "text": [
      "(24316, 286)\n",
      "(6080, 286)\n"
     ]
    }
   ],
   "source": [
    "#split data for training\n",
    "train_x, test_x, train_y, test_y = cross_validation.train_test_split(x_train, y_train, test_size=0.2, random_state=1)\n",
    "print train_x.shape\n",
    "print test_x.shape"
   ]
  },
  {
   "cell_type": "code",
   "execution_count": 34,
   "metadata": {
    "collapsed": false
   },
   "outputs": [
    {
     "name": "stdout",
     "output_type": "stream",
     "text": [
      "('Best alpha :', 0.046630167344160901)\n"
     ]
    }
   ],
   "source": [
    "ridgecv = RidgeCV(alphas=alphas, scoring='neg_mean_squared_error', normalize=True)\n",
    "ridgecv.fit(train_x, train_y)\n",
    "alpha = ridgecv.alpha_\n",
    "print(\"Best alpha :\", alpha)"
   ]
  },
  {
   "cell_type": "code",
   "execution_count": 35,
   "metadata": {
    "collapsed": false
   },
   "outputs": [
    {
     "name": "stdout",
     "output_type": "stream",
     "text": [
      "('Best alpha :', 0.065282234281825252)\n"
     ]
    }
   ],
   "source": [
    "ridgecv = RidgeCV(alphas = [alpha * .6, alpha * .65, alpha * .7, alpha * .75, alpha * .8, alpha * .85, \n",
    "                          alpha * .9, alpha * .95, alpha, alpha * 1.05, alpha * 1.1, alpha * 1.15,\n",
    "                          alpha * 1.25, alpha * 1.3, alpha * 1.35, alpha * 1.4], \n",
    "                cv = 10)\n",
    "ridgecv.fit(train_x, train_y)\n",
    "alpha = ridgecv.alpha_\n",
    "print(\"Best alpha :\", alpha)"
   ]
  },
  {
   "cell_type": "code",
   "execution_count": 36,
   "metadata": {
    "collapsed": false
   },
   "outputs": [
    {
     "data": {
      "text/plain": [
       "0.20942255475109933"
      ]
     },
     "execution_count": 36,
     "metadata": {},
     "output_type": "execute_result"
    }
   ],
   "source": [
    "ridge4 = Ridge(alpha=ridgecv.alpha_, normalize=True)\n",
    "ridge4.fit(train_x, train_y)\n",
    "mean_squared_error(test_y, ridge4.predict(test_x))"
   ]
  },
  {
   "cell_type": "code",
   "execution_count": 37,
   "metadata": {
    "collapsed": false
   },
   "outputs": [
    {
     "name": "stdout",
     "output_type": "stream",
     "text": [
      "('Ridge RMSE on Training set :', 0.46455159805917212)\n",
      "('Ridge RMSE on Test set :', 0.46289078652233268)\n"
     ]
    }
   ],
   "source": [
    "print(\"Ridge RMSE on Training set :\", rmse_cv_train(ridge4).mean())\n",
    "print(\"Ridge RMSE on Test set :\", rmse_cv_test(ridge4).mean())\n",
    "y_train_rdg = ridge4.predict(train_x)\n",
    "y_test_rdg = ridge4.predict(test_x)"
   ]
  },
  {
   "cell_type": "code",
   "execution_count": 38,
   "metadata": {
    "collapsed": false
   },
   "outputs": [
    {
     "name": "stdout",
     "output_type": "stream",
     "text": [
      "[ 0.36218236  0.39577305  0.38159262]\n"
     ]
    }
   ],
   "source": [
    "cv_score_vl = cross_validation.cross_val_score(ridge4, test_x, test_y)\n",
    "print cv_score_vl"
   ]
  },
  {
   "cell_type": "code",
   "execution_count": 39,
   "metadata": {
    "collapsed": false
   },
   "outputs": [
    {
     "data": {
      "image/png": "[encoded data removed]",
      "text/plain": [
       "<matplotlib.figure.Figure at 0xe935160>"
      ]
     },
     "metadata": {},
     "output_type": "display_data"
    },
    {
     "data": {
      "image/png": "[encoded data removed]",
      "text/plain": [
       "<matplotlib.figure.Figure at 0x1394a208>"
      ]
     },
     "metadata": {},
     "output_type": "display_data"
    },
    {
     "name": "stdout",
     "output_type": "stream",
     "text": [
      "Ridge picked 285 features and eliminated the other 1 features\n"
     ]
    },
    {
     "data": {
      "image/png": "[encoded data removed]",
      "text/plain": [
       "<matplotlib.figure.Figure at 0x24a82d68>"
      ]
     },
     "metadata": {},
     "output_type": "display_data"
    }
   ],
   "source": [
    "# Plot residuals\n",
    "plt.scatter(y_train_rdg, y_train_rdg - train_y, c = \"blue\", marker = \"s\", label = \"Training data\")\n",
    "plt.scatter(y_test_rdg, y_test_rdg - test_y, c = \"lightgreen\", marker = \"s\", label = \"Validation data\")\n",
    "plt.title(\"Linear regression with Ridge regularization\")\n",
    "plt.xlabel(\"Predicted values\")\n",
    "plt.ylabel(\"Residuals\")\n",
    "plt.legend(loc = \"upper left\")\n",
    "plt.hlines(y = 0, xmin = 12, xmax = 20, color = \"red\")\n",
    "plt.show()\n",
    "\n",
    "# Plot predictions\n",
    "plt.scatter(y_train_rdg, train_y, c = \"blue\", marker = \"s\", label = \"Training data\")\n",
    "plt.scatter(y_test_rdg, test_y, c = \"lightgreen\", marker = \"s\", label = \"Validation data\")\n",
    "plt.title(\"Linear regression with Ridge regularization\")\n",
    "plt.xlabel(\"Predicted values\")\n",
    "plt.ylabel(\"Real values\")\n",
    "plt.legend(loc = \"upper left\")\n",
    "plt.plot([12, 20], [12, 20], c = \"red\")\n",
    "plt.show()\n",
    "\n",
    "# Plot important coefficients\n",
    "coefs = pd.Series(ridge4.coef_, index = train_x.columns)\n",
    "print(\"Ridge picked \" + str(sum(coefs != 0)) + \" features and eliminated the other \" +  \\\n",
    "      str(sum(coefs == 0)) + \" features\")\n",
    "imp_coefs = pd.concat([coefs.sort_values().head(10),\n",
    "                     coefs.sort_values().tail(10)])\n",
    "imp_coefs.plot(kind = \"barh\")\n",
    "plt.title(\"Coefficients in the Ridge Model\")\n",
    "plt.show()"
   ]
  },
  {
   "cell_type": "markdown",
   "metadata": {},
   "source": [
    "### Lasso"
   ]
  },
  {
   "cell_type": "code",
   "execution_count": 40,
   "metadata": {
    "collapsed": false
   },
   "outputs": [
    {
     "data": {
      "text/plain": [
       "<matplotlib.text.Text at 0x12eb5f28>"
      ]
     },
     "execution_count": 40,
     "metadata": {},
     "output_type": "execute_result"
    },
    {
     "data": {
      "image/png": "[encoded data removed]",
      "text/plain": [
       "<matplotlib.figure.Figure at 0x24985748>"
      ]
     },
     "metadata": {},
     "output_type": "display_data"
    }
   ],
   "source": [
    "lasso = Lasso(max_iter=10000, normalize=True)\n",
    "coefs = []\n",
    "for a in alphas:\n",
    "    lasso.set_params(alpha=a)\n",
    "    lasso.fit(scale(train_x), train_y)\n",
    "    coefs.append(lasso.coef_)\n",
    "ax = plt.gca()\n",
    "ax.plot(alphas*2, coefs)\n",
    "ax.set_xscale('log')\n",
    "plt.axis('tight')\n",
    "plt.xlabel('alpha')\n",
    "plt.ylabel('weights')"
   ]
  },
  {
   "cell_type": "code",
   "execution_count": 41,
   "metadata": {
    "collapsed": false
   },
   "outputs": [
    {
     "data": {
      "text/plain": [
       "0.20879687734259925"
      ]
     },
     "execution_count": 41,
     "metadata": {},
     "output_type": "execute_result"
    }
   ],
   "source": [
    "lassocv = LassoCV(alphas=None, cv=10, max_iter=100000, normalize=True)\n",
    "lassocv.fit(train_x, train_y)\n",
    "lasso.set_params(alpha=lassocv.alpha_)\n",
    "lasso.fit(train_x, train_y)\n",
    "mean_squared_error(test_y, lasso.predict(test_x))"
   ]
  },
  {
   "cell_type": "code",
   "execution_count": 42,
   "metadata": {
    "collapsed": false,
    "scrolled": true
   },
   "outputs": [
    {
     "name": "stdout",
     "output_type": "stream",
     "text": [
      "('Lasso RMSE on Training set :', 0.4642962978343535)\n",
      "('Lasso RMSE on Test set :', 0.46341203353421567)\n"
     ]
    }
   ],
   "source": [
    "print(\"Lasso RMSE on Training set :\", rmse_cv_train(lasso).mean())\n",
    "print(\"Lasso RMSE on Test set :\", rmse_cv_test(lasso).mean())\n",
    "y_train_lasso = lasso.predict(train_x)\n",
    "y_test_lasso = lasso.predict(test_x)"
   ]
  },
  {
   "cell_type": "code",
   "execution_count": 43,
   "metadata": {
    "collapsed": false
   },
   "outputs": [
    {
     "data": {
      "image/png": "[encoded data removed]",
      "text/plain": [
       "<matplotlib.figure.Figure at 0x249b5518>"
      ]
     },
     "metadata": {},
     "output_type": "display_data"
    },
    {
     "data": {
      "image/png": "[encoded data removed]",
      "text/plain": [
       "<matplotlib.figure.Figure at 0x12ccef60>"
      ]
     },
     "metadata": {},
     "output_type": "display_data"
    },
    {
     "name": "stdout",
     "output_type": "stream",
     "text": [
      "Lasso picked 197 features and eliminated the other 89 features\n"
     ]
    },
    {
     "data": {
      "image/png": "[encoded data removed]",
      "text/plain": [
       "<matplotlib.figure.Figure at 0x2432df98>"
      ]
     },
     "metadata": {},
     "output_type": "display_data"
    }
   ],
   "source": [
    "# Plot residuals\n",
    "plt.scatter(y_train_lasso, y_train_lasso - train_y, c = \"blue\", marker = \"s\", label = \"Training data\")\n",
    "plt.scatter(y_test_lasso, y_test_lasso - test_y, c = \"lightgreen\", marker = \"s\", label = \"Validation data\")\n",
    "plt.title(\"Linear regression with Lasso regularization\")\n",
    "plt.xlabel(\"Predicted values\")\n",
    "plt.ylabel(\"Residuals\")\n",
    "plt.legend(loc = \"upper left\")\n",
    "plt.hlines(y = 0, xmin = 12, xmax = 20, color = \"red\")\n",
    "plt.show()\n",
    "\n",
    "# Plot predictions\n",
    "plt.scatter(y_train_lasso, train_y, c = \"blue\", marker = \"s\", label = \"Training data\")\n",
    "plt.scatter(y_test_lasso, test_y, c = \"lightgreen\", marker = \"s\", label = \"Validation data\")\n",
    "plt.title(\"Linear regression with Lasso regularization\")\n",
    "plt.xlabel(\"Predicted values\")\n",
    "plt.ylabel(\"Real values\")\n",
    "plt.legend(loc = \"upper left\")\n",
    "plt.plot([12, 20], [12, 20], c = \"red\")\n",
    "plt.show()\n",
    "\n",
    "# Plot important coefficients\n",
    "coefs = pd.Series(lasso.coef_, index = train_x.columns)\n",
    "print(\"Lasso picked \" + str(sum(coefs != 0)) + \" features and eliminated the other \" +  \\\n",
    "      str(sum(coefs == 0)) + \" features\")\n",
    "imp_coefs = pd.concat([coefs.sort_values().head(10),\n",
    "                     coefs.sort_values().tail(10)])\n",
    "imp_coefs.plot(kind = \"barh\")\n",
    "plt.title(\"Coefficients in the Ridge Model\")\n",
    "plt.show()"
   ]
  },
  {
   "cell_type": "code",
   "execution_count": 44,
   "metadata": {
    "collapsed": false
   },
   "outputs": [
    {
     "name": "stdout",
     "output_type": "stream",
     "text": [
      "[ 0.35908884  0.39287977  0.37528629]\n"
     ]
    }
   ],
   "source": [
    "cv_score_lasso = cross_validation.cross_val_score(lasso, test_x, test_y)\n",
    "print cv_score_lasso"
   ]
  },
  {
   "cell_type": "markdown",
   "metadata": {},
   "source": [
    "### submission for linear"
   ]
  },
  {
   "cell_type": "code",
   "execution_count": 45,
   "metadata": {
    "collapsed": false
   },
   "outputs": [
    {
     "data": {
      "text/html": [
       "<div>\n",
       "<table border=\"1\" class=\"dataframe\">\n",
       "  <thead>\n",
       "    <tr style=\"text-align: right;\">\n",
       "      <th></th>\n",
       "      <th>id</th>\n",
       "      <th>price_doc</th>\n",
       "    </tr>\n",
       "  </thead>\n",
       "  <tbody>\n",
       "    <tr>\n",
       "      <th>0</th>\n",
       "      <td>30474</td>\n",
       "      <td>5.286300e+06</td>\n",
       "    </tr>\n",
       "    <tr>\n",
       "      <th>1</th>\n",
       "      <td>30475</td>\n",
       "      <td>8.688052e+06</td>\n",
       "    </tr>\n",
       "    <tr>\n",
       "      <th>2</th>\n",
       "      <td>30476</td>\n",
       "      <td>5.139496e+06</td>\n",
       "    </tr>\n",
       "    <tr>\n",
       "      <th>3</th>\n",
       "      <td>30477</td>\n",
       "      <td>6.705135e+06</td>\n",
       "    </tr>\n",
       "    <tr>\n",
       "      <th>4</th>\n",
       "      <td>30478</td>\n",
       "      <td>5.355266e+06</td>\n",
       "    </tr>\n",
       "  </tbody>\n",
       "</table>\n",
       "</div>"
      ],
      "text/plain": [
       "      id     price_doc\n",
       "0  30474  5.286300e+06\n",
       "1  30475  8.688052e+06\n",
       "2  30476  5.139496e+06\n",
       "3  30477  6.705135e+06\n",
       "4  30478  5.355266e+06"
      ]
     },
     "execution_count": 45,
     "metadata": {},
     "output_type": "execute_result"
    }
   ],
   "source": [
    "df_test = pd.read_csv(\"./data/input/test.csv\", usecols =['id'])\n",
    "y_predict = lasso.predict(x_test)\n",
    "p_y =np.exp(y_predict)-1\n",
    "id_test = df_test.id\n",
    "lasso_output = pd.DataFrame({'id': id_test, 'price_doc': p_y})\n",
    "lasso_output.head()"
   ]
  },
  {
   "cell_type": "code",
   "execution_count": 46,
   "metadata": {
    "collapsed": true
   },
   "outputs": [],
   "source": [
    "lasso_output.to_csv('./data/output/lasso_dummy_vif.csv', index=False)"
   ]
  },
  {
   "cell_type": "code",
   "execution_count": 47,
   "metadata": {
    "collapsed": false
   },
   "outputs": [
    {
     "data": {
      "text/html": [
       "<div>\n",
       "<table border=\"1\" class=\"dataframe\">\n",
       "  <thead>\n",
       "    <tr style=\"text-align: right;\">\n",
       "      <th></th>\n",
       "      <th>id</th>\n",
       "      <th>price_doc</th>\n",
       "    </tr>\n",
       "  </thead>\n",
       "  <tbody>\n",
       "    <tr>\n",
       "      <th>0</th>\n",
       "      <td>30474</td>\n",
       "      <td>5.114179e+06</td>\n",
       "    </tr>\n",
       "    <tr>\n",
       "      <th>1</th>\n",
       "      <td>30475</td>\n",
       "      <td>8.485672e+06</td>\n",
       "    </tr>\n",
       "    <tr>\n",
       "      <th>2</th>\n",
       "      <td>30476</td>\n",
       "      <td>5.080628e+06</td>\n",
       "    </tr>\n",
       "    <tr>\n",
       "      <th>3</th>\n",
       "      <td>30477</td>\n",
       "      <td>6.740721e+06</td>\n",
       "    </tr>\n",
       "    <tr>\n",
       "      <th>4</th>\n",
       "      <td>30478</td>\n",
       "      <td>5.343484e+06</td>\n",
       "    </tr>\n",
       "  </tbody>\n",
       "</table>\n",
       "</div>"
      ],
      "text/plain": [
       "      id     price_doc\n",
       "0  30474  5.114179e+06\n",
       "1  30475  8.485672e+06\n",
       "2  30476  5.080628e+06\n",
       "3  30477  6.740721e+06\n",
       "4  30478  5.343484e+06"
      ]
     },
     "execution_count": 47,
     "metadata": {},
     "output_type": "execute_result"
    }
   ],
   "source": [
    "df_test = pd.read_csv(\"./data/input/test.csv\", usecols =['id'])\n",
    "y_predict = ridge4.predict(x_test)\n",
    "p_y =np.exp(y_predict)-1\n",
    "id_test = df_test.id\n",
    "ridge_output = pd.DataFrame({'id': id_test, 'price_doc': p_y})\n",
    "ridge_output.head()"
   ]
  },
  {
   "cell_type": "code",
   "execution_count": 48,
   "metadata": {
    "collapsed": true
   },
   "outputs": [],
   "source": [
    "ridge_output.to_csv('./data/output/ridge_dummy_vif.csv', index=False)"
   ]
  },
  {
   "cell_type": "markdown",
   "metadata": {},
   "source": [
    "### Random forest and GBM"
   ]
  },
  {
   "cell_type": "code",
   "execution_count": null,
   "metadata": {
    "collapsed": true
   },
   "outputs": [],
   "source": [
    "https://elitedatascience.com/python-machine-learning-tutorial-scikit-learn\n",
    "    \n",
    "    http://aplunket.com/random-forest-regressor/"
   ]
  },
  {
   "cell_type": "code",
   "execution_count": 49,
   "metadata": {
    "collapsed": false
   },
   "outputs": [
    {
     "data": {
      "text/plain": [
       "(38058, 111)"
      ]
     },
     "execution_count": 49,
     "metadata": {},
     "output_type": "execute_result"
    }
   ],
   "source": [
    "# numeric data scaling \n",
    "from sklearn.preprocessing import StandardScaler\n",
    "sc = StandardScaler()\n",
    "# exclude CHAS as this is a categorical variable (by the river or not)\n",
    "all_num_scaled = pd.DataFrame(sc.fit_transform(all_num), columns=all_num.columns.values)\n",
    "all_num_scaled.shape"
   ]
  },
  {
   "cell_type": "code",
   "execution_count": 50,
   "metadata": {
    "collapsed": false
   },
   "outputs": [
    {
     "name": "stdout",
     "output_type": "stream",
     "text": [
      "New number of features : 286\n"
     ]
    },
    {
     "data": {
      "text/html": [
       "<div>\n",
       "<table border=\"1\" class=\"dataframe\">\n",
       "  <thead>\n",
       "    <tr style=\"text-align: right;\">\n",
       "      <th></th>\n",
       "      <th>Column Type</th>\n",
       "      <th>Count</th>\n",
       "    </tr>\n",
       "  </thead>\n",
       "  <tbody>\n",
       "    <tr>\n",
       "      <th>0</th>\n",
       "      <td>uint8</td>\n",
       "      <td>175</td>\n",
       "    </tr>\n",
       "    <tr>\n",
       "      <th>1</th>\n",
       "      <td>float64</td>\n",
       "      <td>111</td>\n",
       "    </tr>\n",
       "  </tbody>\n",
       "</table>\n",
       "</div>"
      ],
      "text/plain": [
       "  Column Type  Count\n",
       "0       uint8    175\n",
       "1     float64    111"
      ]
     },
     "execution_count": 50,
     "metadata": {},
     "output_type": "execute_result"
    }
   ],
   "source": [
    "## Join categorical and numerical features\n",
    "x_all = pd.concat([all_num_scaled, all_cat], axis = 1)\n",
    "print(\"New number of features : \" + str(x_all.shape[1]))\n",
    "\n",
    "dtype_df = x_all.dtypes.reset_index()\n",
    "dtype_df.columns = [\"Count\", \"Column Type\"]\n",
    "dtype_df.groupby(\"Column Type\").aggregate('count').reset_index()"
   ]
  },
  {
   "cell_type": "code",
   "execution_count": 51,
   "metadata": {
    "collapsed": true
   },
   "outputs": [],
   "source": [
    "#split to train and test\n",
    "x_train = x_all[:num_train]\n",
    "x_test = x_all[num_train:]"
   ]
  },
  {
   "cell_type": "code",
   "execution_count": 52,
   "metadata": {
    "collapsed": false
   },
   "outputs": [
    {
     "name": "stdout",
     "output_type": "stream",
     "text": [
      "(24316, 286)\n",
      "(6080, 286)\n"
     ]
    }
   ],
   "source": [
    "#split data for training\n",
    "train_x, test_x, train_y, test_y = cross_validation.train_test_split(x_train, y_train, test_size=0.2, random_state=1)\n",
    "print train_x.shape\n",
    "print test_x.shape"
   ]
  },
  {
   "cell_type": "code",
   "execution_count": null,
   "metadata": {
    "collapsed": false
   },
   "outputs": [],
   "source": [
    "#Hyperparameter selection\n",
    "from sklearn.ensemble import RandomForestRegressor\n",
    "from sklearn.model_selection import GridSearchCV\n",
    "\n",
    "param_grid = {\"n_estimators\": [200, 500],\n",
    "              \"max_depth\": [3, None],\n",
    "              \"max_features\": [1, 3, 5, 10],\n",
    "    \"min_samples_split\": [2, 5, 10],\n",
    "    \"min_samples_leaf\": [1, 3, 10],\n",
    "    \"bootstrap\": [True, False]}\n",
    "\n",
    "model = RandomForestRegressor(random_state=0)\n",
    "grid = GridSearchCV(estimator=model, param_grid=param_grid, n_jobs=-1)\n",
    "grid.fit(train_x, train_y)\n",
    "\n",
    "print(grid.best_score_)\n",
    "print(grid.best_params_)"
   ]
  },
  {
   "cell_type": "markdown",
   "metadata": {},
   "source": [
    "### Ramdon Forest Regression"
   ]
  },
  {
   "cell_type": "code",
   "execution_count": null,
   "metadata": {
    "collapsed": false
   },
   "outputs": [],
   "source": [
    "from sklearn.ensemble import RandomForestRegressor\n",
    "rf_est = RandomForestRegressor(random_state=0, n_estimators=500, max_depth=None, max_features=10, \n",
    "                                  min_samples_leaf=3, min_samples_split=10, bootstrap=False)\n",
    "rf_est.fit(train_x, train_y)"
   ]
  },
  {
   "cell_type": "code",
   "execution_count": null,
   "metadata": {
    "collapsed": false
   },
   "outputs": [],
   "source": [
    "rf_est.score(test_x, test_y)"
   ]
  },
  {
   "cell_type": "code",
   "execution_count": null,
   "metadata": {
    "collapsed": false,
    "scrolled": true
   },
   "outputs": [],
   "source": [
    "print(\"RF RMSE on Training set :\", rmse_cv_train(rf_est).mean())\n",
    "print(\"RM RMSE on Test set :\", rmse_cv_test(rf_est).mean())\n",
    "y_train_rf = rf_est.predict(train_x)\n",
    "y_test_rf = rf_est.predict(test_x)"
   ]
  },
  {
   "cell_type": "code",
   "execution_count": null,
   "metadata": {
    "collapsed": false
   },
   "outputs": [],
   "source": [
    "# Plot residuals\n",
    "plt.scatter(y_train_rf, y_train_rf - train_y, c = \"blue\", marker = \"s\", label = \"Training data\")\n",
    "plt.scatter(y_test_rf, y_test_rf - test_y, c = \"lightgreen\", marker = \"s\", label = \"Validation data\")\n",
    "plt.title(\"Tree with Random Forest\")\n",
    "plt.xlabel(\"Predicted values\")\n",
    "plt.ylabel(\"Residuals\")\n",
    "plt.legend(loc = \"upper left\")\n",
    "plt.hlines(y = 0, xmin = 12, xmax = 20, color = \"red\")\n",
    "plt.show()\n",
    "\n",
    "# Plot predictions\n",
    "plt.scatter(y_train_rf, train_y, c = \"blue\", marker = \"s\", label = \"Training data\")\n",
    "plt.scatter(y_test_rf, test_y, c = \"lightgreen\", marker = \"s\", label = \"Validation data\")\n",
    "plt.title(\"Tree with Random Forest\")\n",
    "plt.xlabel(\"Predicted values\")\n",
    "plt.ylabel(\"Real values\")\n",
    "plt.legend(loc = \"upper left\")\n",
    "plt.plot([12, 20], [12, 20], c = \"red\")\n",
    "plt.show()\n",
    "\n",
    "# Plot important feature\n",
    "features = pd.DataFrame()\n",
    "features['features'] = x_train.columns\n",
    "features['importance'] = rf_est.feature_importances_\n",
    "features.sort_values(by=['importance'],ascending=False,inplace=True)\n",
    "fig,ax= plt.subplots()\n",
    "fig.set_size_inches(20,10)\n",
    "plt.xticks(rotation=60)\n",
    "sns.barplot(data=features.head(30),x=\"features\",y=\"importance\",ax=ax,orient=\"v\")"
   ]
  },
  {
   "cell_type": "code",
   "execution_count": null,
   "metadata": {
    "collapsed": false
   },
   "outputs": [],
   "source": [
    "cv_score_rf = cross_validation.cross_val_score(rf_est, test_x, test_y)\n",
    "print cv_score_rf"
   ]
  },
  {
   "cell_type": "code",
   "execution_count": null,
   "metadata": {
    "collapsed": false
   },
   "outputs": [],
   "source": [
    "df_test = pd.read_csv(\"./data/input/test.csv\", usecols =['id'])\n",
    "\n",
    "y_predict = rf_est.predict(x_test)\n",
    "p_y =np.exp(y_predict)-1\n",
    "id_test = df_test.id\n",
    "rf_output = pd.DataFrame({'id': id_test, 'price_doc': p_y})\n",
    "rf_output.head()"
   ]
  },
  {
   "cell_type": "code",
   "execution_count": null,
   "metadata": {
    "collapsed": true
   },
   "outputs": [],
   "source": [
    "rf_output.to_csv('./data/output/RF_dummy.csv', index=False)"
   ]
  },
  {
   "cell_type": "markdown",
   "metadata": {},
   "source": [
    "### GBM"
   ]
  },
  {
   "cell_type": "code",
   "execution_count": null,
   "metadata": {
    "collapsed": false
   },
   "outputs": [],
   "source": [
    "from math import (sqrt,exp,expm1)\n",
    "from sklearn.ensemble import GradientBoostingRegressor\n",
    "from sklearn.grid_search import GridSearchCV,  RandomizedSearchCV\n",
    "from sklearn.model_selection import train_test_split\n",
    "from sklearn.feature_selection import SelectFromModel\n",
    "from sklearn.metrics import mean_squared_error\n",
    "from sklearn import cross_validation, metrics \n",
    "#Additional scklearn functions\n",
    "%matplotlib inline\n",
    "import matplotlib.pylab as plt\n",
    "import numpy as np\n",
    "from scipy import sparse\n",
    "from sklearn.datasets import make_classification, make_blobs, load_boston, fetch_california_housing\n",
    "from sklearn.decomposition import PCA\n",
    "from sklearn.cross_validation import ShuffleSplit, train_test_split\n",
    "from sklearn import metrics\n",
    "from sklearn.learning_curve import learning_curve\n",
    "from sklearn.linear_model import LinearRegression\n",
    "from sklearn.ensemble import GradientBoostingRegressor\n",
    "from sklearn.grid_search import GridSearchCV\n",
    "from pprint import pprint\n",
    "import pandas as pd\n",
    "from pandas.tools.plotting import scatter_matrix\n",
    "import urllib\n",
    "import requests\n",
    "import zipfile\n",
    "import StringIO\n",
    "import seaborn"
   ]
  },
  {
   "cell_type": "code",
   "execution_count": null,
   "metadata": {
    "collapsed": true
   },
   "outputs": [],
   "source": [
    "gbrt= GradientBoostingRegressor(n_estimators=100)\n",
    "gbrt.fit(train_x,train_y)\n",
    "y_pred = gbrt.predict(test_x)"
   ]
  },
  {
   "cell_type": "code",
   "execution_count": null,
   "metadata": {
    "collapsed": false
   },
   "outputs": [],
   "source": [
    "print \"Feature Importance\"\n",
    "print gbrt.feature_importances_\n",
    "print\n",
    "print \"R-squared for Train: %.2f\" %gbrt.score(train_x,train_y)\n",
    "print \"R-squared for Test: %.2f\" %gbrt.score(test_x,test_y)"
   ]
  },
  {
   "cell_type": "code",
   "execution_count": null,
   "metadata": {
    "collapsed": true
   },
   "outputs": [],
   "source": [
    "def GradientBooster(param_grid, n_jobs): \n",
    "    estimator = GradientBoostingRegressor() \n",
    "    #for each iteration. There are other methods like the KFold split. \n",
    "    cv = ShuffleSplit(train_x.shape[0], n_iter=10, test_size=0.2) \n",
    "    classifier = GridSearchCV(estimator=estimator, cv=cv, param_grid=param_grid, n_jobs=n_jobs) \n",
    "    classifier.fit(train_x, train_y) \n",
    "    #Let's look at the best estimator that was found by GridSearchCV \n",
    "    print \"Best Estimator learned through GridSearch\"\n",
    "    print classifier.best_estimator_ \n",
    "    return cv, classifier.best_estimator_"
   ]
  },
  {
   "cell_type": "code",
   "execution_count": null,
   "metadata": {
    "collapsed": true
   },
   "outputs": [],
   "source": [
    "import numpy as np\n",
    "import matplotlib.pyplot as plt\n",
    "from sklearn import cross_validation\n",
    "from sklearn.naive_bayes import GaussianNB\n",
    "from sklearn.datasets import load_digits\n",
    "from sklearn.learning_curve import learning_curve\n",
    "\n",
    "\n",
    "def plot_learning_curve(estimator, title, X, y, ylim=None, cv=None,\n",
    "                        n_jobs=1, train_sizes=np.linspace(.1, 1.0, 5)):\n",
    "    \"\"\"\n",
    "    Generate a simple plot of the test and traning learning curve.\n",
    "\n",
    "    Parameters\n",
    "    ----------\n",
    "    estimator : object type that implements the \"fit\" and \"predict\" methods\n",
    "        An object of that type which is cloned for each validation.\n",
    "\n",
    "    title : string\n",
    "        Title for the chart.\n",
    "\n",
    "    X : array-like, shape (n_samples, n_features)\n",
    "        Training vector, where n_samples is the number of samples and\n",
    "        n_features is the number of features.\n",
    "\n",
    "    y : array-like, shape (n_samples) or (n_samples, n_features), optional\n",
    "        Target relative to X for classification or regression;\n",
    "        None for unsupervised learning.\n",
    "\n",
    "    ylim : tuple, shape (ymin, ymax), optional\n",
    "        Defines minimum and maximum yvalues plotted.\n",
    "\n",
    "    cv : integer, cross-validation generator, optional\n",
    "        If an integer is passed, it is the number of folds (defaults to 3).\n",
    "        Specific cross-validation objects can be passed, see\n",
    "        sklearn.cross_validation module for the list of possible objects\n",
    "\n",
    "    n_jobs : integer, optional\n",
    "        Number of jobs to run in parallel (default 1).\n",
    "    \"\"\"\n",
    "    plt.figure()\n",
    "    plt.title(title)\n",
    "    if ylim is not None:\n",
    "        plt.ylim(*ylim)\n",
    "    plt.xlabel(\"Training examples\")\n",
    "    plt.ylabel(\"Score\")\n",
    "    train_sizes, train_scores, test_scores = learning_curve(\n",
    "        estimator, X, y, cv=cv, n_jobs=n_jobs, train_sizes=train_sizes)\n",
    "    train_scores_mean = np.mean(train_scores, axis=1)\n",
    "    train_scores_std = np.std(train_scores, axis=1)\n",
    "    test_scores_mean = np.mean(test_scores, axis=1)\n",
    "    test_scores_std = np.std(test_scores, axis=1)\n",
    "    plt.grid()\n",
    "\n",
    "    plt.fill_between(train_sizes, train_scores_mean - train_scores_std,\n",
    "                     train_scores_mean + train_scores_std, alpha=0.1,\n",
    "                     color=\"r\")\n",
    "    plt.fill_between(train_sizes, test_scores_mean - test_scores_std,\n",
    "                     test_scores_mean + test_scores_std, alpha=0.1, color=\"g\")\n",
    "    plt.plot(train_sizes, train_scores_mean, 'o-', color=\"r\",\n",
    "             label=\"Training score\")\n",
    "    plt.plot(train_sizes, test_scores_mean, 'o-', color=\"g\",\n",
    "             label=\"Cross-validation score\")\n",
    "\n",
    "    plt.legend(loc=\"best\")\n",
    "    return plt"
   ]
  },
  {
   "cell_type": "code",
   "execution_count": null,
   "metadata": {
    "collapsed": false
   },
   "outputs": [],
   "source": [
    "param_grid={'n_estimators':[300], \n",
    "            'learning_rate': [0.02],# 0.05, 0.02, 0.01],\n",
    "            'max_depth':[6],#4,6], \n",
    "            'min_samples_leaf':[5],#,5,9,17], \n",
    "            'max_features':[0.5],#,0.3]#,0.1]\n",
    "           }\n",
    "n_jobs=4\n",
    "\n",
    "#Let's fit GBRT to the digits training dataset by calling the function we just created.\n",
    "cv,best_est=GradientBooster(param_grid, n_jobs)"
   ]
  },
  {
   "cell_type": "code",
   "execution_count": null,
   "metadata": {
    "collapsed": false
   },
   "outputs": [],
   "source": [
    "best_est.fit(train_x, train_y)\n",
    "\n",
    "print \"Best Estimator Parameters\"\n",
    "print\"---------------------------\"\n",
    "print \"n_estimators: %d\" %best_est.n_estimators\n",
    "print \"max_depth: %d\" %best_est.max_depth\n",
    "print \"Learning Rate: %.1f\" %best_est.learning_rate\n",
    "print \"min_samples_leaf: %d\" %best_est.min_samples_leaf\n",
    "print \"max_features: %.1f\" %best_est.max_features\n",
    "\n",
    "print\n",
    "print \"Train R-squared: %.2f\" %best_est.score(train_x,train_y)\n",
    "print \"Test R-squared: %.2f\" %best_est.score(test_x,test_y)"
   ]
  },
  {
   "cell_type": "code",
   "execution_count": null,
   "metadata": {
    "collapsed": false,
    "scrolled": true
   },
   "outputs": [],
   "source": [
    "print(\"GBM RMSE on Training set :\", rmse_cv_train(best_est).mean())\n",
    "print(\"GBM RMSE on Test set :\", rmse_cv_test(best_est).mean())\n",
    "y_train_gbm = best_est.predict(train_x)\n",
    "y_test_gbm = best_est.predict(test_x)"
   ]
  },
  {
   "cell_type": "code",
   "execution_count": null,
   "metadata": {
    "collapsed": false
   },
   "outputs": [],
   "source": [
    "# Plot residuals\n",
    "plt.scatter(y_train_gbm, y_train_gbm - train_y, c = \"blue\", marker = \"s\", label = \"Training data\")\n",
    "plt.scatter(y_test_gbm, y_test_gbm - test_y, c = \"lightgreen\", marker = \"s\", label = \"Validation data\")\n",
    "plt.title(\"Tree with Gradian Boosting\")\n",
    "plt.xlabel(\"Predicted values\")\n",
    "plt.ylabel(\"Residuals\")\n",
    "plt.legend(loc = \"upper left\")\n",
    "plt.hlines(y = 0, xmin = 12, xmax = 20, color = \"red\")\n",
    "plt.show()\n",
    "\n",
    "# Plot predictions\n",
    "plt.scatter(y_train_gbm, train_y, c = \"blue\", marker = \"s\", label = \"Training data\")\n",
    "plt.scatter(y_test_gbm, test_y, c = \"lightgreen\", marker = \"s\", label = \"Validation data\")\n",
    "plt.title(\"Tree with Gradian Boosting\")\n",
    "plt.xlabel(\"Predicted values\")\n",
    "plt.ylabel(\"Real values\")\n",
    "plt.legend(loc = \"upper left\")\n",
    "plt.plot([12, 20], [12, 20], c = \"red\")\n",
    "plt.show()\n",
    "\n",
    "# Plot important feature\n",
    "features = pd.DataFrame()\n",
    "features['features'] = x_train.columns\n",
    "features['importance'] = best_est.feature_importances_\n",
    "features.sort_values(by=['importance'],ascending=False,inplace=True)\n",
    "fig,ax= plt.subplots()\n",
    "fig.set_size_inches(20,10)\n",
    "plt.xticks(rotation=60)\n",
    "sns.barplot(data=features.head(30),x=\"features\",y=\"importance\",ax=ax,orient=\"v\")"
   ]
  },
  {
   "cell_type": "code",
   "execution_count": null,
   "metadata": {
    "collapsed": false
   },
   "outputs": [],
   "source": [
    "cv_score_gbm = cross_validation.cross_val_score(best_est, test_x, test_y)\n",
    "print cv_score_gbm"
   ]
  },
  {
   "cell_type": "code",
   "execution_count": null,
   "metadata": {
    "collapsed": false
   },
   "outputs": [],
   "source": [
    "df_test = pd.read_csv(\"./data/input/test.csv\", usecols =['id'])\n",
    "\n",
    "y_predict = best_est.predict(x_test)\n",
    "p_y =np.exp(y_predict)-1\n",
    "id_test = df_test.id\n",
    "gbm_output = pd.DataFrame({'id': id_test, 'price_doc': p_y})\n",
    "gbm_output.head()"
   ]
  },
  {
   "cell_type": "code",
   "execution_count": null,
   "metadata": {
    "collapsed": true
   },
   "outputs": [],
   "source": [
    "gbm_output.to_csv('./data/output/GBM_dummy.csv', index=False)"
   ]
  },
  {
   "cell_type": "markdown",
   "metadata": {},
   "source": [
    "### XGB"
   ]
  },
  {
   "cell_type": "code",
   "execution_count": null,
   "metadata": {
    "collapsed": false
   },
   "outputs": [],
   "source": [
    "#import xgboost as xgb"
   ]
  },
  {
   "cell_type": "code",
   "execution_count": null,
   "metadata": {
    "collapsed": false
   },
   "outputs": [],
   "source": [
    "'''dtrain = xgb.DMatrix(x_train, label = y_train)\n",
    "dtest = xgb.DMatrix(x_test)\n",
    "\n",
    "params = {\"max_depth\":2, \"eta\":0.1}\n",
    "model = xgb.cv(params, dtrain,  num_boost_round=500, early_stopping_rounds=100)'''"
   ]
  },
  {
   "cell_type": "code",
   "execution_count": null,
   "metadata": {
    "collapsed": true
   },
   "outputs": [],
   "source": []
  }
 ],
 "metadata": {
  "kernelspec": {
   "display_name": "Python 2",
   "language": "python",
   "name": "python2"
  },
  "language_info": {
   "codemirror_mode": {
    "name": "ipython",
    "version": 2
   },
   "file_extension": ".py",
   "mimetype": "text/x-python",
   "name": "python",
   "nbconvert_exporter": "python",
   "pygments_lexer": "ipython2",
   "version": "2.7.13"
  }
 },
 "nbformat": 4,
 "nbformat_minor": 2
}
